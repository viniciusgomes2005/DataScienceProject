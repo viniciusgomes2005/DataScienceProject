{
 "cells": [
  {
   "cell_type": "markdown",
   "metadata": {},
   "source": [
    "# Projeto 1 - Ciência dos Dados"
   ]
  },
  {
   "cell_type": "markdown",
   "metadata": {},
   "source": [
    "Nome: Vinícius de Barros Gomes\n",
    "\n",
    "Nome: Gabriel Nakano Fujihara\n",
    "\n",
    "Nome: Pedro Roberto Fernandes Noronha"
   ]
  },
  {
   "cell_type": "markdown",
   "metadata": {},
   "source": [
    "Atenção: Serão permitidos grupos de três pessoas, mas com uma rubrica mais exigente. Grupos deste tamanho precisarão fazer um questionário de avaliação de trabalho em equipe"
   ]
  },
  {
   "cell_type": "markdown",
   "metadata": {},
   "source": [
    "___\n",
    "Carregando algumas bibliotecas:"
   ]
  },
  {
   "cell_type": "code",
   "execution_count": 1,
   "metadata": {},
   "outputs": [],
   "source": [
    "%matplotlib inline\n",
    "import pandas as pd\n",
    "import matplotlib.pyplot as plt\n",
    "import numpy as np\n",
    "import os\n",
    "import re\n",
    "from unidecode import unidecode\n",
    "from sklearn.model_selection import train_test_split"
   ]
  },
  {
   "cell_type": "code",
   "execution_count": 2,
   "metadata": {
    "scrolled": false
   },
   "outputs": [
    {
     "name": "stdout",
     "output_type": "stream",
     "text": [
      "Esperamos trabalhar no diretório\n",
      "c:\\Users\\gabri\\OneDrive - Insper - Institudo de Ensino e Pesquisa\\Insper\\2023\\1-semestre\\DSoft(desing de software)\\DataScienceProject\n"
     ]
    }
   ],
   "source": [
    "print('Esperamos trabalhar no diretório')\n",
    "print(os.getcwd())"
   ]
  },
  {
   "cell_type": "markdown",
   "metadata": {},
   "source": [
    "Carregando a base de dados com os tweets classificados manualmente:"
   ]
  },
  {
   "cell_type": "code",
   "execution_count": 3,
   "metadata": {},
   "outputs": [
    {
     "data": {
      "text/html": [
       "<div>\n",
       "<style scoped>\n",
       "    .dataframe tbody tr th:only-of-type {\n",
       "        vertical-align: middle;\n",
       "    }\n",
       "\n",
       "    .dataframe tbody tr th {\n",
       "        vertical-align: top;\n",
       "    }\n",
       "\n",
       "    .dataframe thead th {\n",
       "        text-align: right;\n",
       "    }\n",
       "</style>\n",
       "<table border=\"1\" class=\"dataframe\">\n",
       "  <thead>\n",
       "    <tr style=\"text-align: right;\">\n",
       "      <th></th>\n",
       "      <th>Mensagem</th>\n",
       "      <th>Target (Loja e Sistema, Entrega,Conteudo)</th>\n",
       "    </tr>\n",
       "  </thead>\n",
       "  <tbody>\n",
       "    <tr>\n",
       "      <th>0</th>\n",
       "      <td>Não li, até pq não consegui baixar. Vcs podem ...</td>\n",
       "      <td>Loja e Sistema</td>\n",
       "    </tr>\n",
       "    <tr>\n",
       "      <th>1</th>\n",
       "      <td>Não tem nada indicando que é em português de P...</td>\n",
       "      <td>Loja e Sistema</td>\n",
       "    </tr>\n",
       "    <tr>\n",
       "      <th>2</th>\n",
       "      <td>Produto horrível, veio com várias páginas em b...</td>\n",
       "      <td>Entrega</td>\n",
       "    </tr>\n",
       "    <tr>\n",
       "      <th>3</th>\n",
       "      <td>O minimo é não ler esse livro</td>\n",
       "      <td>Conteúdo do Livro</td>\n",
       "    </tr>\n",
       "    <tr>\n",
       "      <th>4</th>\n",
       "      <td>Parece que o autor não leu o próprio livro!! 🙄</td>\n",
       "      <td>Conteúdo do Livro</td>\n",
       "    </tr>\n",
       "  </tbody>\n",
       "</table>\n",
       "</div>"
      ],
      "text/plain": [
       "                                            Mensagem  \\\n",
       "0  Não li, até pq não consegui baixar. Vcs podem ...   \n",
       "1  Não tem nada indicando que é em português de P...   \n",
       "2  Produto horrível, veio com várias páginas em b...   \n",
       "3                      O minimo é não ler esse livro   \n",
       "4     Parece que o autor não leu o próprio livro!! 🙄   \n",
       "\n",
       "  Target (Loja e Sistema, Entrega,Conteudo)  \n",
       "0                            Loja e Sistema  \n",
       "1                            Loja e Sistema  \n",
       "2                                   Entrega  \n",
       "3                         Conteúdo do Livro  \n",
       "4                         Conteúdo do Livro  "
      ]
     },
     "execution_count": 3,
     "metadata": {},
     "output_type": "execute_result"
    }
   ],
   "source": [
    "train = pd.read_excel('dados_treino.xlsx')\n",
    "train.head(5)\n"
   ]
  },
  {
   "cell_type": "code",
   "execution_count": 4,
   "metadata": {},
   "outputs": [
    {
     "data": {
      "text/html": [
       "<div>\n",
       "<style scoped>\n",
       "    .dataframe tbody tr th:only-of-type {\n",
       "        vertical-align: middle;\n",
       "    }\n",
       "\n",
       "    .dataframe tbody tr th {\n",
       "        vertical-align: top;\n",
       "    }\n",
       "\n",
       "    .dataframe thead th {\n",
       "        text-align: right;\n",
       "    }\n",
       "</style>\n",
       "<table border=\"1\" class=\"dataframe\">\n",
       "  <thead>\n",
       "    <tr style=\"text-align: right;\">\n",
       "      <th></th>\n",
       "      <th>Mensagem</th>\n",
       "      <th>Target (Loja e Sistema, Entrega,Conteudo)</th>\n",
       "    </tr>\n",
       "  </thead>\n",
       "  <tbody>\n",
       "    <tr>\n",
       "      <th>0</th>\n",
       "      <td>Apesar da narrativa prender o leitor, os argum...</td>\n",
       "      <td>Conteúdo do Livro</td>\n",
       "    </tr>\n",
       "    <tr>\n",
       "      <th>1</th>\n",
       "      <td>A formatação desse ebook atrapalha muito a lei...</td>\n",
       "      <td>Loja e Sistema</td>\n",
       "    </tr>\n",
       "    <tr>\n",
       "      <th>2</th>\n",
       "      <td>Não é o primeiro livro da Record que oxida em ...</td>\n",
       "      <td>Entrega</td>\n",
       "    </tr>\n",
       "    <tr>\n",
       "      <th>3</th>\n",
       "      <td>O hype que envolve esse livro é ENORME então e...</td>\n",
       "      <td>Conteúdo do Livro</td>\n",
       "    </tr>\n",
       "    <tr>\n",
       "      <th>4</th>\n",
       "      <td>meu deus, essa escritora conseguiu estragar um...</td>\n",
       "      <td>Conteúdo do Livro</td>\n",
       "    </tr>\n",
       "  </tbody>\n",
       "</table>\n",
       "</div>"
      ],
      "text/plain": [
       "                                            Mensagem  \\\n",
       "0  Apesar da narrativa prender o leitor, os argum...   \n",
       "1  A formatação desse ebook atrapalha muito a lei...   \n",
       "2  Não é o primeiro livro da Record que oxida em ...   \n",
       "3  O hype que envolve esse livro é ENORME então e...   \n",
       "4  meu deus, essa escritora conseguiu estragar um...   \n",
       "\n",
       "  Target (Loja e Sistema, Entrega,Conteudo)  \n",
       "0                         Conteúdo do Livro  \n",
       "1                            Loja e Sistema  \n",
       "2                                   Entrega  \n",
       "3                         Conteúdo do Livro  \n",
       "4                         Conteúdo do Livro  "
      ]
     },
     "execution_count": 4,
     "metadata": {},
     "output_type": "execute_result"
    }
   ],
   "source": [
    "test = pd.read_excel('dados_teste.xlsx')\n",
    "test.head(5)"
   ]
  },
  {
   "cell_type": "markdown",
   "metadata": {},
   "source": [
    "___\n",
    "## Classificador automático\n"
   ]
  },
  {
   "cell_type": "markdown",
   "metadata": {},
   "source": [
    "\n",
    "Faça aqui uma descrição do seu assunto e o que considerou como relevante ou não relevante na classificação dos tweets (Target).\n",
    "\n",
    "Buscamos avaliar se os livros oferecidos pela amazon são ou não bons, portanto, foi ignorado quando haviam críticas exclusivamente ao serviço da amazon, como entrega e ou qualidade física do produto."
   ]
  },
  {
   "cell_type": "markdown",
   "metadata": {},
   "source": [
    "___\n",
    "### Montando um Classificador Naive-Bayes\n",
    "\n",
    "Considerando apenas as mensagens da planilha Treinamento, ensine  seu classificador."
   ]
  },
  {
   "cell_type": "code",
   "execution_count": 5,
   "metadata": {},
   "outputs": [],
   "source": [
    "def cleanup(text):\n",
    "    text=text.lower()\n",
    "    punctuation = '[´\"!-.:?;$''<>]' # Note que os sinais [] são delimitadores de um conjunto.\n",
    "    pattern = re.compile(punctuation)\n",
    "    text_subbed = re.sub(pattern, '', text)\n",
    "    return text_subbed\n",
    "\n",
    "def remover_acentos(texto):\n",
    "    # Use unidecode para remover acentos e converter caracteres especiais para caracteres ASCII\n",
    "    texto_sem_acentos = unidecode(texto)\n",
    "    return texto_sem_acentos\n"
   ]
  },
  {
   "cell_type": "code",
   "execution_count": 6,
   "metadata": {},
   "outputs": [],
   "source": [
    "#Limpa o df\n",
    "def df0(df):\n",
    "    df['Mensagem'] = df['Mensagem'].apply(cleanup)\n",
    "    df['Mensagem'] = df['Mensagem'].apply(remover_acentos)\n",
    "    novo_df = pd.concat([df[['Mensagem']], df[['Target (Loja e Sistema, Entrega,Conteudo)']]], axis=1)\n",
    "    return novo_df\n",
    "train=df0(train)\n",
    "train['Mensagem']=train['Mensagem'].astype('category')"
   ]
  },
  {
   "cell_type": "code",
   "execution_count": 7,
   "metadata": {},
   "outputs": [],
   "source": [
    "df_Loja_Sistema=train.loc[train[\"Target (Loja e Sistema, Entrega,Conteudo)\"]=='Loja e Sistema']\n",
    "df_Entrega=train.loc[train[\"Target (Loja e Sistema, Entrega,Conteudo)\"]=='Entrega']\n",
    "df_Conteudo=train.loc[train[\"Target (Loja e Sistema, Entrega,Conteudo)\"]=='Conteúdo do Livro']\n",
    "quant_loja=len(df_Loja_Sistema)\n",
    "quant_Conteudo=len(df_Conteudo)\n",
    "quant_Entrega=len(df_Entrega)\n"
   ]
  },
  {
   "cell_type": "code",
   "execution_count": 8,
   "metadata": {},
   "outputs": [],
   "source": [
    "#Conta a quantidade de palavras dentro de um dataframe\n",
    "def ll(df):\n",
    "    todas_as_frases=df[\"Mensagem\"]\n",
    "    todas_as_palavras = []\n",
    "    for i in todas_as_frases:\n",
    "        frase=[]\n",
    "        x=i.split(\" \")\n",
    "        for u in x:\n",
    "            if u not in frase:\n",
    "                frase.append(u)\n",
    "        for d in frase:\n",
    "            todas_as_palavras.append(d)\n",
    "    todas_as_palavrasSeries=pd.Series(todas_as_palavras)\n",
    "    return todas_as_palavrasSeries.value_counts()\n",
    "quant_palavras_Entrega= ll(df_Entrega)\n",
    "quant_palavras_Conteudo= ll(df_Conteudo)\n",
    "quant_palavras_Loja= ll(df_Loja_Sistema)"
   ]
  },
  {
   "cell_type": "code",
   "execution_count": 9,
   "metadata": {},
   "outputs": [],
   "source": [
    "quantidade_total=quant_loja + quant_Conteudo + quant_Entrega\n",
    "def laplace(x,q):\n",
    "    return (x+1)/(q+quantidade_total)"
   ]
  },
  {
   "cell_type": "code",
   "execution_count": 10,
   "metadata": {},
   "outputs": [
    {
     "name": "stdout",
     "output_type": "stream",
     "text": [
      "0.0008453085376162299\n",
      "0.001184834123222749\n",
      "0.0011668611435239206\n",
      "Entrega\n"
     ]
    }
   ],
   "source": [
    "frase=str(input('frase:'))\n",
    "frase=cleanup(frase)\n",
    "frase=remover_acentos(frase)\n",
    "frase=frase.lower()\n",
    "palavras=frase.split(' ')\n",
    "prob_Loja_Sistema=1\n",
    "prob_Entrega=1\n",
    "prob_Conteudo=1\n",
    "for palavra in palavras:\n",
    "    if palavra in quant_palavras_Loja:\n",
    "        prob_Loja_Sistema*=(quant_palavras_Loja[palavra]/quant_loja)\n",
    "    else:\n",
    "        prob_Loja_Sistema*=laplace(0,quant_loja)\n",
    "for palavra in palavras:\n",
    "    if palavra in quant_palavras_Entrega:\n",
    "        prob_Entrega*=(quant_palavras_Entrega[palavra]/quant_Entrega)\n",
    "    else:\n",
    "        prob_Entrega*=laplace(0,quant_Entrega)\n",
    "for palavra in palavras:\n",
    "    if palavra in quant_palavras_Conteudo:\n",
    "        prob_Conteudo*=(quant_palavras_Conteudo[palavra]/quant_Conteudo)\n",
    "    else:\n",
    "        prob_Conteudo*=laplace(0,quant_Conteudo)\n",
    "print(prob_Conteudo)\n",
    "print(prob_Entrega)\n",
    "print(prob_Loja_Sistema)\n",
    "maior_prob=max(prob_Conteudo , prob_Entrega , prob_Loja_Sistema)\n",
    "if maior_prob==prob_Conteudo:\n",
    "    print(\"Conteúdo do Livro\")\n",
    "elif maior_prob==prob_Entrega:\n",
    "    print(\"Entrega\")\n",
    "elif maior_prob==prob_Loja_Sistema:\n",
    "    print(\"Loja e Sistema\")"
   ]
  },
  {
   "cell_type": "code",
   "execution_count": 11,
   "metadata": {},
   "outputs": [
    {
     "data": {
      "text/html": [
       "<div>\n",
       "<style scoped>\n",
       "    .dataframe tbody tr th:only-of-type {\n",
       "        vertical-align: middle;\n",
       "    }\n",
       "\n",
       "    .dataframe tbody tr th {\n",
       "        vertical-align: top;\n",
       "    }\n",
       "\n",
       "    .dataframe thead th {\n",
       "        text-align: right;\n",
       "    }\n",
       "</style>\n",
       "<table border=\"1\" class=\"dataframe\">\n",
       "  <thead>\n",
       "    <tr style=\"text-align: right;\">\n",
       "      <th></th>\n",
       "      <th>Mensagem</th>\n",
       "      <th>Respostas</th>\n",
       "    </tr>\n",
       "  </thead>\n",
       "  <tbody>\n",
       "    <tr>\n",
       "      <th>0</th>\n",
       "      <td>Apesar da narrativa prender o leitor, os argum...</td>\n",
       "      <td>Conteúdo do Livro</td>\n",
       "    </tr>\n",
       "    <tr>\n",
       "      <th>1</th>\n",
       "      <td>A formatação desse ebook atrapalha muito a lei...</td>\n",
       "      <td>Loja e Sistema</td>\n",
       "    </tr>\n",
       "    <tr>\n",
       "      <th>2</th>\n",
       "      <td>Não é o primeiro livro da Record que oxida em ...</td>\n",
       "      <td>Conteúdo do Livro</td>\n",
       "    </tr>\n",
       "    <tr>\n",
       "      <th>3</th>\n",
       "      <td>O hype que envolve esse livro é ENORME então e...</td>\n",
       "      <td>Conteúdo do Livro</td>\n",
       "    </tr>\n",
       "    <tr>\n",
       "      <th>4</th>\n",
       "      <td>meu deus, essa escritora conseguiu estragar um...</td>\n",
       "      <td>Conteúdo do Livro</td>\n",
       "    </tr>\n",
       "    <tr>\n",
       "      <th>...</th>\n",
       "      <td>...</td>\n",
       "      <td>...</td>\n",
       "    </tr>\n",
       "    <tr>\n",
       "      <th>245</th>\n",
       "      <td>&lt;a class=\"a-link-normal\" data-hook=\"product-li...</td>\n",
       "      <td>Entrega</td>\n",
       "    </tr>\n",
       "    <tr>\n",
       "      <th>246</th>\n",
       "      <td>O livro tem muitas coisas boas sobre o assunto...</td>\n",
       "      <td>Conteúdo do Livro</td>\n",
       "    </tr>\n",
       "    <tr>\n",
       "      <th>247</th>\n",
       "      <td>Infelizmente a história é fraca e a escrita de...</td>\n",
       "      <td>Conteúdo do Livro</td>\n",
       "    </tr>\n",
       "    <tr>\n",
       "      <th>248</th>\n",
       "      <td>Ao longo do livro me senti extremamente mal ao...</td>\n",
       "      <td>Conteúdo do Livro</td>\n",
       "    </tr>\n",
       "    <tr>\n",
       "      <th>249</th>\n",
       "      <td>Apesar do enorme apreço que tenho por Mário S....</td>\n",
       "      <td>Conteúdo do Livro</td>\n",
       "    </tr>\n",
       "  </tbody>\n",
       "</table>\n",
       "<p>250 rows × 2 columns</p>\n",
       "</div>"
      ],
      "text/plain": [
       "                                              Mensagem          Respostas\n",
       "0    Apesar da narrativa prender o leitor, os argum...  Conteúdo do Livro\n",
       "1    A formatação desse ebook atrapalha muito a lei...     Loja e Sistema\n",
       "2    Não é o primeiro livro da Record que oxida em ...  Conteúdo do Livro\n",
       "3    O hype que envolve esse livro é ENORME então e...  Conteúdo do Livro\n",
       "4    meu deus, essa escritora conseguiu estragar um...  Conteúdo do Livro\n",
       "..                                                 ...                ...\n",
       "245  <a class=\"a-link-normal\" data-hook=\"product-li...            Entrega\n",
       "246  O livro tem muitas coisas boas sobre o assunto...  Conteúdo do Livro\n",
       "247  Infelizmente a história é fraca e a escrita de...  Conteúdo do Livro\n",
       "248  Ao longo do livro me senti extremamente mal ao...  Conteúdo do Livro\n",
       "249  Apesar do enorme apreço que tenho por Mário S....  Conteúdo do Livro\n",
       "\n",
       "[250 rows x 2 columns]"
      ]
     },
     "execution_count": 11,
     "metadata": {},
     "output_type": "execute_result"
    }
   ],
   "source": [
    "#Classificando o dataframe teste com o classificador\n",
    "def classifica(df):\n",
    "    df_Loja_Sistema=train.loc[train[\"Target (Loja e Sistema, Entrega,Conteudo)\"]=='Loja e Sistema']\n",
    "    df_Entrega=train.loc[train[\"Target (Loja e Sistema, Entrega,Conteudo)\"]=='Entrega']\n",
    "    df_Conteudo=train.loc[train[\"Target (Loja e Sistema, Entrega,Conteudo)\"]=='Conteúdo do Livro']\n",
    "    quant_loja=len(df_Loja_Sistema)\n",
    "    quant_Conteudo=len(df_Conteudo)\n",
    "    quant_Entrega=len(df_Entrega)\n",
    "    quant_palavras_Entrega= ll(df_Entrega)\n",
    "    quant_palavras_Conteudo= ll(df_Conteudo)\n",
    "    quant_palavras_Loja= ll(df_Loja_Sistema)\n",
    "    df['Mensagem']=df['Mensagem'].astype('category')\n",
    "    coluna_de_resposta=[]\n",
    "    for frase in df[\"Mensagem\"]:\n",
    "        frase=cleanup(frase)\n",
    "        frase=remover_acentos(frase)\n",
    "        frase=frase.lower()\n",
    "        palavras=frase.split(' ')\n",
    "        prob_Loja_Sistema=1\n",
    "        prob_Entrega=1\n",
    "        prob_Conteudo=1\n",
    "        for palavra in palavras:\n",
    "            if palavra in quant_palavras_Loja:\n",
    "                prob_Loja_Sistema*=(quant_palavras_Loja[palavra]/quant_loja)\n",
    "            else:\n",
    "                prob_Loja_Sistema*=laplace(0,quant_loja)\n",
    "        for palavra in palavras:\n",
    "            if palavra in quant_palavras_Entrega:\n",
    "                prob_Entrega*=(quant_palavras_Entrega[palavra]/quant_Entrega)\n",
    "            else:\n",
    "                prob_Entrega*=laplace(0,quant_Entrega)\n",
    "        for palavra in palavras:\n",
    "            if palavra in quant_palavras_Conteudo:\n",
    "                prob_Conteudo*=(quant_palavras_Conteudo[palavra]/quant_Conteudo)\n",
    "            else:\n",
    "                prob_Conteudo*=laplace(0,quant_Conteudo)\n",
    "        maior_prob=max(prob_Conteudo , prob_Entrega , prob_Loja_Sistema)\n",
    "        if maior_prob==prob_Conteudo:\n",
    "            coluna_de_resposta.append('Conteúdo do Livro')\n",
    "        elif maior_prob==prob_Entrega:\n",
    "            coluna_de_resposta.append(\"Entrega\")\n",
    "        elif maior_prob==prob_Loja_Sistema:\n",
    "            coluna_de_resposta.append(\"Loja e Sistema\")\n",
    "    coluna_de_resposta_Series=pd.Series(coluna_de_resposta)\n",
    "    df['Respostas']=coluna_de_resposta_Series\n",
    "    novo_df = pd.concat([df['Mensagem'],df['Respostas']], axis=1)\n",
    "    return novo_df\n",
    "\n",
    "classifica(test)"
   ]
  },
  {
   "cell_type": "markdown",
   "metadata": {},
   "source": [
    "___\n",
    "### Verificando a performance do Classificador\n",
    "\n",
    "Agora você deve testar o seu classificador com a base de Testes."
   ]
  },
  {
   "cell_type": "markdown",
   "metadata": {},
   "source": []
  },
  {
   "cell_type": "code",
   "execution_count": 14,
   "metadata": {},
   "outputs": [],
   "source": [
    "#Obtem as classificações certas e erradas da função classificador\n",
    "resposta_do_classifica = classifica(test) \n",
    "resposta_do_classifica  =resposta_do_classifica['Respostas']\n",
    "resposta_real = test['Target (Loja e Sistema, Entrega,Conteudo)']\n",
    "\n",
    "acerto_conteudo = 0\n",
    "acerto_entrega = 0\n",
    "acerto_loja  = 0\n",
    "numero_de_conteudo = 0\n",
    "numero_de_entrega = 0\n",
    "numero_de_loja = 0\n",
    "\n",
    "for x in range( len (resposta_real)):\n",
    "    if resposta_real.iloc[x] == 'Entrega' :\n",
    "        numero_de_entrega += 1\n",
    "        if resposta_do_classifica.iloc[x] == resposta_real.iloc[x]:\n",
    "            acerto_entrega += 1\n",
    "    elif resposta_real.iloc[x] == 'Loja e Sistema':\n",
    "        numero_de_loja += 1\n",
    "        if resposta_do_classifica.iloc[x] == resposta_real.iloc[x]:\n",
    "            acerto_loja += 1\n",
    "    elif resposta_real.iloc[x] == 'Conteúdo do Livro':\n",
    "        numero_de_conteudo += 1\n",
    "        if resposta_do_classifica.iloc[x] == resposta_real.iloc[x]:\n",
    "            acerto_conteudo += 1"
   ]
  },
  {
   "cell_type": "code",
   "execution_count": 28,
   "metadata": {},
   "outputs": [
    {
     "name": "stdout",
     "output_type": "stream",
     "text": [
      "A probabilidade de ser uma mensagem de Entrega verdadeira é de 86.67%\n",
      "A probabilidade de ser uma mensagem de Conteúdo do Livro verdadeira é de 95.86%\n",
      "A probabilidade de ser uma mensagem de Loja e Sistema verdadeira é de 56.86%\n",
      "A probabilidade de não ser uma mensagem de Entrega verdadeira é de 13.33%\n",
      "A probabilidade de não ser uma mensagem de Conteúdo do Livro verdadeira é de 95.86%\n",
      "A probabilidade de não ser uma mensagem de Loja e Sistema verdadeira é de 56.86%\n"
     ]
    }
   ],
   "source": [
    "#calcula as probabilidades das classificações estarem erradas\n",
    "probabilidade_verdadeiro_Entrega = acerto_entrega / numero_de_entrega\n",
    "probabilidade_verdadeiro_loja=acerto_loja/numero_de_loja\n",
    "probabilidade_verdadeiro_conteudo=acerto_conteudo/numero_de_conteudo\n",
    "probabilidade_falso_Entrega=(numero_de_entrega-acerto_entrega)/numero_de_entrega\n",
    "probabilidade_falso_loja=(numero_de_loja-acerto_loja)/numero_de_loja\n",
    "probabilidade_falso_conteudo=(numero_de_conteudo-acerto_conteudo)/numero_de_conteudo\n",
    "\n",
    "print('A probabilidade de ser uma mensagem de Entrega verdadeira é de {0:.2F}%'.format(probabilidade_verdadeiro_Entrega*100))\n",
    "print('A probabilidade de ser uma mensagem de Conteúdo do Livro verdadeira é de {0:.2F}%'.format(probabilidade_verdadeiro_conteudo*100))\n",
    "print('A probabilidade de ser uma mensagem de Loja e Sistema verdadeira é de {0:.2F}%'.format(probabilidade_verdadeiro_loja*100))\n",
    "print('A probabilidade de não ser uma mensagem de Entrega verdadeira é de {0:.2F}%'.format(probabilidade_falso_Entrega*100))\n",
    "print('A probabilidade de não ser uma mensagem de Conteúdo do Livro verdadeira é de {0:.2F}%'.format(probabilidade_verdadeiro_conteudo*100))\n",
    "print('A probabilidade de não ser uma mensagem de Loja e Sistema verdadeira é de {0:.2F}%'.format(probabilidade_verdadeiro_loja*100))"
   ]
  },
  {
   "cell_type": "code",
   "execution_count": null,
   "metadata": {},
   "outputs": [
    {
     "name": "stdout",
     "output_type": "stream",
     "text": [
      "Acurácia é: 86.8%\n"
     ]
    }
   ],
   "source": [
    "#verificando a acurácia do classificador a partir do arquivo teste\n",
    "def acuracia(df):\n",
    "    df_respostas=classifica(df)\n",
    "    novo_df=pd.concat([df[\"Target (Loja e Sistema, Entrega,Conteudo)\"],df_respostas['Respostas']], axis=1)\n",
    "    acertos=0\n",
    "    for i in novo_df.index:\n",
    "        if novo_df[\"Target (Loja e Sistema, Entrega,Conteudo)\"][i]==novo_df[\"Respostas\"][i]:\n",
    "            acertos+=1\n",
    "    quantidade_respostas=len(df_respostas[\"Respostas\"])\n",
    "    return \"Acurácia é: {0}%\".format(acertos*100/quantidade_respostas)\n",
    "print(acuracia(test))"
   ]
  },
  {
   "cell_type": "code",
   "execution_count": null,
   "metadata": {},
   "outputs": [],
   "source": []
  },
  {
   "cell_type": "code",
   "execution_count": null,
   "metadata": {},
   "outputs": [],
   "source": []
  },
  {
   "cell_type": "markdown",
   "metadata": {},
   "source": [
    "___\n",
    "### Concluindo"
   ]
  },
  {
   "cell_type": "code",
   "execution_count": null,
   "metadata": {},
   "outputs": [],
   "source": []
  },
  {
   "cell_type": "code",
   "execution_count": null,
   "metadata": {},
   "outputs": [],
   "source": []
  },
  {
   "cell_type": "code",
   "execution_count": null,
   "metadata": {},
   "outputs": [],
   "source": []
  },
  {
   "cell_type": "markdown",
   "metadata": {},
   "source": [
    "___\n",
    "### Qualidade do Classificador a partir de novas separações dos tweets entre Treinamento e Teste\n",
    "\n",
    "Caso for fazer esse item do Projeto"
   ]
  },
  {
   "cell_type": "code",
   "execution_count": null,
   "metadata": {},
   "outputs": [
    {
     "name": "stdout",
     "output_type": "stream",
     "text": [
      "                                              Mensagem  \\\n",
      "180  o livro apresenta algumas ideias interessantes...   \n",
      "689  terminei de ler o livro sem saber dizer o que ...   \n",
      "260  comecei a ler esse livro porque amei o anterio...   \n",
      "720  comprei o ebook apenas me fiando no titulo e n...   \n",
      "160  a entrega foi rapida e sem dano de entrega por...   \n",
      "..                                                 ...   \n",
      "503  fiz a solicitacao com embrulho para presente e...   \n",
      "623  muita enrolacao pra um enredo fraquissimo alem...   \n",
      "364  esperava bem mais desse livro a historia e mui...   \n",
      "811  Uma promoção onde daria de graça o livro digit...   \n",
      "817  Comprei meu The kiss of decepcion aqui na Amaz...   \n",
      "\n",
      "    Target (Loja e Sistema, Entrega,Conteudo)  \n",
      "180                            Loja e Sistema  \n",
      "689                         Conteúdo do Livro  \n",
      "260                         Conteúdo do Livro  \n",
      "720                            Loja e Sistema  \n",
      "160                                   Entrega  \n",
      "..                                        ...  \n",
      "503                         Conteúdo do Livro  \n",
      "623                         Conteúdo do Livro  \n",
      "364                         Conteúdo do Livro  \n",
      "811                            Loja e Sistema  \n",
      "817                                   Entrega  \n",
      "\n",
      "[600 rows x 2 columns]\n"
     ]
    }
   ],
   "source": [
    "train_test=train.merge(test,how=\"outer\")\n",
    "train_test=train_test.drop(columns=\"Respostas\")\n",
    "train_test\n",
    "def embaralha(df):\n",
    "    train, test = train_test_split(df, test_size=0.4)\n",
    "    return(train,test)\n",
    "x=embaralha(train_test)\n",
    "y=x[0]\n",
    "z=x[1]\n",
    "\n",
    "print(y)"
   ]
  },
  {
   "cell_type": "code",
   "execution_count": 17,
   "metadata": {},
   "outputs": [
    {
     "ename": "NameError",
     "evalue": "name 'embaralha' is not defined",
     "output_type": "error",
     "traceback": [
      "\u001b[1;31m---------------------------------------------------------------------------\u001b[0m",
      "\u001b[1;31mNameError\u001b[0m                                 Traceback (most recent call last)",
      "\u001b[1;32m~\\AppData\\Local\\Temp\\ipykernel_25472\\2329087202.py\u001b[0m in \u001b[0;36m<module>\u001b[1;34m\u001b[0m\n\u001b[0;32m     56\u001b[0m \u001b[0macurracy_list\u001b[0m\u001b[1;33m=\u001b[0m\u001b[1;33m[\u001b[0m\u001b[1;33m]\u001b[0m\u001b[1;33m\u001b[0m\u001b[1;33m\u001b[0m\u001b[0m\n\u001b[0;32m     57\u001b[0m \u001b[1;32mfor\u001b[0m \u001b[0mi\u001b[0m \u001b[1;32min\u001b[0m \u001b[0mrange\u001b[0m\u001b[1;33m(\u001b[0m\u001b[1;36m100\u001b[0m\u001b[1;33m)\u001b[0m\u001b[1;33m:\u001b[0m\u001b[1;33m\u001b[0m\u001b[1;33m\u001b[0m\u001b[0m\n\u001b[1;32m---> 58\u001b[1;33m     \u001b[0mx\u001b[0m\u001b[1;33m=\u001b[0m\u001b[0membaralha\u001b[0m\u001b[1;33m(\u001b[0m\u001b[0mtrain_test\u001b[0m\u001b[1;33m)\u001b[0m\u001b[1;33m\u001b[0m\u001b[1;33m\u001b[0m\u001b[0m\n\u001b[0m\u001b[0;32m     59\u001b[0m     \u001b[0my\u001b[0m\u001b[1;33m=\u001b[0m\u001b[0mx\u001b[0m\u001b[1;33m[\u001b[0m\u001b[1;36m0\u001b[0m\u001b[1;33m]\u001b[0m\u001b[1;33m\u001b[0m\u001b[1;33m\u001b[0m\u001b[0m\n\u001b[0;32m     60\u001b[0m     \u001b[0mz\u001b[0m\u001b[1;33m=\u001b[0m\u001b[0mx\u001b[0m\u001b[1;33m[\u001b[0m\u001b[1;36m1\u001b[0m\u001b[1;33m]\u001b[0m\u001b[1;33m\u001b[0m\u001b[1;33m\u001b[0m\u001b[0m\n",
      "\u001b[1;31mNameError\u001b[0m: name 'embaralha' is not defined"
     ]
    }
   ],
   "source": [
    "def classifica(df,dfp):\n",
    "    df_Loja_Sistema=train.loc[dfp[\"Target (Loja e Sistema, Entrega,Conteudo)\"]=='Loja e Sistema']\n",
    "    df_Entrega=train.loc[dfp[\"Target (Loja e Sistema, Entrega,Conteudo)\"]=='Entrega']\n",
    "    df_Conteudo=train.loc[dfp[\"Target (Loja e Sistema, Entrega,Conteudo)\"]=='Conteúdo do Livro']\n",
    "    quant_loja=len(df_Loja_Sistema)\n",
    "    quant_Conteudo=len(df_Conteudo)\n",
    "    quant_Entrega=len(df_Entrega)\n",
    "    quant_palavras_Entrega= ll(df_Entrega)\n",
    "    quant_palavras_Conteudo= ll(df_Conteudo)\n",
    "    quant_palavras_Loja= ll(df_Loja_Sistema)\n",
    "    df['Mensagem']=df['Mensagem'].astype('category')\n",
    "    coluna_de_resposta=[]\n",
    "    for frase in df[\"Mensagem\"]:\n",
    "        frase=cleanup(frase)\n",
    "        frase=remover_acentos(frase)\n",
    "        frase=frase.lower()\n",
    "        palavras=frase.split(' ')\n",
    "        prob_Loja_Sistema=1\n",
    "        prob_Entrega=1\n",
    "        prob_Conteudo=1\n",
    "        for palavra in palavras:\n",
    "            if palavra in quant_palavras_Loja:\n",
    "                prob_Loja_Sistema*=(quant_palavras_Loja[palavra]/quant_loja)\n",
    "            else:\n",
    "                prob_Loja_Sistema*=laplace(0,quant_loja)\n",
    "        for palavra in palavras:\n",
    "            if palavra in quant_palavras_Entrega:\n",
    "                prob_Entrega*=(quant_palavras_Entrega[palavra]/quant_Entrega)\n",
    "            else:\n",
    "                prob_Entrega*=laplace(0,quant_Entrega)\n",
    "        for palavra in palavras:\n",
    "            if palavra in quant_palavras_Conteudo:\n",
    "                prob_Conteudo*=(quant_palavras_Conteudo[palavra]/quant_Conteudo)\n",
    "            else:\n",
    "                prob_Conteudo*=laplace(0,quant_Conteudo)\n",
    "        maior_prob=max(prob_Conteudo , prob_Entrega , prob_Loja_Sistema)\n",
    "        if maior_prob==prob_Conteudo:\n",
    "            coluna_de_resposta.append('Conteúdo do Livro')\n",
    "        elif maior_prob==prob_Entrega:\n",
    "            coluna_de_resposta.append(\"Entrega\")\n",
    "        elif maior_prob==prob_Loja_Sistema:\n",
    "            coluna_de_resposta.append(\"Loja e Sistema\")\n",
    "    coluna_de_resposta_Series=pd.Series(coluna_de_resposta)\n",
    "    df['Respostas']=coluna_de_resposta_Series\n",
    "    novo_df = pd.concat([df['Mensagem'],df['Respostas']], axis=1)\n",
    "    return novo_df\n",
    "def acuracia(df,dfp):\n",
    "    df_respostas=classifica(df,dfp)\n",
    "    novo_df=pd.concat([df[\"Target (Loja e Sistema, Entrega,Conteudo)\"],df_respostas['Respostas']], axis=1)\n",
    "    acertos=0\n",
    "    for i in novo_df.index:\n",
    "        if novo_df[\"Target (Loja e Sistema, Entrega,Conteudo)\"][i]==novo_df[\"Respostas\"][i]:\n",
    "            acertos+=1\n",
    "    quantidade_respostas=len(df_respostas[\"Respostas\"])\n",
    "    return acertos*100/quantidade_respostas\n",
    "acurracy_list=[]\n",
    "for i in range(100):\n",
    "    x=embaralha(train_test)\n",
    "    y=x[0]\n",
    "    z=x[1]\n",
    "    p=classifica(z,y)\n",
    "    acurracy_list.append(p)\n",
    "print(acurracy_list)\n"
   ]
  },
  {
   "cell_type": "code",
   "execution_count": null,
   "metadata": {},
   "outputs": [],
   "source": []
  },
  {
   "cell_type": "markdown",
   "metadata": {},
   "source": [
    "___\n",
    "## Aperfeiçoamento:\n",
    "\n",
    "Trabalhos que conseguirem pelo menos conceito B vão evoluir em conceito dependendo da quantidade de itens avançados:\n",
    "\n",
    "* IMPLEMENTOU outras limpezas e transformações que não afetem a qualidade da informação contida nos tweets. Ex: stemming, lemmatization, stopwords\n",
    "* CONSIDEROU mais de duas categorias na variável Target e INCREMENTOU a quantidade de notícias, mantendo pelo menos 250 notícias por categoria (OBRIGATÓRIO PARA TRIOS, sem contar como item avançado)\n",
    "* Para Target com duas categorias: CRIOU pelo menos quatro categorias intermediárias de relevância baseadas na probabilidade: ex.: muito relevante, relevante, neutro, irrelevante, muito irrelevante\n",
    "* EXPLICOU porquê não pode usar o próprio classificador para gerar mais amostras de treinamento\n",
    "* PROPÔS diferentes cenários para Naïve Bayes fora do contexto do projeto (pelo menos dois cenários, exceto aqueles já apresentados em sala pelos professores: por exemplo, filtro de spam)\n",
    "* SUGERIU e EXPLICOU melhorias reais com indicações concretas de como implementar (indicar como fazer e indicar material de pesquisa)\n",
    "* FEZ o item Qualidade do Classificador a partir de novas separações das Notícias entre Treinamento e Teste descrito no enunciado do projeto (OBRIGATÓRIO para conceitos A ou A+)"
   ]
  },
  {
   "cell_type": "markdown",
   "metadata": {},
   "source": [
    "___\n",
    "## Referências"
   ]
  },
  {
   "cell_type": "markdown",
   "metadata": {},
   "source": [
    "[Naive Bayes and Text Classification](https://arxiv.org/pdf/1410.5329.pdf)  **Mais completo**\n",
    "\n",
    "[A practical explanation of a Naive Bayes Classifier](https://monkeylearn.com/blog/practical-explanation-naive-bayes-classifier/) **Mais simples**"
   ]
  },
  {
   "cell_type": "code",
   "execution_count": null,
   "metadata": {},
   "outputs": [],
   "source": []
  }
 ],
 "metadata": {
  "kernelspec": {
   "display_name": "Python 3",
   "language": "python",
   "name": "python3"
  },
  "language_info": {
   "codemirror_mode": {
    "name": "ipython",
    "version": 3
   },
   "file_extension": ".py",
   "mimetype": "text/x-python",
   "name": "python",
   "nbconvert_exporter": "python",
   "pygments_lexer": "ipython3",
   "version": "3.9.13"
  }
 },
 "nbformat": 4,
 "nbformat_minor": 4
}
