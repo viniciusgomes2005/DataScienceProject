{
 "cells": [
  {
   "cell_type": "markdown",
   "metadata": {},
   "source": [
    "# Projeto 1 - Ciência dos Dados"
   ]
  },
  {
   "cell_type": "markdown",
   "metadata": {},
   "source": [
    "Nome: Vinícius de Barros Gomes\n",
    "\n",
    "Nome: Gabriel Nakano Fujihara\n",
    "\n",
    "Nome: Pedro Roberto Fernandes Noronha"
   ]
  },
  {
   "cell_type": "markdown",
   "metadata": {},
   "source": [
    "Atenção: Serão permitidos grupos de três pessoas, mas com uma rubrica mais exigente. Grupos deste tamanho precisarão fazer um questionário de avaliação de trabalho em equipe"
   ]
  },
  {
   "cell_type": "markdown",
   "metadata": {},
   "source": [
    "___\n",
    "Carregando algumas bibliotecas:"
   ]
  },
  {
   "cell_type": "code",
   "execution_count": 2,
   "metadata": {},
   "outputs": [],
   "source": [
    "%matplotlib inline\n",
    "import pandas as pd\n",
    "import matplotlib.pyplot as plt\n",
    "import numpy as np\n",
    "import os\n",
    "import re\n",
    "from unidecode import unidecode\n",
    "from sklearn.model_selection import train_test_split"
   ]
  },
  {
   "cell_type": "code",
   "execution_count": 3,
   "metadata": {
    "scrolled": false
   },
   "outputs": [
    {
     "name": "stdout",
     "output_type": "stream",
     "text": [
      "Esperamos trabalhar no diretório\n",
      "c:\\dev\\DataScienceProject\n"
     ]
    }
   ],
   "source": [
    "print('Esperamos trabalhar no diretório')\n",
    "print(os.getcwd())"
   ]
  },
  {
   "cell_type": "markdown",
   "metadata": {},
   "source": [
    "Carregando a base de dados com os tweets classificados manualmente:"
   ]
  },
  {
   "cell_type": "code",
   "execution_count": 4,
   "metadata": {},
   "outputs": [
    {
     "data": {
      "text/html": [
       "<div>\n",
       "<style scoped>\n",
       "    .dataframe tbody tr th:only-of-type {\n",
       "        vertical-align: middle;\n",
       "    }\n",
       "\n",
       "    .dataframe tbody tr th {\n",
       "        vertical-align: top;\n",
       "    }\n",
       "\n",
       "    .dataframe thead th {\n",
       "        text-align: right;\n",
       "    }\n",
       "</style>\n",
       "<table border=\"1\" class=\"dataframe\">\n",
       "  <thead>\n",
       "    <tr style=\"text-align: right;\">\n",
       "      <th></th>\n",
       "      <th>Mensagem</th>\n",
       "      <th>Target (Loja e Sistema, Entrega,Conteudo)</th>\n",
       "    </tr>\n",
       "  </thead>\n",
       "  <tbody>\n",
       "    <tr>\n",
       "      <th>0</th>\n",
       "      <td>Não li, até pq não consegui baixar. Vcs podem ...</td>\n",
       "      <td>Loja e Sistema</td>\n",
       "    </tr>\n",
       "    <tr>\n",
       "      <th>1</th>\n",
       "      <td>Não tem nada indicando que é em português de P...</td>\n",
       "      <td>Loja e Sistema</td>\n",
       "    </tr>\n",
       "    <tr>\n",
       "      <th>2</th>\n",
       "      <td>Produto horrível, veio com várias páginas em b...</td>\n",
       "      <td>Entrega</td>\n",
       "    </tr>\n",
       "    <tr>\n",
       "      <th>3</th>\n",
       "      <td>O minimo é não ler esse livro</td>\n",
       "      <td>Conteúdo do Livro</td>\n",
       "    </tr>\n",
       "    <tr>\n",
       "      <th>4</th>\n",
       "      <td>Parece que o autor não leu o próprio livro!! 🙄</td>\n",
       "      <td>Conteúdo do Livro</td>\n",
       "    </tr>\n",
       "  </tbody>\n",
       "</table>\n",
       "</div>"
      ],
      "text/plain": [
       "                                            Mensagem  \\\n",
       "0  Não li, até pq não consegui baixar. Vcs podem ...   \n",
       "1  Não tem nada indicando que é em português de P...   \n",
       "2  Produto horrível, veio com várias páginas em b...   \n",
       "3                      O minimo é não ler esse livro   \n",
       "4     Parece que o autor não leu o próprio livro!! 🙄   \n",
       "\n",
       "  Target (Loja e Sistema, Entrega,Conteudo)  \n",
       "0                            Loja e Sistema  \n",
       "1                            Loja e Sistema  \n",
       "2                                   Entrega  \n",
       "3                         Conteúdo do Livro  \n",
       "4                         Conteúdo do Livro  "
      ]
     },
     "execution_count": 4,
     "metadata": {},
     "output_type": "execute_result"
    }
   ],
   "source": [
    "train = pd.read_excel('dados_treino.xlsx')\n",
    "train.head(5)\n"
   ]
  },
  {
   "cell_type": "code",
   "execution_count": 5,
   "metadata": {},
   "outputs": [
    {
     "data": {
      "text/html": [
       "<div>\n",
       "<style scoped>\n",
       "    .dataframe tbody tr th:only-of-type {\n",
       "        vertical-align: middle;\n",
       "    }\n",
       "\n",
       "    .dataframe tbody tr th {\n",
       "        vertical-align: top;\n",
       "    }\n",
       "\n",
       "    .dataframe thead th {\n",
       "        text-align: right;\n",
       "    }\n",
       "</style>\n",
       "<table border=\"1\" class=\"dataframe\">\n",
       "  <thead>\n",
       "    <tr style=\"text-align: right;\">\n",
       "      <th></th>\n",
       "      <th>Mensagem</th>\n",
       "      <th>Target (Loja e Sistema, Entrega,Conteudo)</th>\n",
       "    </tr>\n",
       "  </thead>\n",
       "  <tbody>\n",
       "    <tr>\n",
       "      <th>0</th>\n",
       "      <td>Apesar da narrativa prender o leitor, os argum...</td>\n",
       "      <td>Conteúdo do Livro</td>\n",
       "    </tr>\n",
       "    <tr>\n",
       "      <th>1</th>\n",
       "      <td>A formatação desse ebook atrapalha muito a lei...</td>\n",
       "      <td>Loja e Sistema</td>\n",
       "    </tr>\n",
       "    <tr>\n",
       "      <th>2</th>\n",
       "      <td>Não é o primeiro livro da Record que oxida em ...</td>\n",
       "      <td>Entrega</td>\n",
       "    </tr>\n",
       "    <tr>\n",
       "      <th>3</th>\n",
       "      <td>O hype que envolve esse livro é ENORME então e...</td>\n",
       "      <td>Conteúdo do Livro</td>\n",
       "    </tr>\n",
       "    <tr>\n",
       "      <th>4</th>\n",
       "      <td>meu deus, essa escritora conseguiu estragar um...</td>\n",
       "      <td>Conteúdo do Livro</td>\n",
       "    </tr>\n",
       "  </tbody>\n",
       "</table>\n",
       "</div>"
      ],
      "text/plain": [
       "                                            Mensagem  \\\n",
       "0  Apesar da narrativa prender o leitor, os argum...   \n",
       "1  A formatação desse ebook atrapalha muito a lei...   \n",
       "2  Não é o primeiro livro da Record que oxida em ...   \n",
       "3  O hype que envolve esse livro é ENORME então e...   \n",
       "4  meu deus, essa escritora conseguiu estragar um...   \n",
       "\n",
       "  Target (Loja e Sistema, Entrega,Conteudo)  \n",
       "0                         Conteúdo do Livro  \n",
       "1                            Loja e Sistema  \n",
       "2                                   Entrega  \n",
       "3                         Conteúdo do Livro  \n",
       "4                         Conteúdo do Livro  "
      ]
     },
     "execution_count": 5,
     "metadata": {},
     "output_type": "execute_result"
    }
   ],
   "source": [
    "test = pd.read_excel('dados_teste.xlsx')\n",
    "test.head(5)"
   ]
  },
  {
   "cell_type": "markdown",
   "metadata": {},
   "source": [
    "___\n",
    "## Classificador automático\n"
   ]
  },
  {
   "cell_type": "markdown",
   "metadata": {},
   "source": [
    "\n",
    "Faça aqui uma descrição do seu assunto e o que considerou como relevante ou não relevante na classificação dos tweets (Target).\n",
    "\n",
    "Buscamos avaliar se os livros oferecidos pela amazon são ou não bons, portanto, foi ignorado quando haviam críticas exclusivamente ao serviço da amazon, como entrega e ou qualidade física do produto."
   ]
  },
  {
   "cell_type": "markdown",
   "metadata": {},
   "source": [
    "___\n",
    "### Montando um Classificador Naive-Bayes\n",
    "\n",
    "Considerando apenas as mensagens da planilha Treinamento, ensine  seu classificador."
   ]
  },
  {
   "cell_type": "code",
   "execution_count": 6,
   "metadata": {},
   "outputs": [],
   "source": [
    "#limpando a pontuação, acentos e deixando o texto minúsculo\n",
    "def cleanup(text):\n",
    "    text=text.lower()\n",
    "    punctuation = '[´\"!-.:?;$''<>]' \n",
    "    pattern = re.compile(punctuation)\n",
    "    text_subbed = re.sub(pattern, '', text)\n",
    "    return text_subbed\n",
    "\n",
    "def remover_acentos(texto):\n",
    "    texto_sem_acentos = unidecode(texto)\n",
    "    return texto_sem_acentos\n"
   ]
  },
  {
   "cell_type": "code",
   "execution_count": 7,
   "metadata": {},
   "outputs": [],
   "source": [
    "#Limpa o df\n",
    "def df0(df):\n",
    "    df['Mensagem'] = df['Mensagem'].apply(cleanup)\n",
    "    df['Mensagem'] = df['Mensagem'].apply(remover_acentos)\n",
    "    novo_df = pd.concat([df[['Mensagem']], df[['Target (Loja e Sistema, Entrega,Conteudo)']]], axis=1)\n",
    "    return novo_df\n",
    "train=df0(train)\n",
    "train['Mensagem']=train['Mensagem'].astype('category')"
   ]
  },
  {
   "cell_type": "code",
   "execution_count": 8,
   "metadata": {},
   "outputs": [],
   "source": [
    "df_Loja_Sistema=train.loc[train[\"Target (Loja e Sistema, Entrega,Conteudo)\"]=='Loja e Sistema']\n",
    "df_Entrega=train.loc[train[\"Target (Loja e Sistema, Entrega,Conteudo)\"]=='Entrega']\n",
    "df_Conteudo=train.loc[train[\"Target (Loja e Sistema, Entrega,Conteudo)\"]=='Conteúdo do Livro']\n",
    "quant_loja=len(df_Loja_Sistema)\n",
    "quant_Conteudo=len(df_Conteudo)\n",
    "quant_Entrega=len(df_Entrega)\n"
   ]
  },
  {
   "cell_type": "code",
   "execution_count": 9,
   "metadata": {},
   "outputs": [],
   "source": [
    "#Conta a quantidade de palavras dentro de um dataframe\n",
    "def ll(df):\n",
    "    todas_as_frases=df[\"Mensagem\"]\n",
    "    todas_as_palavras = []\n",
    "    for i in todas_as_frases:\n",
    "        frase=[]\n",
    "        x=i.split(\" \")\n",
    "        for u in x:\n",
    "            if u not in frase:\n",
    "                frase.append(u)\n",
    "        for d in frase:\n",
    "            todas_as_palavras.append(d)\n",
    "    todas_as_palavrasSeries=pd.Series(todas_as_palavras)\n",
    "    return todas_as_palavrasSeries.value_counts()\n",
    "quant_palavras_Entrega= ll(df_Entrega)\n",
    "quant_palavras_Conteudo= ll(df_Conteudo)\n",
    "quant_palavras_Loja= ll(df_Loja_Sistema)"
   ]
  },
  {
   "cell_type": "code",
   "execution_count": 10,
   "metadata": {},
   "outputs": [],
   "source": [
    "quantidade_total=quant_loja + quant_Conteudo + quant_Entrega\n",
    "def laplace(x,q):\n",
    "    return (x+1)/(q+quantidade_total)"
   ]
  },
  {
   "cell_type": "code",
   "execution_count": null,
   "metadata": {},
   "outputs": [],
   "source": []
  },
  {
   "cell_type": "code",
   "execution_count": 11,
   "metadata": {},
   "outputs": [
    {
     "data": {
      "text/html": [
       "<div>\n",
       "<style scoped>\n",
       "    .dataframe tbody tr th:only-of-type {\n",
       "        vertical-align: middle;\n",
       "    }\n",
       "\n",
       "    .dataframe tbody tr th {\n",
       "        vertical-align: top;\n",
       "    }\n",
       "\n",
       "    .dataframe thead th {\n",
       "        text-align: right;\n",
       "    }\n",
       "</style>\n",
       "<table border=\"1\" class=\"dataframe\">\n",
       "  <thead>\n",
       "    <tr style=\"text-align: right;\">\n",
       "      <th></th>\n",
       "      <th>Mensagem</th>\n",
       "      <th>Respostas</th>\n",
       "    </tr>\n",
       "  </thead>\n",
       "  <tbody>\n",
       "    <tr>\n",
       "      <th>0</th>\n",
       "      <td>Apesar da narrativa prender o leitor, os argum...</td>\n",
       "      <td>Conteúdo do Livro</td>\n",
       "    </tr>\n",
       "    <tr>\n",
       "      <th>1</th>\n",
       "      <td>A formatação desse ebook atrapalha muito a lei...</td>\n",
       "      <td>Loja e Sistema</td>\n",
       "    </tr>\n",
       "    <tr>\n",
       "      <th>2</th>\n",
       "      <td>Não é o primeiro livro da Record que oxida em ...</td>\n",
       "      <td>Conteúdo do Livro</td>\n",
       "    </tr>\n",
       "    <tr>\n",
       "      <th>3</th>\n",
       "      <td>O hype que envolve esse livro é ENORME então e...</td>\n",
       "      <td>Conteúdo do Livro</td>\n",
       "    </tr>\n",
       "    <tr>\n",
       "      <th>4</th>\n",
       "      <td>meu deus, essa escritora conseguiu estragar um...</td>\n",
       "      <td>Conteúdo do Livro</td>\n",
       "    </tr>\n",
       "    <tr>\n",
       "      <th>...</th>\n",
       "      <td>...</td>\n",
       "      <td>...</td>\n",
       "    </tr>\n",
       "    <tr>\n",
       "      <th>245</th>\n",
       "      <td>&lt;a class=\"a-link-normal\" data-hook=\"product-li...</td>\n",
       "      <td>Entrega</td>\n",
       "    </tr>\n",
       "    <tr>\n",
       "      <th>246</th>\n",
       "      <td>O livro tem muitas coisas boas sobre o assunto...</td>\n",
       "      <td>Conteúdo do Livro</td>\n",
       "    </tr>\n",
       "    <tr>\n",
       "      <th>247</th>\n",
       "      <td>Infelizmente a história é fraca e a escrita de...</td>\n",
       "      <td>Conteúdo do Livro</td>\n",
       "    </tr>\n",
       "    <tr>\n",
       "      <th>248</th>\n",
       "      <td>Ao longo do livro me senti extremamente mal ao...</td>\n",
       "      <td>Conteúdo do Livro</td>\n",
       "    </tr>\n",
       "    <tr>\n",
       "      <th>249</th>\n",
       "      <td>Apesar do enorme apreço que tenho por Mário S....</td>\n",
       "      <td>Conteúdo do Livro</td>\n",
       "    </tr>\n",
       "  </tbody>\n",
       "</table>\n",
       "<p>250 rows × 2 columns</p>\n",
       "</div>"
      ],
      "text/plain": [
       "                                              Mensagem          Respostas\n",
       "0    Apesar da narrativa prender o leitor, os argum...  Conteúdo do Livro\n",
       "1    A formatação desse ebook atrapalha muito a lei...     Loja e Sistema\n",
       "2    Não é o primeiro livro da Record que oxida em ...  Conteúdo do Livro\n",
       "3    O hype que envolve esse livro é ENORME então e...  Conteúdo do Livro\n",
       "4    meu deus, essa escritora conseguiu estragar um...  Conteúdo do Livro\n",
       "..                                                 ...                ...\n",
       "245  <a class=\"a-link-normal\" data-hook=\"product-li...            Entrega\n",
       "246  O livro tem muitas coisas boas sobre o assunto...  Conteúdo do Livro\n",
       "247  Infelizmente a história é fraca e a escrita de...  Conteúdo do Livro\n",
       "248  Ao longo do livro me senti extremamente mal ao...  Conteúdo do Livro\n",
       "249  Apesar do enorme apreço que tenho por Mário S....  Conteúdo do Livro\n",
       "\n",
       "[250 rows x 2 columns]"
      ]
     },
     "execution_count": 11,
     "metadata": {},
     "output_type": "execute_result"
    }
   ],
   "source": [
    "#Classificando o dataframe teste com o classificador\n",
    "def classifica(df):\n",
    "    df_Loja_Sistema=train.loc[train[\"Target (Loja e Sistema, Entrega,Conteudo)\"]=='Loja e Sistema']\n",
    "    df_Entrega=train.loc[train[\"Target (Loja e Sistema, Entrega,Conteudo)\"]=='Entrega']\n",
    "    df_Conteudo=train.loc[train[\"Target (Loja e Sistema, Entrega,Conteudo)\"]=='Conteúdo do Livro']\n",
    "    quant_loja=len(df_Loja_Sistema)\n",
    "    quant_Conteudo=len(df_Conteudo)\n",
    "    quant_Entrega=len(df_Entrega)\n",
    "    quant_palavras_Entrega= ll(df_Entrega)\n",
    "    quant_palavras_Conteudo= ll(df_Conteudo)\n",
    "    quant_palavras_Loja= ll(df_Loja_Sistema)\n",
    "    df['Mensagem']=df['Mensagem'].astype('category')\n",
    "    coluna_de_resposta=[]\n",
    "    for frase in df[\"Mensagem\"]:\n",
    "        frase=cleanup(frase)\n",
    "        frase=remover_acentos(frase)\n",
    "        frase=frase.lower()\n",
    "        palavras=frase.split(' ')\n",
    "        prob_Loja_Sistema=1\n",
    "        prob_Entrega=1\n",
    "        prob_Conteudo=1\n",
    "        for palavra in palavras:\n",
    "            if palavra in quant_palavras_Loja:\n",
    "                prob_Loja_Sistema*=(quant_palavras_Loja[palavra]/quant_loja)\n",
    "            else:\n",
    "                prob_Loja_Sistema*=laplace(0,quant_loja)\n",
    "        for palavra in palavras:\n",
    "            if palavra in quant_palavras_Entrega:\n",
    "                prob_Entrega*=(quant_palavras_Entrega[palavra]/quant_Entrega)\n",
    "            else:\n",
    "                prob_Entrega*=laplace(0,quant_Entrega)\n",
    "        for palavra in palavras:\n",
    "            if palavra in quant_palavras_Conteudo:\n",
    "                prob_Conteudo*=(quant_palavras_Conteudo[palavra]/quant_Conteudo)\n",
    "            else:\n",
    "                prob_Conteudo*=laplace(0,quant_Conteudo)\n",
    "        maior_prob=max(prob_Conteudo , prob_Entrega , prob_Loja_Sistema)\n",
    "        if maior_prob==prob_Conteudo:\n",
    "            coluna_de_resposta.append('Conteúdo do Livro')\n",
    "        elif maior_prob==prob_Entrega:\n",
    "            coluna_de_resposta.append(\"Entrega\")\n",
    "        elif maior_prob==prob_Loja_Sistema:\n",
    "            coluna_de_resposta.append(\"Loja e Sistema\")\n",
    "    coluna_de_resposta_Series=pd.Series(coluna_de_resposta)\n",
    "    df['Respostas']=coluna_de_resposta_Series\n",
    "    novo_df = pd.concat([df['Mensagem'],df['Respostas']], axis=1)\n",
    "    return novo_df\n",
    "\n",
    "classifica(test)"
   ]
  },
  {
   "cell_type": "markdown",
   "metadata": {},
   "source": [
    "___\n",
    "### Verificando a performance do Classificador\n",
    "\n",
    "Agora você deve testar o seu classificador com a base de Testes."
   ]
  },
  {
   "cell_type": "markdown",
   "metadata": {},
   "source": []
  },
  {
   "cell_type": "code",
   "execution_count": 12,
   "metadata": {},
   "outputs": [
    {
     "name": "stdout",
     "output_type": "stream",
     "text": [
      "Acurácia é: 86.8%\n"
     ]
    }
   ],
   "source": [
    "#verificando a acurácia do classificador a partir do arquivo teste\n",
    "def acuracia(df):\n",
    "    df_respostas=classifica(df)\n",
    "    novo_df=pd.concat([df[\"Target (Loja e Sistema, Entrega,Conteudo)\"],df_respostas['Respostas']], axis=1)\n",
    "    acertos=0\n",
    "    for i in novo_df.index:\n",
    "        if novo_df[\"Target (Loja e Sistema, Entrega,Conteudo)\"][i]==novo_df[\"Respostas\"][i]:\n",
    "            acertos+=1\n",
    "    quantidade_respostas=len(df_respostas[\"Respostas\"])\n",
    "    return \"Acurácia é: {0}%\".format(acertos*100/quantidade_respostas)\n",
    "print(acuracia(test))"
   ]
  },
  {
   "cell_type": "code",
   "execution_count": null,
   "metadata": {},
   "outputs": [],
   "source": []
  },
  {
   "cell_type": "code",
   "execution_count": null,
   "metadata": {},
   "outputs": [],
   "source": []
  },
  {
   "cell_type": "markdown",
   "metadata": {},
   "source": [
    "___\n",
    "### Concluindo"
   ]
  },
  {
   "cell_type": "code",
   "execution_count": null,
   "metadata": {},
   "outputs": [],
   "source": []
  },
  {
   "cell_type": "code",
   "execution_count": null,
   "metadata": {},
   "outputs": [],
   "source": []
  },
  {
   "cell_type": "code",
   "execution_count": null,
   "metadata": {},
   "outputs": [],
   "source": []
  },
  {
   "cell_type": "markdown",
   "metadata": {},
   "source": [
    "___\n",
    "### Qualidade do Classificador a partir de novas separações dos tweets entre Treinamento e Teste\n",
    "\n",
    "Caso for fazer esse item do Projeto"
   ]
  },
  {
   "cell_type": "code",
   "execution_count": 35,
   "metadata": {},
   "outputs": [
    {
     "name": "stdout",
     "output_type": "stream",
     "text": [
      "                                              Mensagem  \\\n",
      "693  fuja desse lixo e um desperdicio de tempo inte...   \n",
      "902  O livro é muito bom mas a edição é péssima! Fo...   \n",
      "147  ganhei na compra do kindle nao e estilo de liv...   \n",
      "231  incapaz de conviver com ideias diferentes na a...   \n",
      "529  traducao muito muito ruim conteudo faltando al...   \n",
      "..                                                 ...   \n",
      "213  muita giria muitas vezes fiquei sem entender d...   \n",
      "60   uma pena a editora ter se prestado a esse dess...   \n",
      "647  apesar das criticas e sucesso nao consegui ter...   \n",
      "75   o pior livro do autor que ja li chato enrolado...   \n",
      "274  estava com saudades de todos os personagens ma...   \n",
      "\n",
      "    Target (Loja e Sistema, Entrega,Conteudo)  \n",
      "693                         Conteúdo do Livro  \n",
      "902                            Loja e Sistema  \n",
      "147                            Loja e Sistema  \n",
      "231                         Conteúdo do Livro  \n",
      "529                         Conteúdo do Livro  \n",
      "..                                        ...  \n",
      "213                         Conteúdo do Livro  \n",
      "60                          Conteúdo do Livro  \n",
      "647                         Conteúdo do Livro  \n",
      "75                          Conteúdo do Livro  \n",
      "274                         Conteúdo do Livro  \n",
      "\n",
      "[600 rows x 2 columns]\n"
     ]
    }
   ],
   "source": [
    "train_test=train.merge(test,how=\"outer\")\n",
    "train_test=train_test.drop(columns=\"Respostas\")\n",
    "train_test\n",
    "#Embaralhando o dataframe em conjunto para separar em 2\n",
    "def embaralha(df):\n",
    "    train, test = train_test_split(df, test_size=0.4)\n",
    "    return(train,test)\n",
    "x=embaralha(train_test)\n",
    "y=x[0]\n",
    "z=x[1]\n",
    "\n",
    "print(y)"
   ]
  },
  {
   "cell_type": "code",
   "execution_count": 34,
   "metadata": {},
   "outputs": [
    {
     "ename": "IndexingError",
     "evalue": "Unalignable boolean Series provided as indexer (index of the boolean Series and of the indexed object do not match).",
     "output_type": "error",
     "traceback": [
      "\u001b[1;31m---------------------------------------------------------------------------\u001b[0m",
      "\u001b[1;31mIndexingError\u001b[0m                             Traceback (most recent call last)",
      "\u001b[1;32m~\\AppData\\Local\\Temp\\ipykernel_10716\\2329087202.py\u001b[0m in \u001b[0;36m<module>\u001b[1;34m\u001b[0m\n\u001b[0;32m     59\u001b[0m     \u001b[0my\u001b[0m\u001b[1;33m=\u001b[0m\u001b[0mx\u001b[0m\u001b[1;33m[\u001b[0m\u001b[1;36m0\u001b[0m\u001b[1;33m]\u001b[0m\u001b[1;33m\u001b[0m\u001b[1;33m\u001b[0m\u001b[0m\n\u001b[0;32m     60\u001b[0m     \u001b[0mz\u001b[0m\u001b[1;33m=\u001b[0m\u001b[0mx\u001b[0m\u001b[1;33m[\u001b[0m\u001b[1;36m1\u001b[0m\u001b[1;33m]\u001b[0m\u001b[1;33m\u001b[0m\u001b[1;33m\u001b[0m\u001b[0m\n\u001b[1;32m---> 61\u001b[1;33m     \u001b[0mp\u001b[0m\u001b[1;33m=\u001b[0m\u001b[0mclassifica\u001b[0m\u001b[1;33m(\u001b[0m\u001b[0mz\u001b[0m\u001b[1;33m,\u001b[0m\u001b[0my\u001b[0m\u001b[1;33m)\u001b[0m\u001b[1;33m\u001b[0m\u001b[1;33m\u001b[0m\u001b[0m\n\u001b[0m\u001b[0;32m     62\u001b[0m     \u001b[0macurracy_list\u001b[0m\u001b[1;33m.\u001b[0m\u001b[0mappend\u001b[0m\u001b[1;33m(\u001b[0m\u001b[0mp\u001b[0m\u001b[1;33m)\u001b[0m\u001b[1;33m\u001b[0m\u001b[1;33m\u001b[0m\u001b[0m\n\u001b[0;32m     63\u001b[0m \u001b[0mprint\u001b[0m\u001b[1;33m(\u001b[0m\u001b[0macurracy_list\u001b[0m\u001b[1;33m)\u001b[0m\u001b[1;33m\u001b[0m\u001b[1;33m\u001b[0m\u001b[0m\n",
      "\u001b[1;32m~\\AppData\\Local\\Temp\\ipykernel_10716\\2329087202.py\u001b[0m in \u001b[0;36mclassifica\u001b[1;34m(df, dfp)\u001b[0m\n\u001b[0;32m      1\u001b[0m \u001b[1;32mdef\u001b[0m \u001b[0mclassifica\u001b[0m\u001b[1;33m(\u001b[0m\u001b[0mdf\u001b[0m\u001b[1;33m,\u001b[0m\u001b[0mdfp\u001b[0m\u001b[1;33m)\u001b[0m\u001b[1;33m:\u001b[0m\u001b[1;33m\u001b[0m\u001b[1;33m\u001b[0m\u001b[0m\n\u001b[1;32m----> 2\u001b[1;33m     \u001b[0mdf_Loja_Sistema\u001b[0m\u001b[1;33m=\u001b[0m\u001b[0mtrain\u001b[0m\u001b[1;33m.\u001b[0m\u001b[0mloc\u001b[0m\u001b[1;33m[\u001b[0m\u001b[0mdfp\u001b[0m\u001b[1;33m[\u001b[0m\u001b[1;34m\"Target (Loja e Sistema, Entrega,Conteudo)\"\u001b[0m\u001b[1;33m]\u001b[0m\u001b[1;33m==\u001b[0m\u001b[1;34m'Loja e Sistema'\u001b[0m\u001b[1;33m]\u001b[0m\u001b[1;33m\u001b[0m\u001b[1;33m\u001b[0m\u001b[0m\n\u001b[0m\u001b[0;32m      3\u001b[0m     \u001b[0mdf_Entrega\u001b[0m\u001b[1;33m=\u001b[0m\u001b[0mtrain\u001b[0m\u001b[1;33m.\u001b[0m\u001b[0mloc\u001b[0m\u001b[1;33m[\u001b[0m\u001b[0mdfp\u001b[0m\u001b[1;33m[\u001b[0m\u001b[1;34m\"Target (Loja e Sistema, Entrega,Conteudo)\"\u001b[0m\u001b[1;33m]\u001b[0m\u001b[1;33m==\u001b[0m\u001b[1;34m'Entrega'\u001b[0m\u001b[1;33m]\u001b[0m\u001b[1;33m\u001b[0m\u001b[1;33m\u001b[0m\u001b[0m\n\u001b[0;32m      4\u001b[0m     \u001b[0mdf_Conteudo\u001b[0m\u001b[1;33m=\u001b[0m\u001b[0mtrain\u001b[0m\u001b[1;33m.\u001b[0m\u001b[0mloc\u001b[0m\u001b[1;33m[\u001b[0m\u001b[0mdfp\u001b[0m\u001b[1;33m[\u001b[0m\u001b[1;34m\"Target (Loja e Sistema, Entrega,Conteudo)\"\u001b[0m\u001b[1;33m]\u001b[0m\u001b[1;33m==\u001b[0m\u001b[1;34m'Conteúdo do Livro'\u001b[0m\u001b[1;33m]\u001b[0m\u001b[1;33m\u001b[0m\u001b[1;33m\u001b[0m\u001b[0m\n\u001b[0;32m      5\u001b[0m     \u001b[0mquant_loja\u001b[0m\u001b[1;33m=\u001b[0m\u001b[0mlen\u001b[0m\u001b[1;33m(\u001b[0m\u001b[0mdf_Loja_Sistema\u001b[0m\u001b[1;33m)\u001b[0m\u001b[1;33m\u001b[0m\u001b[1;33m\u001b[0m\u001b[0m\n",
      "\u001b[1;32mc:\\Users\\peedr\\anaconda3\\lib\\site-packages\\pandas\\core\\indexing.py\u001b[0m in \u001b[0;36m__getitem__\u001b[1;34m(self, key)\u001b[0m\n\u001b[0;32m    965\u001b[0m \u001b[1;33m\u001b[0m\u001b[0m\n\u001b[0;32m    966\u001b[0m             \u001b[0mmaybe_callable\u001b[0m \u001b[1;33m=\u001b[0m \u001b[0mcom\u001b[0m\u001b[1;33m.\u001b[0m\u001b[0mapply_if_callable\u001b[0m\u001b[1;33m(\u001b[0m\u001b[0mkey\u001b[0m\u001b[1;33m,\u001b[0m \u001b[0mself\u001b[0m\u001b[1;33m.\u001b[0m\u001b[0mobj\u001b[0m\u001b[1;33m)\u001b[0m\u001b[1;33m\u001b[0m\u001b[1;33m\u001b[0m\u001b[0m\n\u001b[1;32m--> 967\u001b[1;33m             \u001b[1;32mreturn\u001b[0m \u001b[0mself\u001b[0m\u001b[1;33m.\u001b[0m\u001b[0m_getitem_axis\u001b[0m\u001b[1;33m(\u001b[0m\u001b[0mmaybe_callable\u001b[0m\u001b[1;33m,\u001b[0m \u001b[0maxis\u001b[0m\u001b[1;33m=\u001b[0m\u001b[0maxis\u001b[0m\u001b[1;33m)\u001b[0m\u001b[1;33m\u001b[0m\u001b[1;33m\u001b[0m\u001b[0m\n\u001b[0m\u001b[0;32m    968\u001b[0m \u001b[1;33m\u001b[0m\u001b[0m\n\u001b[0;32m    969\u001b[0m     \u001b[1;32mdef\u001b[0m \u001b[0m_is_scalar_access\u001b[0m\u001b[1;33m(\u001b[0m\u001b[0mself\u001b[0m\u001b[1;33m,\u001b[0m \u001b[0mkey\u001b[0m\u001b[1;33m:\u001b[0m \u001b[0mtuple\u001b[0m\u001b[1;33m)\u001b[0m\u001b[1;33m:\u001b[0m\u001b[1;33m\u001b[0m\u001b[1;33m\u001b[0m\u001b[0m\n",
      "\u001b[1;32mc:\\Users\\peedr\\anaconda3\\lib\\site-packages\\pandas\\core\\indexing.py\u001b[0m in \u001b[0;36m_getitem_axis\u001b[1;34m(self, key, axis)\u001b[0m\n\u001b[0;32m   1183\u001b[0m             \u001b[1;32mreturn\u001b[0m \u001b[0mself\u001b[0m\u001b[1;33m.\u001b[0m\u001b[0m_get_slice_axis\u001b[0m\u001b[1;33m(\u001b[0m\u001b[0mkey\u001b[0m\u001b[1;33m,\u001b[0m \u001b[0maxis\u001b[0m\u001b[1;33m=\u001b[0m\u001b[0maxis\u001b[0m\u001b[1;33m)\u001b[0m\u001b[1;33m\u001b[0m\u001b[1;33m\u001b[0m\u001b[0m\n\u001b[0;32m   1184\u001b[0m         \u001b[1;32melif\u001b[0m \u001b[0mcom\u001b[0m\u001b[1;33m.\u001b[0m\u001b[0mis_bool_indexer\u001b[0m\u001b[1;33m(\u001b[0m\u001b[0mkey\u001b[0m\u001b[1;33m)\u001b[0m\u001b[1;33m:\u001b[0m\u001b[1;33m\u001b[0m\u001b[1;33m\u001b[0m\u001b[0m\n\u001b[1;32m-> 1185\u001b[1;33m             \u001b[1;32mreturn\u001b[0m \u001b[0mself\u001b[0m\u001b[1;33m.\u001b[0m\u001b[0m_getbool_axis\u001b[0m\u001b[1;33m(\u001b[0m\u001b[0mkey\u001b[0m\u001b[1;33m,\u001b[0m \u001b[0maxis\u001b[0m\u001b[1;33m=\u001b[0m\u001b[0maxis\u001b[0m\u001b[1;33m)\u001b[0m\u001b[1;33m\u001b[0m\u001b[1;33m\u001b[0m\u001b[0m\n\u001b[0m\u001b[0;32m   1186\u001b[0m         \u001b[1;32melif\u001b[0m \u001b[0mis_list_like_indexer\u001b[0m\u001b[1;33m(\u001b[0m\u001b[0mkey\u001b[0m\u001b[1;33m)\u001b[0m\u001b[1;33m:\u001b[0m\u001b[1;33m\u001b[0m\u001b[1;33m\u001b[0m\u001b[0m\n\u001b[0;32m   1187\u001b[0m \u001b[1;33m\u001b[0m\u001b[0m\n",
      "\u001b[1;32mc:\\Users\\peedr\\anaconda3\\lib\\site-packages\\pandas\\core\\indexing.py\u001b[0m in \u001b[0;36m_getbool_axis\u001b[1;34m(self, key, axis)\u001b[0m\n\u001b[0;32m    982\u001b[0m         \u001b[1;31m# caller is responsible for ensuring non-None axis\u001b[0m\u001b[1;33m\u001b[0m\u001b[1;33m\u001b[0m\u001b[0m\n\u001b[0;32m    983\u001b[0m         \u001b[0mlabels\u001b[0m \u001b[1;33m=\u001b[0m \u001b[0mself\u001b[0m\u001b[1;33m.\u001b[0m\u001b[0mobj\u001b[0m\u001b[1;33m.\u001b[0m\u001b[0m_get_axis\u001b[0m\u001b[1;33m(\u001b[0m\u001b[0maxis\u001b[0m\u001b[1;33m)\u001b[0m\u001b[1;33m\u001b[0m\u001b[1;33m\u001b[0m\u001b[0m\n\u001b[1;32m--> 984\u001b[1;33m         \u001b[0mkey\u001b[0m \u001b[1;33m=\u001b[0m \u001b[0mcheck_bool_indexer\u001b[0m\u001b[1;33m(\u001b[0m\u001b[0mlabels\u001b[0m\u001b[1;33m,\u001b[0m \u001b[0mkey\u001b[0m\u001b[1;33m)\u001b[0m\u001b[1;33m\u001b[0m\u001b[1;33m\u001b[0m\u001b[0m\n\u001b[0m\u001b[0;32m    985\u001b[0m         \u001b[0minds\u001b[0m \u001b[1;33m=\u001b[0m \u001b[0mkey\u001b[0m\u001b[1;33m.\u001b[0m\u001b[0mnonzero\u001b[0m\u001b[1;33m(\u001b[0m\u001b[1;33m)\u001b[0m\u001b[1;33m[\u001b[0m\u001b[1;36m0\u001b[0m\u001b[1;33m]\u001b[0m\u001b[1;33m\u001b[0m\u001b[1;33m\u001b[0m\u001b[0m\n\u001b[0;32m    986\u001b[0m         \u001b[1;32mreturn\u001b[0m \u001b[0mself\u001b[0m\u001b[1;33m.\u001b[0m\u001b[0mobj\u001b[0m\u001b[1;33m.\u001b[0m\u001b[0m_take_with_is_copy\u001b[0m\u001b[1;33m(\u001b[0m\u001b[0minds\u001b[0m\u001b[1;33m,\u001b[0m \u001b[0maxis\u001b[0m\u001b[1;33m=\u001b[0m\u001b[0maxis\u001b[0m\u001b[1;33m)\u001b[0m\u001b[1;33m\u001b[0m\u001b[1;33m\u001b[0m\u001b[0m\n",
      "\u001b[1;32mc:\\Users\\peedr\\anaconda3\\lib\\site-packages\\pandas\\core\\indexing.py\u001b[0m in \u001b[0;36mcheck_bool_indexer\u001b[1;34m(index, key)\u001b[0m\n\u001b[0;32m   2386\u001b[0m         \u001b[0mmask\u001b[0m \u001b[1;33m=\u001b[0m \u001b[0misna\u001b[0m\u001b[1;33m(\u001b[0m\u001b[0mresult\u001b[0m\u001b[1;33m.\u001b[0m\u001b[0m_values\u001b[0m\u001b[1;33m)\u001b[0m\u001b[1;33m\u001b[0m\u001b[1;33m\u001b[0m\u001b[0m\n\u001b[0;32m   2387\u001b[0m         \u001b[1;32mif\u001b[0m \u001b[0mmask\u001b[0m\u001b[1;33m.\u001b[0m\u001b[0many\u001b[0m\u001b[1;33m(\u001b[0m\u001b[1;33m)\u001b[0m\u001b[1;33m:\u001b[0m\u001b[1;33m\u001b[0m\u001b[1;33m\u001b[0m\u001b[0m\n\u001b[1;32m-> 2388\u001b[1;33m             raise IndexingError(\n\u001b[0m\u001b[0;32m   2389\u001b[0m                 \u001b[1;34m\"Unalignable boolean Series provided as \"\u001b[0m\u001b[1;33m\u001b[0m\u001b[1;33m\u001b[0m\u001b[0m\n\u001b[0;32m   2390\u001b[0m                 \u001b[1;34m\"indexer (index of the boolean Series and of \"\u001b[0m\u001b[1;33m\u001b[0m\u001b[1;33m\u001b[0m\u001b[0m\n",
      "\u001b[1;31mIndexingError\u001b[0m: Unalignable boolean Series provided as indexer (index of the boolean Series and of the indexed object do not match)."
     ]
    }
   ],
   "source": [
    "#adaptando as funções anteriores para a divisão do dataframe conjunto\n",
    "def classifica(df,dfp):\n",
    "    df_Loja_Sistema=train.loc[dfp[\"Target (Loja e Sistema, Entrega,Conteudo)\"]=='Loja e Sistema']\n",
    "    df_Entrega=train.loc[dfp[\"Target (Loja e Sistema, Entrega,Conteudo)\"]=='Entrega']\n",
    "    df_Conteudo=train.loc[dfp[\"Target (Loja e Sistema, Entrega,Conteudo)\"]=='Conteúdo do Livro']\n",
    "    quant_loja=len(df_Loja_Sistema)\n",
    "    quant_Conteudo=len(df_Conteudo)\n",
    "    quant_Entrega=len(df_Entrega)\n",
    "    quant_palavras_Entrega= ll(df_Entrega)\n",
    "    quant_palavras_Conteudo= ll(df_Conteudo)\n",
    "    quant_palavras_Loja= ll(df_Loja_Sistema)\n",
    "    df['Mensagem']=df['Mensagem'].astype('category')\n",
    "    coluna_de_resposta=[]\n",
    "    for frase in df[\"Mensagem\"]:\n",
    "        frase=cleanup(frase)\n",
    "        frase=remover_acentos(frase)\n",
    "        frase=frase.lower()\n",
    "        palavras=frase.split(' ')\n",
    "        prob_Loja_Sistema=1\n",
    "        prob_Entrega=1\n",
    "        prob_Conteudo=1\n",
    "        for palavra in palavras:\n",
    "            if palavra in quant_palavras_Loja:\n",
    "                prob_Loja_Sistema*=(quant_palavras_Loja[palavra]/quant_loja)\n",
    "            else:\n",
    "                prob_Loja_Sistema*=laplace(0,quant_loja)\n",
    "        for palavra in palavras:\n",
    "            if palavra in quant_palavras_Entrega:\n",
    "                prob_Entrega*=(quant_palavras_Entrega[palavra]/quant_Entrega)\n",
    "            else:\n",
    "                prob_Entrega*=laplace(0,quant_Entrega)\n",
    "        for palavra in palavras:\n",
    "            if palavra in quant_palavras_Conteudo:\n",
    "                prob_Conteudo*=(quant_palavras_Conteudo[palavra]/quant_Conteudo)\n",
    "            else:\n",
    "                prob_Conteudo*=laplace(0,quant_Conteudo)\n",
    "        maior_prob=max(prob_Conteudo , prob_Entrega , prob_Loja_Sistema)\n",
    "        if maior_prob==prob_Conteudo:\n",
    "            coluna_de_resposta.append('Conteúdo do Livro')\n",
    "        elif maior_prob==prob_Entrega:\n",
    "            coluna_de_resposta.append(\"Entrega\")\n",
    "        elif maior_prob==prob_Loja_Sistema:\n",
    "            coluna_de_resposta.append(\"Loja e Sistema\")\n",
    "    coluna_de_resposta_Series=pd.Series(coluna_de_resposta)\n",
    "    df['Respostas']=coluna_de_resposta_Series\n",
    "    novo_df = pd.concat([df['Mensagem'],df['Respostas']], axis=1)\n",
    "    return novo_df\n",
    "def acuracia(df,dfp):\n",
    "    df_respostas=classifica(df,dfp)\n",
    "    novo_df=pd.concat([df[\"Target (Loja e Sistema, Entrega,Conteudo)\"],df_respostas['Respostas']], axis=1)\n",
    "    acertos=0\n",
    "    for i in novo_df.index:\n",
    "        if novo_df[\"Target (Loja e Sistema, Entrega,Conteudo)\"][i]==novo_df[\"Respostas\"][i]:\n",
    "            acertos+=1\n",
    "    quantidade_respostas=len(df_respostas[\"Respostas\"])\n",
    "    return acertos*100/quantidade_respostas\n",
    "acurracy_list=[]\n",
    "for i in range(100):\n",
    "    x=embaralha(train_test)\n",
    "    y=x[0]\n",
    "    z=x[1]\n",
    "    p=classifica(z,y)\n",
    "    acurracy_list.append(p)\n",
    "print(acurracy_list)\n"
   ]
  },
  {
   "cell_type": "code",
   "execution_count": null,
   "metadata": {},
   "outputs": [],
   "source": []
  },
  {
   "cell_type": "markdown",
   "metadata": {},
   "source": [
    "___\n",
    "## Aperfeiçoamento:\n",
    "\n",
    "Trabalhos que conseguirem pelo menos conceito B vão evoluir em conceito dependendo da quantidade de itens avançados:\n",
    "\n",
    "* IMPLEMENTOU outras limpezas e transformações que não afetem a qualidade da informação contida nos tweets. Ex: stemming, lemmatization, stopwords\n",
    "* CONSIDEROU mais de duas categorias na variável Target e INCREMENTOU a quantidade de notícias, mantendo pelo menos 250 notícias por categoria (OBRIGATÓRIO PARA TRIOS, sem contar como item avançado)\n",
    "* Para Target com duas categorias: CRIOU pelo menos quatro categorias intermediárias de relevância baseadas na probabilidade: ex.: muito relevante, relevante, neutro, irrelevante, muito irrelevante\n",
    "* EXPLICOU porquê não pode usar o próprio classificador para gerar mais amostras de treinamento\n",
    "* PROPÔS diferentes cenários para Naïve Bayes fora do contexto do projeto (pelo menos dois cenários, exceto aqueles já apresentados em sala pelos professores: por exemplo, filtro de spam)\n",
    "* SUGERIU e EXPLICOU melhorias reais com indicações concretas de como implementar (indicar como fazer e indicar material de pesquisa)\n",
    "* FEZ o item Qualidade do Classificador a partir de novas separações das Notícias entre Treinamento e Teste descrito no enunciado do projeto (OBRIGATÓRIO para conceitos A ou A+)"
   ]
  },
  {
   "cell_type": "markdown",
   "metadata": {},
   "source": [
    "___\n",
    "## Referências"
   ]
  },
  {
   "cell_type": "markdown",
   "metadata": {},
   "source": [
    "[Naive Bayes and Text Classification](https://arxiv.org/pdf/1410.5329.pdf)  **Mais completo**\n",
    "\n",
    "[A practical explanation of a Naive Bayes Classifier](https://monkeylearn.com/blog/practical-explanation-naive-bayes-classifier/) **Mais simples**"
   ]
  },
  {
   "cell_type": "code",
   "execution_count": null,
   "metadata": {},
   "outputs": [],
   "source": []
  }
 ],
 "metadata": {
  "kernelspec": {
   "display_name": "Python 3",
   "language": "python",
   "name": "python3"
  },
  "language_info": {
   "codemirror_mode": {
    "name": "ipython",
    "version": 3
   },
   "file_extension": ".py",
   "mimetype": "text/x-python",
   "name": "python",
   "nbconvert_exporter": "python",
   "pygments_lexer": "ipython3",
   "version": "3.9.13"
  }
 },
 "nbformat": 4,
 "nbformat_minor": 4
}
