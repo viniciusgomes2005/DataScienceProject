{
 "cells": [
  {
   "cell_type": "markdown",
   "metadata": {},
   "source": [
    "# Projeto 1 - Ciência dos Dados"
   ]
  },
  {
   "cell_type": "markdown",
   "metadata": {},
   "source": [
    "Nome: Vinícius de Barros Gomes\n",
    "\n",
    "Nome: Gabriel Nakano Fujihara\n",
    "\n",
    "Nome: Pedro Roberto Fernandes Noronha"
   ]
  },
  {
   "cell_type": "markdown",
   "metadata": {},
   "source": [
    "Atenção: Serão permitidos grupos de três pessoas, mas com uma rubrica mais exigente. Grupos deste tamanho precisarão fazer um questionário de avaliação de trabalho em equipe"
   ]
  },
  {
   "cell_type": "markdown",
   "metadata": {},
   "source": [
    "___\n",
    "Carregando algumas bibliotecas:"
   ]
  },
  {
   "cell_type": "code",
   "execution_count": 2,
   "metadata": {},
   "outputs": [],
   "source": [
    "%matplotlib inline\n",
    "import pandas as pd\n",
    "import matplotlib.pyplot as plt\n",
    "import numpy as np\n",
    "import os"
   ]
  },
  {
   "cell_type": "code",
   "execution_count": 3,
   "metadata": {
    "scrolled": false
   },
   "outputs": [
    {
     "name": "stdout",
     "output_type": "stream",
     "text": [
      "Esperamos trabalhar no diretório\n",
      "c:\\dev\\DataScienceProject\n"
     ]
    }
   ],
   "source": [
    "print('Esperamos trabalhar no diretório')\n",
    "print(os.getcwd())"
   ]
  },
  {
   "cell_type": "markdown",
   "metadata": {},
   "source": [
    "Carregando a base de dados com os tweets classificados manualmente:"
   ]
  },
  {
   "cell_type": "code",
   "execution_count": 4,
   "metadata": {},
   "outputs": [
    {
     "data": {
      "text/html": [
       "<div>\n",
       "<style scoped>\n",
       "    .dataframe tbody tr th:only-of-type {\n",
       "        vertical-align: middle;\n",
       "    }\n",
       "\n",
       "    .dataframe tbody tr th {\n",
       "        vertical-align: top;\n",
       "    }\n",
       "\n",
       "    .dataframe thead th {\n",
       "        text-align: right;\n",
       "    }\n",
       "</style>\n",
       "<table border=\"1\" class=\"dataframe\">\n",
       "  <thead>\n",
       "    <tr style=\"text-align: right;\">\n",
       "      <th></th>\n",
       "      <th>Mensagem</th>\n",
       "      <th>Target (neutro, positivo, negativo)</th>\n",
       "    </tr>\n",
       "  </thead>\n",
       "  <tbody>\n",
       "    <tr>\n",
       "      <th>0</th>\n",
       "      <td>Não li, até pq não consegui baixar. Vcs podem ...</td>\n",
       "      <td>neutro</td>\n",
       "    </tr>\n",
       "    <tr>\n",
       "      <th>1</th>\n",
       "      <td>Não tem nada indicando que é em português de P...</td>\n",
       "      <td>neutro</td>\n",
       "    </tr>\n",
       "    <tr>\n",
       "      <th>2</th>\n",
       "      <td>Produto horrível, veio com várias páginas em b...</td>\n",
       "      <td>neutro</td>\n",
       "    </tr>\n",
       "    <tr>\n",
       "      <th>3</th>\n",
       "      <td>O minimo é não ler esse livro</td>\n",
       "      <td>negativo</td>\n",
       "    </tr>\n",
       "    <tr>\n",
       "      <th>4</th>\n",
       "      <td>Parece que o autor não leu o próprio livro!! 🙄</td>\n",
       "      <td>negativo</td>\n",
       "    </tr>\n",
       "  </tbody>\n",
       "</table>\n",
       "</div>"
      ],
      "text/plain": [
       "                                            Mensagem  \\\n",
       "0  Não li, até pq não consegui baixar. Vcs podem ...   \n",
       "1  Não tem nada indicando que é em português de P...   \n",
       "2  Produto horrível, veio com várias páginas em b...   \n",
       "3                      O minimo é não ler esse livro   \n",
       "4     Parece que o autor não leu o próprio livro!! 🙄   \n",
       "\n",
       "  Target (neutro, positivo, negativo)  \n",
       "0                              neutro  \n",
       "1                              neutro  \n",
       "2                              neutro  \n",
       "3                            negativo  \n",
       "4                            negativo  "
      ]
     },
     "execution_count": 4,
     "metadata": {},
     "output_type": "execute_result"
    }
   ],
   "source": [
    "train = pd.read_excel('dados_treino.xlsx')\n",
    "train.head(5)"
   ]
  },
  {
   "cell_type": "code",
   "execution_count": 5,
   "metadata": {},
   "outputs": [
    {
     "data": {
      "text/html": [
       "<div>\n",
       "<style scoped>\n",
       "    .dataframe tbody tr th:only-of-type {\n",
       "        vertical-align: middle;\n",
       "    }\n",
       "\n",
       "    .dataframe tbody tr th {\n",
       "        vertical-align: top;\n",
       "    }\n",
       "\n",
       "    .dataframe thead th {\n",
       "        text-align: right;\n",
       "    }\n",
       "</style>\n",
       "<table border=\"1\" class=\"dataframe\">\n",
       "  <thead>\n",
       "    <tr style=\"text-align: right;\">\n",
       "      <th></th>\n",
       "      <th>Mensagem</th>\n",
       "      <th>Target (Neutro, Positivo, Negativo)</th>\n",
       "    </tr>\n",
       "  </thead>\n",
       "  <tbody>\n",
       "    <tr>\n",
       "      <th>0</th>\n",
       "      <td>Apesar da narrativa prender o leitor, os argum...</td>\n",
       "      <td>negativo</td>\n",
       "    </tr>\n",
       "    <tr>\n",
       "      <th>1</th>\n",
       "      <td>A formatação desse ebook atrapalha muito a lei...</td>\n",
       "      <td>neutro</td>\n",
       "    </tr>\n",
       "    <tr>\n",
       "      <th>2</th>\n",
       "      <td>Não é o primeiro livro da Record que oxida em ...</td>\n",
       "      <td>neutro</td>\n",
       "    </tr>\n",
       "    <tr>\n",
       "      <th>3</th>\n",
       "      <td>O hype que envolve esse livro é ENORME então e...</td>\n",
       "      <td>negativo</td>\n",
       "    </tr>\n",
       "    <tr>\n",
       "      <th>4</th>\n",
       "      <td>meu deus, essa escritora conseguiu estragar um...</td>\n",
       "      <td>negativo</td>\n",
       "    </tr>\n",
       "  </tbody>\n",
       "</table>\n",
       "</div>"
      ],
      "text/plain": [
       "                                            Mensagem  \\\n",
       "0  Apesar da narrativa prender o leitor, os argum...   \n",
       "1  A formatação desse ebook atrapalha muito a lei...   \n",
       "2  Não é o primeiro livro da Record que oxida em ...   \n",
       "3  O hype que envolve esse livro é ENORME então e...   \n",
       "4  meu deus, essa escritora conseguiu estragar um...   \n",
       "\n",
       "  Target (Neutro, Positivo, Negativo)  \n",
       "0                            negativo  \n",
       "1                              neutro  \n",
       "2                              neutro  \n",
       "3                            negativo  \n",
       "4                            negativo  "
      ]
     },
     "execution_count": 5,
     "metadata": {},
     "output_type": "execute_result"
    }
   ],
   "source": [
    "test = pd.read_excel('dados_teste.xlsx')\n",
    "test.head(5)"
   ]
  },
  {
   "cell_type": "markdown",
   "metadata": {},
   "source": [
    "___\n",
    "## Classificador automático\n"
   ]
  },
  {
   "cell_type": "markdown",
   "metadata": {},
   "source": [
    "Faça aqui uma descrição do seu assunto e o que considerou como relevante ou não relevante na classificação dos tweets (Target).\n",
    "\n",
    "Buscamos avaliar se os livros oferecidos pela amazon são ou não bons, portanto, foi ignorado quando haviam críticas exclusivamente ao serviço da amazon, como entrega e ou qualidade física do produto."
   ]
  },
  {
   "cell_type": "markdown",
   "metadata": {},
   "source": [
    "___\n",
    "### Montando um Classificador Naive-Bayes\n",
    "\n",
    "Considerando apenas as mensagens da planilha Treinamento, ensine  seu classificador."
   ]
  },
  {
   "cell_type": "code",
   "execution_count": 6,
   "metadata": {},
   "outputs": [
    {
     "data": {
      "text/html": [
       "<div>\n",
       "<style scoped>\n",
       "    .dataframe tbody tr th:only-of-type {\n",
       "        vertical-align: middle;\n",
       "    }\n",
       "\n",
       "    .dataframe tbody tr th {\n",
       "        vertical-align: top;\n",
       "    }\n",
       "\n",
       "    .dataframe thead th {\n",
       "        text-align: right;\n",
       "    }\n",
       "</style>\n",
       "<table border=\"1\" class=\"dataframe\">\n",
       "  <thead>\n",
       "    <tr style=\"text-align: right;\">\n",
       "      <th></th>\n",
       "      <th>Mensagem</th>\n",
       "    </tr>\n",
       "  </thead>\n",
       "  <tbody>\n",
       "    <tr>\n",
       "      <th>0</th>\n",
       "      <td>apesar da narrativa prender o leitor  os argum...</td>\n",
       "    </tr>\n",
       "    <tr>\n",
       "      <th>1</th>\n",
       "      <td>a formatação desse ebook atrapalha muito a lei...</td>\n",
       "    </tr>\n",
       "    <tr>\n",
       "      <th>2</th>\n",
       "      <td>não é o primeiro livro da record que oxida em ...</td>\n",
       "    </tr>\n",
       "    <tr>\n",
       "      <th>3</th>\n",
       "      <td>o hype que envolve esse livro é enorme então e...</td>\n",
       "    </tr>\n",
       "    <tr>\n",
       "      <th>4</th>\n",
       "      <td>meu deus  essa escritora conseguiu estragar um...</td>\n",
       "    </tr>\n",
       "    <tr>\n",
       "      <th>5</th>\n",
       "      <td>o conteúdo é interessante mas está parecendo q...</td>\n",
       "    </tr>\n",
       "  </tbody>\n",
       "</table>\n",
       "</div>"
      ],
      "text/plain": [
       "                                            Mensagem\n",
       "0  apesar da narrativa prender o leitor  os argum...\n",
       "1  a formatação desse ebook atrapalha muito a lei...\n",
       "2  não é o primeiro livro da record que oxida em ...\n",
       "3  o hype que envolve esse livro é enorme então e...\n",
       "4  meu deus  essa escritora conseguiu estragar um...\n",
       "5  o conteúdo é interessante mas está parecendo q..."
      ]
     },
     "execution_count": 6,
     "metadata": {},
     "output_type": "execute_result"
    }
   ],
   "source": [
    "def filtrador(df):\n",
    "    comentarios = df[\"Mensagem\"]\n",
    "    data_frame =pd.DataFrame({})\n",
    "    for i in comentarios:\n",
    "        frase = i.lower()\n",
    "        frase_lista = list(frase.split(\".\"))\n",
    "        frase_final=\"\"\n",
    "        for e in frase_lista:\n",
    "            u = list(e.split(\",\"))\n",
    "            for w in u:\n",
    "                frase_final+=w\n",
    "                frase_final+=\" \"\n",
    "        df2 = pd.DataFrame({\"Mensagem\": [frase_final]})\n",
    "        data_frame = pd.concat([data_frame, df2], ignore_index=True)\n",
    "    return data_frame\n",
    "TESTE = filtrador(test)\n",
    "TESTE.head(6)"
   ]
  },
  {
   "cell_type": "code",
   "execution_count": 7,
   "metadata": {},
   "outputs": [
    {
     "name": "stdout",
     "output_type": "stream",
     "text": [
      "                                              Mensagem      Target\n",
      "0    apesar da narrativa prender o leitor  os argum...  Indefinido\n",
      "1    a formatação desse ebook atrapalha muito a lei...      Kindle\n",
      "2    não é o primeiro livro da record que oxida em ...  Indefinido\n",
      "3    o hype que envolve esse livro é enorme então e...  Indefinido\n",
      "4    meu deus  essa escritora conseguiu estragar um...  Indefinido\n",
      "..                                                 ...         ...\n",
      "245  <a class=\"a-link-normal\" data-hook=\"product-li...       Preço\n",
      "246  o livro tem muitas coisas boas sobre o assunto...  Indefinido\n",
      "247  infelizmente a história é fraca e a escrita de...  Indefinido\n",
      "248  ao longo do livro me senti extremamente mal ao...  Indefinido\n",
      "249  apesar do enorme apreço que tenho por mário s ...  Indefinido\n",
      "\n",
      "[250 rows x 2 columns]\n",
      "{'atraso': 0.0, 'kindle': 0.4222427318874019, 'físico': 0.06091370558375635, 'preço': 0.21873557914167052, 'software': 0.2981079833871712}\n"
     ]
    },
    {
     "data": {
      "text/plain": [
       "[]"
      ]
     },
     "execution_count": 7,
     "metadata": {},
     "output_type": "execute_result"
    }
   ],
   "source": [
    "def filtrador(df):\n",
    "    comentarios = df[\"Mensagem\"]\n",
    "    data_frame =pd.DataFrame({})\n",
    "    for i in comentarios:\n",
    "        frase = i.lower()\n",
    "        frase_lista = list(frase.split(\".\"))\n",
    "        frase_final=\"\"\n",
    "        for e in frase_lista:\n",
    "            u = list(e.split(\",\"))\n",
    "            for w in u:\n",
    "                frase_final+=w\n",
    "                frase_final+=\" \"\n",
    "        df2 = pd.DataFrame({\"Mensagem\": [frase_final]})\n",
    "        data_frame = pd.concat([data_frame, df2], ignore_index=True)\n",
    "    return data_frame\n",
    "TESTE = filtrador(test)\n",
    "TESTE.head(6)\n",
    "def classificador(df):\n",
    "    atraso=[\"não chegou\", \"atrasado\", \"nem chegou\",\"demorou\"]\n",
    "    fisico=[\"rago\",\"ragado\",\"amassado\",\"amasso\",\"embalagem\",\"embalado\"]\n",
    "    kindle=[\"kindle\",\"ebook\",\"ebok\",\"e-book\",\"e book\",\"biblioteca\"]\n",
    "    preco=[\"impostos\",\"caro\",\"preço\",\" preco \"]\n",
    "    software=[\"site\",\"aplicativo\"]\n",
    "    comentarios=df['Mensagem']\n",
    "    df2 = pd.DataFrame(columns=[\"Target\"])\n",
    "    quantidade={\"atraso\":0,\"kindle\":0,\"físico\":0,\"preço\":0,\"software\":0}\n",
    "    lista_final=[]\n",
    "    for i in comentarios:\n",
    "        atrasado=False\n",
    "        destruido=False\n",
    "        ebook=False\n",
    "        valor=False\n",
    "        softwar3=False\n",
    "        lista=[]\n",
    "        for e in i.split(\" \"):\n",
    "            if e in atraso:\n",
    "                atrasado=True\n",
    "            if e in fisico:\n",
    "                destruido=True\n",
    "            if e in kindle:\n",
    "                ebook=True\n",
    "            if e in preco:\n",
    "                valor=True\n",
    "            if e in software:\n",
    "                softwar3=True\n",
    "            if atrasado:\n",
    "                quantidade[\"atraso\"]+=1\n",
    "                if \"Atraso\" not in lista:\n",
    "                    lista.append(\"Atraso\")\n",
    "            if destruido:\n",
    "                quantidade[\"físico\"]+=1\n",
    "                if \"Físico\" not in lista:\n",
    "                    lista.append(\"Físico\")\n",
    "            if softwar3:\n",
    "                quantidade[\"software\"]+=1\n",
    "                if \"Software\" not in lista:\n",
    "                    lista.append(\"Software\")\n",
    "            if ebook:\n",
    "                quantidade[\"kindle\"]+=1\n",
    "                if \"Kindle\" not in lista:\n",
    "                    lista.append(\"Kindle\")\n",
    "            if valor:\n",
    "                quantidade[\"preço\"]+=1\n",
    "                if \"Preço\" not in lista:\n",
    "                    lista.append(\"Preço\")\n",
    "            classificacao=\"\"\n",
    "        for y in range(len(lista)):\n",
    "            if y<len(lista)-1:\n",
    "                classificacao+=lista[y]+\", \"\n",
    "            else:\n",
    "                classificacao+=lista[y]\n",
    "        if classificacao==\"\":\n",
    "            classificacao+=\"Indefinido\"\n",
    "        lista_final.append(classificacao)\n",
    "    df[\"Target\"]=lista_final\n",
    "    print(df)\n",
    "    total=0\n",
    "    for i in quantidade.values():\n",
    "        total+=i\n",
    "    probabilidade={}\n",
    "    for i in quantidade.keys():\n",
    "        probabilidade[i]=quantidade[i]/total\n",
    "    print(probabilidade)\n",
    "    return lista\n",
    "classificador(TESTE)"
   ]
  },
  {
   "cell_type": "code",
   "execution_count": null,
   "metadata": {},
   "outputs": [],
   "source": []
  },
  {
   "cell_type": "markdown",
   "metadata": {},
   "source": [
    "___\n",
    "### Verificando a performance do Classificador\n",
    "\n",
    "Agora você deve testar o seu classificador com a base de Testes."
   ]
  },
  {
   "cell_type": "code",
   "execution_count": null,
   "metadata": {},
   "outputs": [],
   "source": []
  },
  {
   "cell_type": "code",
   "execution_count": null,
   "metadata": {},
   "outputs": [],
   "source": []
  },
  {
   "cell_type": "code",
   "execution_count": null,
   "metadata": {},
   "outputs": [],
   "source": []
  },
  {
   "cell_type": "markdown",
   "metadata": {},
   "source": [
    "___\n",
    "### Concluindo"
   ]
  },
  {
   "cell_type": "code",
   "execution_count": null,
   "metadata": {},
   "outputs": [],
   "source": []
  },
  {
   "cell_type": "code",
   "execution_count": null,
   "metadata": {},
   "outputs": [],
   "source": []
  },
  {
   "cell_type": "code",
   "execution_count": null,
   "metadata": {},
   "outputs": [],
   "source": []
  },
  {
   "cell_type": "markdown",
   "metadata": {},
   "source": [
    "___\n",
    "### Qualidade do Classificador a partir de novas separações dos tweets entre Treinamento e Teste\n",
    "\n",
    "Caso for fazer esse item do Projeto"
   ]
  },
  {
   "cell_type": "code",
   "execution_count": null,
   "metadata": {},
   "outputs": [],
   "source": []
  },
  {
   "cell_type": "code",
   "execution_count": null,
   "metadata": {},
   "outputs": [],
   "source": []
  },
  {
   "cell_type": "code",
   "execution_count": null,
   "metadata": {},
   "outputs": [],
   "source": []
  },
  {
   "cell_type": "markdown",
   "metadata": {},
   "source": [
    "___\n",
    "## Aperfeiçoamento:\n",
    "\n",
    "Trabalhos que conseguirem pelo menos conceito B vão evoluir em conceito dependendo da quantidade de itens avançados:\n",
    "\n",
    "* IMPLEMENTOU outras limpezas e transformações que não afetem a qualidade da informação contida nos tweets. Ex: stemming, lemmatization, stopwords\n",
    "* CONSIDEROU mais de duas categorias na variável Target e INCREMENTOU a quantidade de notícias, mantendo pelo menos 250 notícias por categoria (OBRIGATÓRIO PARA TRIOS, sem contar como item avançado)\n",
    "* Para Target com duas categorias: CRIOU pelo menos quatro categorias intermediárias de relevância baseadas na probabilidade: ex.: muito relevante, relevante, neutro, irrelevante, muito irrelevante\n",
    "* EXPLICOU porquê não pode usar o próprio classificador para gerar mais amostras de treinamento\n",
    "* PROPÔS diferentes cenários para Naïve Bayes fora do contexto do projeto (pelo menos dois cenários, exceto aqueles já apresentados em sala pelos professores: por exemplo, filtro de spam)\n",
    "* SUGERIU e EXPLICOU melhorias reais com indicações concretas de como implementar (indicar como fazer e indicar material de pesquisa)\n",
    "* FEZ o item Qualidade do Classificador a partir de novas separações das Notícias entre Treinamento e Teste descrito no enunciado do projeto (OBRIGATÓRIO para conceitos A ou A+)"
   ]
  },
  {
   "cell_type": "markdown",
   "metadata": {},
   "source": [
    "___\n",
    "## Referências"
   ]
  },
  {
   "cell_type": "markdown",
   "metadata": {},
   "source": [
    "[Naive Bayes and Text Classification](https://arxiv.org/pdf/1410.5329.pdf)  **Mais completo**\n",
    "\n",
    "[A practical explanation of a Naive Bayes Classifier](https://monkeylearn.com/blog/practical-explanation-naive-bayes-classifier/) **Mais simples**"
   ]
  },
  {
   "cell_type": "code",
   "execution_count": null,
   "metadata": {},
   "outputs": [],
   "source": []
  }
 ],
 "metadata": {
  "kernelspec": {
   "display_name": "Python 3",
   "language": "python",
   "name": "python3"
  },
  "language_info": {
   "codemirror_mode": {
    "name": "ipython",
    "version": 3
   },
   "file_extension": ".py",
   "mimetype": "text/x-python",
   "name": "python",
   "nbconvert_exporter": "python",
   "pygments_lexer": "ipython3",
   "version": "3.9.13"
  }
 },
 "nbformat": 4,
 "nbformat_minor": 4
}
