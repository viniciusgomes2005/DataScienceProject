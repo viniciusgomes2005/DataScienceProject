{
 "cells": [
  {
   "cell_type": "markdown",
   "metadata": {},
   "source": [
    "# Projeto 1 - Ciência dos Dados"
   ]
  },
  {
   "cell_type": "markdown",
   "metadata": {},
   "source": [
    "Nome: Vinícius de Barros Gomes\n",
    "\n",
    "Nome: Gabriel Nakano Fujihara\n",
    "\n",
    "Nome: Pedro Roberto Fernandes Noronha"
   ]
  },
  {
   "cell_type": "markdown",
   "metadata": {},
   "source": [
    "Atenção: Serão permitidos grupos de três pessoas, mas com uma rubrica mais exigente. Grupos deste tamanho precisarão fazer um questionário de avaliação de trabalho em equipe"
   ]
  },
  {
   "cell_type": "markdown",
   "metadata": {},
   "source": [
    "___\n",
    "Carregando algumas bibliotecas:"
   ]
  },
  {
   "cell_type": "code",
   "execution_count": 1,
   "metadata": {},
   "outputs": [],
   "source": [
    "%matplotlib inline\n",
    "import pandas as pd\n",
    "import matplotlib.pyplot as plt\n",
    "import numpy as np\n",
    "import os\n",
    "import re\n",
    "from unidecode import unidecode"
   ]
  },
  {
   "cell_type": "code",
   "execution_count": 2,
   "metadata": {
    "scrolled": false
   },
   "outputs": [
    {
     "name": "stdout",
     "output_type": "stream",
     "text": [
      "Esperamos trabalhar no diretório\n",
      "c:\\dev\\DataScienceProject\n"
     ]
    }
   ],
   "source": [
    "print('Esperamos trabalhar no diretório')\n",
    "print(os.getcwd())"
   ]
  },
  {
   "cell_type": "markdown",
   "metadata": {},
   "source": [
    "Carregando a base de dados com os tweets classificados manualmente:"
   ]
  },
  {
   "cell_type": "code",
   "execution_count": 3,
   "metadata": {},
   "outputs": [],
   "source": [
    "train = pd.read_excel('dados_treino.xlsx')\n",
    "train.head(5)\n",
    "train['Mensagem']=train['Mensagem'].astype('category')"
   ]
  },
  {
   "cell_type": "code",
   "execution_count": 4,
   "metadata": {},
   "outputs": [
    {
     "data": {
      "text/html": [
       "<div>\n",
       "<style scoped>\n",
       "    .dataframe tbody tr th:only-of-type {\n",
       "        vertical-align: middle;\n",
       "    }\n",
       "\n",
       "    .dataframe tbody tr th {\n",
       "        vertical-align: top;\n",
       "    }\n",
       "\n",
       "    .dataframe thead th {\n",
       "        text-align: right;\n",
       "    }\n",
       "</style>\n",
       "<table border=\"1\" class=\"dataframe\">\n",
       "  <thead>\n",
       "    <tr style=\"text-align: right;\">\n",
       "      <th></th>\n",
       "      <th>Mensagem</th>\n",
       "      <th>Target (Neutro, Positivo, Negativo)</th>\n",
       "    </tr>\n",
       "  </thead>\n",
       "  <tbody>\n",
       "    <tr>\n",
       "      <th>0</th>\n",
       "      <td>Apesar da narrativa prender o leitor, os argum...</td>\n",
       "      <td>negativo</td>\n",
       "    </tr>\n",
       "    <tr>\n",
       "      <th>1</th>\n",
       "      <td>A formatação desse ebook atrapalha muito a lei...</td>\n",
       "      <td>neutro</td>\n",
       "    </tr>\n",
       "    <tr>\n",
       "      <th>2</th>\n",
       "      <td>Não é o primeiro livro da Record que oxida em ...</td>\n",
       "      <td>neutro</td>\n",
       "    </tr>\n",
       "    <tr>\n",
       "      <th>3</th>\n",
       "      <td>O hype que envolve esse livro é ENORME então e...</td>\n",
       "      <td>negativo</td>\n",
       "    </tr>\n",
       "    <tr>\n",
       "      <th>4</th>\n",
       "      <td>meu deus, essa escritora conseguiu estragar um...</td>\n",
       "      <td>negativo</td>\n",
       "    </tr>\n",
       "  </tbody>\n",
       "</table>\n",
       "</div>"
      ],
      "text/plain": [
       "                                            Mensagem  \\\n",
       "0  Apesar da narrativa prender o leitor, os argum...   \n",
       "1  A formatação desse ebook atrapalha muito a lei...   \n",
       "2  Não é o primeiro livro da Record que oxida em ...   \n",
       "3  O hype que envolve esse livro é ENORME então e...   \n",
       "4  meu deus, essa escritora conseguiu estragar um...   \n",
       "\n",
       "  Target (Neutro, Positivo, Negativo)  \n",
       "0                            negativo  \n",
       "1                              neutro  \n",
       "2                              neutro  \n",
       "3                            negativo  \n",
       "4                            negativo  "
      ]
     },
     "execution_count": 4,
     "metadata": {},
     "output_type": "execute_result"
    }
   ],
   "source": [
    "test = pd.read_excel('dados_teste.xlsx')\n",
    "test.head(5)"
   ]
  },
  {
   "cell_type": "markdown",
   "metadata": {},
   "source": [
    "___\n",
    "## Classificador automático\n"
   ]
  },
  {
   "cell_type": "markdown",
   "metadata": {},
   "source": [
    "Faça aqui uma descrição do seu assunto e o que considerou como relevante ou não relevante na classificação dos tweets (Target).\n",
    "\n",
    "Buscamos avaliar se os livros oferecidos pela amazon são ou não bons, portanto, foi ignorado quando haviam críticas exclusivamente ao serviço da amazon, como entrega e ou qualidade física do produto."
   ]
  },
  {
   "cell_type": "markdown",
   "metadata": {},
   "source": [
    "___\n",
    "### Montando um Classificador Naive-Bayes\n",
    "\n",
    "Considerando apenas as mensagens da planilha Treinamento, ensine  seu classificador."
   ]
  },
  {
   "cell_type": "code",
   "execution_count": 5,
   "metadata": {},
   "outputs": [],
   "source": [
    "def cleanup(text):\n",
    "    text=text.lower()\n",
    "    punctuation = '[´\"!-.:?;$''<>]' # Note que os sinais [] são delimitadores de um conjunto.\n",
    "    pattern = re.compile(punctuation)\n",
    "    text_subbed = re.sub(pattern, '', text)\n",
    "    return text_subbed\n",
    "\n",
    "def remover_acentos(texto):\n",
    "    # Use unidecode para remover acentos e converter caracteres especiais para caracteres ASCII\n",
    "    texto_sem_acentos = unidecode(texto)\n",
    "    return texto_sem_acentos\n"
   ]
  },
  {
   "cell_type": "code",
   "execution_count": 6,
   "metadata": {},
   "outputs": [],
   "source": [
    "def df0(df):\n",
    "    df['Mensagem'] = df['Mensagem'].apply(cleanup)\n",
    "    df['Mensagem'] = df['Mensagem'].apply(remover_acentos)\n",
    "    novo_df = pd.concat([df[['Mensagem']], df[['Target (Loja e Sistema, Entrega,Conteudo)']]], axis=1)\n",
    "    return novo_df\n",
    "train=df0(train)\n",
    "train['Mensagem']=train['Mensagem'].astype('category')"
   ]
  },
  {
   "cell_type": "code",
   "execution_count": 7,
   "metadata": {},
   "outputs": [
    {
     "data": {
      "text/html": [
       "<div>\n",
       "<style scoped>\n",
       "    .dataframe tbody tr th:only-of-type {\n",
       "        vertical-align: middle;\n",
       "    }\n",
       "\n",
       "    .dataframe tbody tr th {\n",
       "        vertical-align: top;\n",
       "    }\n",
       "\n",
       "    .dataframe thead th {\n",
       "        text-align: right;\n",
       "    }\n",
       "</style>\n",
       "<table border=\"1\" class=\"dataframe\">\n",
       "  <thead>\n",
       "    <tr style=\"text-align: right;\">\n",
       "      <th></th>\n",
       "      <th>Mensagem</th>\n",
       "      <th>Target (Loja e Sistema, Entrega,Conteudo)</th>\n",
       "    </tr>\n",
       "  </thead>\n",
       "  <tbody>\n",
       "    <tr>\n",
       "      <th>0</th>\n",
       "      <td>nao li ate pq nao consegui baixar vcs podem aj...</td>\n",
       "      <td>Loja e Sistema</td>\n",
       "    </tr>\n",
       "    <tr>\n",
       "      <th>1</th>\n",
       "      <td>nao tem nada indicando que e em portugues de p...</td>\n",
       "      <td>Loja e Sistema</td>\n",
       "    </tr>\n",
       "    <tr>\n",
       "      <th>8</th>\n",
       "      <td>nao consigo ler  esta muito confuso este site ...</td>\n",
       "      <td>Loja e Sistema</td>\n",
       "    </tr>\n",
       "    <tr>\n",
       "      <th>12</th>\n",
       "      <td>comprei o livro mas ele nao vai para a bibliot...</td>\n",
       "      <td>Loja e Sistema</td>\n",
       "    </tr>\n",
       "    <tr>\n",
       "      <th>15</th>\n",
       "      <td>pelo amor de deus que preco e esteso mesmo no ...</td>\n",
       "      <td>Loja e Sistema</td>\n",
       "    </tr>\n",
       "    <tr>\n",
       "      <th>...</th>\n",
       "      <td>...</td>\n",
       "      <td>...</td>\n",
       "    </tr>\n",
       "    <tr>\n",
       "      <th>733</th>\n",
       "      <td>comprei o livro e ele nao baixou gostaria de s...</td>\n",
       "      <td>Loja e Sistema</td>\n",
       "    </tr>\n",
       "    <tr>\n",
       "      <th>739</th>\n",
       "      <td>ta valendo obrigado grande abraco e obrigado a...</td>\n",
       "      <td>Loja e Sistema</td>\n",
       "    </tr>\n",
       "    <tr>\n",
       "      <th>740</th>\n",
       "      <td>sem imaginacao inducao ao alcoolismo as drogas...</td>\n",
       "      <td>Loja e Sistema</td>\n",
       "    </tr>\n",
       "    <tr>\n",
       "      <th>745</th>\n",
       "      <td>livro bastante repetitivo onde o autor se prom...</td>\n",
       "      <td>Loja e Sistema</td>\n",
       "    </tr>\n",
       "    <tr>\n",
       "      <th>747</th>\n",
       "      <td>espero que ninguem compre pagar o mesmo preco ...</td>\n",
       "      <td>Loja e Sistema</td>\n",
       "    </tr>\n",
       "  </tbody>\n",
       "</table>\n",
       "<p>136 rows × 2 columns</p>\n",
       "</div>"
      ],
      "text/plain": [
       "                                              Mensagem  \\\n",
       "0    nao li ate pq nao consegui baixar vcs podem aj...   \n",
       "1    nao tem nada indicando que e em portugues de p...   \n",
       "8    nao consigo ler  esta muito confuso este site ...   \n",
       "12   comprei o livro mas ele nao vai para a bibliot...   \n",
       "15   pelo amor de deus que preco e esteso mesmo no ...   \n",
       "..                                                 ...   \n",
       "733  comprei o livro e ele nao baixou gostaria de s...   \n",
       "739  ta valendo obrigado grande abraco e obrigado a...   \n",
       "740  sem imaginacao inducao ao alcoolismo as drogas...   \n",
       "745  livro bastante repetitivo onde o autor se prom...   \n",
       "747  espero que ninguem compre pagar o mesmo preco ...   \n",
       "\n",
       "    Target (Loja e Sistema, Entrega,Conteudo)  \n",
       "0                              Loja e Sistema  \n",
       "1                              Loja e Sistema  \n",
       "8                              Loja e Sistema  \n",
       "12                             Loja e Sistema  \n",
       "15                             Loja e Sistema  \n",
       "..                                        ...  \n",
       "733                            Loja e Sistema  \n",
       "739                            Loja e Sistema  \n",
       "740                            Loja e Sistema  \n",
       "745                            Loja e Sistema  \n",
       "747                            Loja e Sistema  \n",
       "\n",
       "[136 rows x 2 columns]"
      ]
     },
     "execution_count": 7,
     "metadata": {},
     "output_type": "execute_result"
    }
   ],
   "source": [
    "df_Loja_Sistema=train.loc[train[\"Target (Loja e Sistema, Entrega,Conteudo)\"]=='Loja e Sistema']\n",
    "df_Entrega=train.loc[train[\"Target (Loja e Sistema, Entrega,Conteudo)\"]=='Entrega']\n",
    "df_Conteudo=train.loc[train[\"Target (Loja e Sistema, Entrega,Conteudo)\"]=='Conteúdo do Livro']\n",
    "quant_loja=len(df_Loja_Sistema)\n",
    "quant_Conteudo=len(df_Conteudo)\n",
    "quant_Entrega=len(df_Entrega)\n",
    "\n",
    "df_Loja_Sistema"
   ]
  },
  {
   "cell_type": "code",
   "execution_count": 8,
   "metadata": {},
   "outputs": [
    {
     "name": "stdout",
     "output_type": "stream",
     "text": [
      "Mensagem                                                                                                                                                                                                                                                                                                                                                                    Target (Loja e Sistema, Entrega,Conteudo)\n",
      "a edicao traz uma introducao que e puro spoiler muitos leitores estao reclamando da mesma coisa aqui por que nao colocam essa maldita analise no final                                                                                                                                                                                                                      Loja e Sistema                               2\n",
      "acabo de ver a trilogia impressa por 5490 amazon esta sendo ridicula com esse preco pensava seriamente em comprar a edicao kindle mas vou ficar com os que tenho mesmo inviavel                                                                                                                                                                                             Loja e Sistema                               2\n",
      "o valor do ebook esta vergonhoso quero muito mas assim nao tem como comprar enquanto nao baixar consideravelmente nao compro                                                                                                                                                                                                                                                Loja e Sistema                               1\n",
      "o que foi isto que recebi aqui em casa mas digo de antemao a culpa foi minha a edicao desse livro que nao esta tao barata assim julguei que era a normal pasmem e de bolso pra quem ja possui o livro por que ler os classicos do italo calvino e praticamente do mesmo tamanho mas a diagramacao e terrivel e a folha e branca                                             Loja e Sistema                               1\n",
      "o preco poderia ser menor no dia em que abaixarem para menos de 1990 eu compro sem pensar duas vezes mas por enquanto vou ter que pausar minha leitura na serie pois nao tem condicoes de um ebook ter esse preco e quase o mesmo preco da versao fisica                                                                                                                    Loja e Sistema                               1\n",
      "                                                                                                                                                                                                                                                                                                                                                                                                                        ..\n",
      "esse preco nao existe nao tem o menor cabimento e melhor assistir novela mesmo qual a desculpa da editora pra vender o livro por esse preco                                                                                                                                                                                                                                 Loja e Sistema                               1\n",
      "espero que ninguem compre pagar o mesmo preco de um livro em papel por um livro virtual ja e inaceitavel quem dira mais caro estou decepcionado e muito desmotivado para adquirir o aparelho kindle                                                                                                                                                                         Loja e Sistema                               1\n",
      "esbarrei e comprei livro errado nao queria comprar esse livro sem querer esbarrei e acabou comprando pois nao ha confirmacao da compra tudo em apenas um clique nem cheguei a abrir o link para ler o livro preferiria desconto livros de economia didaticos pois uso com frequencia devido a profissao de professor que estou comecando mas a inciativa foi boa da amazon  Loja e Sistema                               1\n",
      "entrei num endereco sobre o ganho de um livro em kindle no dia 30/3 escolho o livro e imediatamente ao fazer meu login o valor eh debitado do meu cartao um absurdo nao queria comprar o livro solicito uma devolucao imediata do valor                                                                                                                                     Loja e Sistema                               1\n",
      "voces estao brincando certo quando fui fazer o download apareceu que nao estava disponivel para a minha regiao/pais so que nao havia nenhuma regiao selecionada quando selecionei brasil apareceu que eu ja tinha usufruido da oferta nao fiz download nenhum e tenho que dizer o que achei do livro                                                                        Loja e Sistema                               1\n",
      "Length: 134, dtype: int64\n",
      "A probabilidade de uma palavra ser de um comentário relacionado à entrega: 0.17862692862692864\n",
      "A probabilidade de uma palavra ser de um comentário relacionado à loja e sistema: 0.1633921633921634\n",
      "A probabilidade de uma palavra ser de um comentário relacionado ao conteúdo do livro: 0.657980907980908\n"
     ]
    }
   ],
   "source": [
    "\n",
    "tabela_Loja_Sistema=df_Loja_Sistema.value_counts()\n",
    "print(tabela_Loja_Sistema)\n",
    "tabela_Conteudo=df_Conteudo.value_counts()\n",
    "tabela_Entrega=df_Entrega.value_counts()\n",
    "def quantidade_de_palavras(df):\n",
    "    lista=[]\n",
    "    for i in df[\"Mensagem\"]:\n",
    "        e=i.split()\n",
    "        for u in e:\n",
    "            lista.append(u)\n",
    "    quantidade=len(lista)\n",
    "    return quantidade\n",
    "qtd_plv_Entrega=quantidade_de_palavras(df_Entrega)\n",
    "qtd_plv_LojaeSistema=quantidade_de_palavras(df_Loja_Sistema)\n",
    "qtd_plv_Conteudo=quantidade_de_palavras(df_Conteudo)\n",
    "qtd_total_plv=qtd_plv_Entrega+qtd_plv_Conteudo+qtd_plv_LojaeSistema\n",
    "prob_entrega=qtd_plv_Entrega/qtd_total_plv\n",
    "prob_LojaeSistema=qtd_plv_LojaeSistema/qtd_total_plv\n",
    "prob_conteudo=qtd_plv_Conteudo/qtd_total_plv\n",
    "print(\"A probabilidade de uma palavra ser de um comentário relacionado à entrega: {0}\".format(prob_entrega))\n",
    "print(\"A probabilidade de uma palavra ser de um comentário relacionado à loja e sistema: {0}\".format(prob_LojaeSistema))\n",
    "print(\"A probabilidade de uma palavra ser de um comentário relacionado ao conteúdo do livro: {0}\".format(prob_conteudo))"
   ]
  },
  {
   "cell_type": "code",
   "execution_count": 9,
   "metadata": {},
   "outputs": [],
   "source": [
    "def laplace(q):\n",
    "    return (1)/(q+qtd_total_plv)"
   ]
  },
  {
   "cell_type": "code",
   "execution_count": 11,
   "metadata": {},
   "outputs": [
    {
     "name": "stdout",
     "output_type": "stream",
     "text": [
      "2.3852685812422478e-05\n",
      "1.67372420372571e-05\n",
      "2.3544369364066585e-05\n"
     ]
    }
   ],
   "source": [
    "frase=str(input('frase:'))\n",
    "frase=cleanup(frase)\n",
    "frase=remover_acentos(frase)\n",
    "frase=frase.lower()\n",
    "palavras=frase.split(' ')\n",
    "prob_Loja_Sistema=1\n",
    "prob_Entrega=1\n",
    "prob_Conteudo=1\n",
    "for palavra in palavras:\n",
    "    if palavra in tabela_Loja_Sistema:\n",
    "        prob_Loja_Sistema*=(tabela_Loja_Sistema[palavra]/qtd_plv_LojaeSistema)\n",
    "    else:\n",
    "        prob_Loja_Sistema*=laplace(qtd_plv_LojaeSistema)\n",
    "for palavra in palavras:\n",
    "    if palavra in tabela_Entrega:\n",
    "        prob_Entrega*=(tabela_Entrega[palavra]/qtd_plv_Entrega)\n",
    "    else:\n",
    "        prob_Entrega*=laplace(qtd_plv_Entrega)\n",
    "for palavra in palavras:\n",
    "    if palavra in tabela_Conteudo:\n",
    "        prob_Conteudo*=(tabela_Conteudo[palavra]/qtd_plv_Conteudo)\n",
    "    else:\n",
    "        prob_Conteudo*=laplace(qtd_plv_Conteudo)\n",
    "maior_prob=max([prob_Conteudo,prob_Entrega,prob_Loja_Sistema])\n",
    "if maior_prob==prob_Conteudo:\n",
    "    print(\"Conteúdo do Livro\")\n",
    "elif maior_prob==prob_Entrega:\n",
    "    print(\"Entrega\")\n",
    "else:\n",
    "    print(\"Loja e Sistema\")"
   ]
  },
  {
   "cell_type": "markdown",
   "metadata": {},
   "source": [
    "___\n",
    "### Verificando a performance do Classificador\n",
    "\n",
    "Agora você deve testar o seu classificador com a base de Testes."
   ]
  },
  {
   "cell_type": "code",
   "execution_count": null,
   "metadata": {},
   "outputs": [],
   "source": []
  },
  {
   "cell_type": "code",
   "execution_count": null,
   "metadata": {},
   "outputs": [],
   "source": []
  },
  {
   "cell_type": "code",
   "execution_count": null,
   "metadata": {},
   "outputs": [],
   "source": []
  },
  {
   "cell_type": "markdown",
   "metadata": {},
   "source": [
    "___\n",
    "### Concluindo"
   ]
  },
  {
   "cell_type": "code",
   "execution_count": null,
   "metadata": {},
   "outputs": [],
   "source": []
  },
  {
   "cell_type": "code",
   "execution_count": null,
   "metadata": {},
   "outputs": [],
   "source": []
  },
  {
   "cell_type": "code",
   "execution_count": null,
   "metadata": {},
   "outputs": [],
   "source": []
  },
  {
   "cell_type": "markdown",
   "metadata": {},
   "source": [
    "___\n",
    "### Qualidade do Classificador a partir de novas separações dos tweets entre Treinamento e Teste\n",
    "\n",
    "Caso for fazer esse item do Projeto"
   ]
  },
  {
   "cell_type": "code",
   "execution_count": null,
   "metadata": {},
   "outputs": [],
   "source": []
  },
  {
   "cell_type": "code",
   "execution_count": null,
   "metadata": {},
   "outputs": [],
   "source": []
  },
  {
   "cell_type": "code",
   "execution_count": null,
   "metadata": {},
   "outputs": [],
   "source": []
  },
  {
   "cell_type": "markdown",
   "metadata": {},
   "source": [
    "___\n",
    "## Aperfeiçoamento:\n",
    "\n",
    "Trabalhos que conseguirem pelo menos conceito B vão evoluir em conceito dependendo da quantidade de itens avançados:\n",
    "\n",
    "* IMPLEMENTOU outras limpezas e transformações que não afetem a qualidade da informação contida nos tweets. Ex: stemming, lemmatization, stopwords\n",
    "* CONSIDEROU mais de duas categorias na variável Target e INCREMENTOU a quantidade de notícias, mantendo pelo menos 250 notícias por categoria (OBRIGATÓRIO PARA TRIOS, sem contar como item avançado)\n",
    "* Para Target com duas categorias: CRIOU pelo menos quatro categorias intermediárias de relevância baseadas na probabilidade: ex.: muito relevante, relevante, neutro, irrelevante, muito irrelevante\n",
    "* EXPLICOU porquê não pode usar o próprio classificador para gerar mais amostras de treinamento\n",
    "* PROPÔS diferentes cenários para Naïve Bayes fora do contexto do projeto (pelo menos dois cenários, exceto aqueles já apresentados em sala pelos professores: por exemplo, filtro de spam)\n",
    "* SUGERIU e EXPLICOU melhorias reais com indicações concretas de como implementar (indicar como fazer e indicar material de pesquisa)\n",
    "* FEZ o item Qualidade do Classificador a partir de novas separações das Notícias entre Treinamento e Teste descrito no enunciado do projeto (OBRIGATÓRIO para conceitos A ou A+)"
   ]
  },
  {
   "cell_type": "markdown",
   "metadata": {},
   "source": [
    "___\n",
    "## Referências"
   ]
  },
  {
   "cell_type": "markdown",
   "metadata": {},
   "source": [
    "[Naive Bayes and Text Classification](https://arxiv.org/pdf/1410.5329.pdf)  **Mais completo**\n",
    "\n",
    "[A practical explanation of a Naive Bayes Classifier](https://monkeylearn.com/blog/practical-explanation-naive-bayes-classifier/) **Mais simples**"
   ]
  },
  {
   "cell_type": "code",
   "execution_count": null,
   "metadata": {},
   "outputs": [],
   "source": []
  }
 ],
 "metadata": {
  "kernelspec": {
   "display_name": "Python 3",
   "language": "python",
   "name": "python3"
  },
  "language_info": {
   "codemirror_mode": {
    "name": "ipython",
    "version": 3
   },
   "file_extension": ".py",
   "mimetype": "text/x-python",
   "name": "python",
   "nbconvert_exporter": "python",
   "pygments_lexer": "ipython3",
   "version": "3.9.13"
  }
 },
 "nbformat": 4,
 "nbformat_minor": 4
}
