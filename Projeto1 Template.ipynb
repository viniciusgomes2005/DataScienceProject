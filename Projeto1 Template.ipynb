{
 "cells": [
  {
   "cell_type": "markdown",
   "metadata": {},
   "source": [
    "# Projeto 1 - Ciência dos Dados"
   ]
  },
  {
   "cell_type": "markdown",
   "metadata": {},
   "source": [
    "Nome: Vinícius de Barros Gomes\n",
    "\n",
    "Nome: Gabriel Nakano Fujihara\n",
    "\n",
    "Nome: Pedro Roberto Fernandes Noronha"
   ]
  },
  {
   "cell_type": "markdown",
   "metadata": {},
   "source": [
    "Atenção: Serão permitidos grupos de três pessoas, mas com uma rubrica mais exigente. Grupos deste tamanho precisarão fazer um questionário de avaliação de trabalho em equipe"
   ]
  },
  {
   "cell_type": "markdown",
   "metadata": {},
   "source": [
    "___\n",
    "Carregando algumas bibliotecas:"
   ]
  },
  {
   "cell_type": "code",
   "execution_count": 1,
   "metadata": {},
   "outputs": [],
   "source": [
    "%matplotlib inline\n",
    "import pandas as pd\n",
    "import matplotlib.pyplot as plt\n",
    "import numpy as np\n",
    "import os\n",
    "import re\n",
    "from unidecode import unidecode\n",
    "from nltk.corpus import stopwords\n",
    "import nltk"
   ]
  },
  {
   "cell_type": "code",
   "execution_count": 2,
   "metadata": {
    "scrolled": false
   },
   "outputs": [
    {
     "name": "stdout",
     "output_type": "stream",
     "text": [
      "Esperamos trabalhar no diretório\n",
      "c:\\dev\\DataScienceProject\n"
     ]
    }
   ],
   "source": [
    "print('Esperamos trabalhar no diretório')\n",
    "print(os.getcwd())"
   ]
  },
  {
   "cell_type": "markdown",
   "metadata": {},
   "source": [
    "Carregando a base de dados com os tweets classificados manualmente:"
   ]
  },
  {
   "cell_type": "code",
   "execution_count": 3,
   "metadata": {},
   "outputs": [],
   "source": [
    "train = pd.read_excel('dados_treino.xlsx')\n",
    "train.head(5)\n",
    "train['Mensagem']=train['Mensagem'].astype('category')"
   ]
  },
  {
   "cell_type": "code",
   "execution_count": 4,
   "metadata": {},
   "outputs": [
    {
     "data": {
      "text/html": [
       "<div>\n",
       "<style scoped>\n",
       "    .dataframe tbody tr th:only-of-type {\n",
       "        vertical-align: middle;\n",
       "    }\n",
       "\n",
       "    .dataframe tbody tr th {\n",
       "        vertical-align: top;\n",
       "    }\n",
       "\n",
       "    .dataframe thead th {\n",
       "        text-align: right;\n",
       "    }\n",
       "</style>\n",
       "<table border=\"1\" class=\"dataframe\">\n",
       "  <thead>\n",
       "    <tr style=\"text-align: right;\">\n",
       "      <th></th>\n",
       "      <th>Mensagem</th>\n",
       "      <th>Target (Neutro, Positivo, Negativo)</th>\n",
       "    </tr>\n",
       "  </thead>\n",
       "  <tbody>\n",
       "    <tr>\n",
       "      <th>0</th>\n",
       "      <td>Apesar da narrativa prender o leitor, os argum...</td>\n",
       "      <td>negativo</td>\n",
       "    </tr>\n",
       "    <tr>\n",
       "      <th>1</th>\n",
       "      <td>A formatação desse ebook atrapalha muito a lei...</td>\n",
       "      <td>neutro</td>\n",
       "    </tr>\n",
       "    <tr>\n",
       "      <th>2</th>\n",
       "      <td>Não é o primeiro livro da Record que oxida em ...</td>\n",
       "      <td>neutro</td>\n",
       "    </tr>\n",
       "    <tr>\n",
       "      <th>3</th>\n",
       "      <td>O hype que envolve esse livro é ENORME então e...</td>\n",
       "      <td>negativo</td>\n",
       "    </tr>\n",
       "    <tr>\n",
       "      <th>4</th>\n",
       "      <td>meu deus, essa escritora conseguiu estragar um...</td>\n",
       "      <td>negativo</td>\n",
       "    </tr>\n",
       "  </tbody>\n",
       "</table>\n",
       "</div>"
      ],
      "text/plain": [
       "                                            Mensagem  \\\n",
       "0  Apesar da narrativa prender o leitor, os argum...   \n",
       "1  A formatação desse ebook atrapalha muito a lei...   \n",
       "2  Não é o primeiro livro da Record que oxida em ...   \n",
       "3  O hype que envolve esse livro é ENORME então e...   \n",
       "4  meu deus, essa escritora conseguiu estragar um...   \n",
       "\n",
       "  Target (Neutro, Positivo, Negativo)  \n",
       "0                            negativo  \n",
       "1                              neutro  \n",
       "2                              neutro  \n",
       "3                            negativo  \n",
       "4                            negativo  "
      ]
     },
     "execution_count": 4,
     "metadata": {},
     "output_type": "execute_result"
    }
   ],
   "source": [
    "test = pd.read_excel('dados_teste.xlsx')\n",
    "test.head(5)"
   ]
  },
  {
   "cell_type": "markdown",
   "metadata": {},
   "source": [
    "___\n",
    "## Classificador automático\n"
   ]
  },
  {
   "cell_type": "markdown",
   "metadata": {},
   "source": [
    "Faça aqui uma descrição do seu assunto e o que considerou como relevante ou não relevante na classificação dos tweets (Target).\n",
    "\n",
    "Buscamos avaliar se os livros oferecidos pela amazon são ou não bons, portanto, foi ignorado quando haviam críticas exclusivamente ao serviço da amazon, como entrega e ou qualidade física do produto."
   ]
  },
  {
   "cell_type": "markdown",
   "metadata": {},
   "source": [
    "___\n",
    "### Montando um Classificador Naive-Bayes\n",
    "\n",
    "Considerando apenas as mensagens da planilha Treinamento, ensine  seu classificador."
   ]
  },
  {
   "cell_type": "code",
   "execution_count": 5,
   "metadata": {},
   "outputs": [
    {
     "name": "stderr",
     "output_type": "stream",
     "text": [
      "[nltk_data] Downloading package stopwords to\n",
      "[nltk_data]     C:\\Users\\flama\\AppData\\Roaming\\nltk_data...\n",
      "[nltk_data]   Package stopwords is already up-to-date!\n"
     ]
    }
   ],
   "source": [
    "nltk.download('stopwords')\n",
    "language = \"portuguese\"\n",
    "stopwordsportugues=stopwords.words(language)\n",
    "def cleanup(text):\n",
    "    text=text.lower()\n",
    "    punctuation = '[´\"!-.:?;$''<>]' # Note que os sinais [] são delimitadores de um conjunto.\n",
    "    pattern = re.compile(punctuation)\n",
    "    text_subbed = re.sub(pattern, '', text)\n",
    "    text=' '.join([k for k in text_subbed.split(\" \") if  k not in stopwordsportugues])\n",
    "    return text\n",
    "\n",
    "def remover_acentos(texto):\n",
    "    # Use unidecode para remover acentos e converter caracteres especiais para caracteres ASCII\n",
    "    texto_sem_acentos = unidecode(texto)\n",
    "    return texto_sem_acentos\n"
   ]
  },
  {
   "cell_type": "code",
   "execution_count": 6,
   "metadata": {},
   "outputs": [],
   "source": [
    "def df0(df):\n",
    "    df['Mensagem'] = df['Mensagem'].apply(cleanup)\n",
    "    df['Mensagem'] = df['Mensagem'].apply(remover_acentos)\n",
    "    novo_df = pd.concat([df[['Mensagem']], df[['Target (Loja e Sistema, Entrega,Conteudo)']]], axis=1)\n",
    "    return novo_df\n",
    "train=df0(train)\n",
    "train['Mensagem']=train['Mensagem'].astype('category')"
   ]
  },
  {
   "cell_type": "code",
   "execution_count": 7,
   "metadata": {},
   "outputs": [
    {
     "data": {
      "text/html": [
       "<div>\n",
       "<style scoped>\n",
       "    .dataframe tbody tr th:only-of-type {\n",
       "        vertical-align: middle;\n",
       "    }\n",
       "\n",
       "    .dataframe tbody tr th {\n",
       "        vertical-align: top;\n",
       "    }\n",
       "\n",
       "    .dataframe thead th {\n",
       "        text-align: right;\n",
       "    }\n",
       "</style>\n",
       "<table border=\"1\" class=\"dataframe\">\n",
       "  <thead>\n",
       "    <tr style=\"text-align: right;\">\n",
       "      <th></th>\n",
       "      <th>Mensagem</th>\n",
       "      <th>Target (Loja e Sistema, Entrega,Conteudo)</th>\n",
       "    </tr>\n",
       "  </thead>\n",
       "  <tbody>\n",
       "    <tr>\n",
       "      <th>0</th>\n",
       "      <td>li pq consegui baixar vcs podem ajudar vi comp...</td>\n",
       "      <td>Loja e Sistema</td>\n",
       "    </tr>\n",
       "    <tr>\n",
       "      <th>1</th>\n",
       "      <td>nada indicando portugues portugal terceiro ebo...</td>\n",
       "      <td>Loja e Sistema</td>\n",
       "    </tr>\n",
       "    <tr>\n",
       "      <th>8</th>\n",
       "      <td>consigo ler  confuso site consigo contato ning...</td>\n",
       "      <td>Loja e Sistema</td>\n",
       "    </tr>\n",
       "    <tr>\n",
       "      <th>12</th>\n",
       "      <td>comprei livro nao vai biblioteca absurdo esper...</td>\n",
       "      <td>Loja e Sistema</td>\n",
       "    </tr>\n",
       "    <tr>\n",
       "      <th>15</th>\n",
       "      <td>amor deus preco esteso brasil porque livro ain...</td>\n",
       "      <td>Loja e Sistema</td>\n",
       "    </tr>\n",
       "    <tr>\n",
       "      <th>...</th>\n",
       "      <td>...</td>\n",
       "      <td>...</td>\n",
       "    </tr>\n",
       "    <tr>\n",
       "      <th>733</th>\n",
       "      <td>comprei livro baixou gostaria saber vai baixar...</td>\n",
       "      <td>Loja e Sistema</td>\n",
       "    </tr>\n",
       "    <tr>\n",
       "      <th>739</th>\n",
       "      <td>ta valendo obrigado grande abraco obrigado abr...</td>\n",
       "      <td>Loja e Sistema</td>\n",
       "    </tr>\n",
       "    <tr>\n",
       "      <th>740</th>\n",
       "      <td>imaginacao inducao alcoolismo drogas automutil...</td>\n",
       "      <td>Loja e Sistema</td>\n",
       "    </tr>\n",
       "    <tr>\n",
       "      <th>745</th>\n",
       "      <td>livro bastante repetitivo onde autor promove t...</td>\n",
       "      <td>Loja e Sistema</td>\n",
       "    </tr>\n",
       "    <tr>\n",
       "      <th>747</th>\n",
       "      <td>espero ninguem compre pagar preco livro papel ...</td>\n",
       "      <td>Loja e Sistema</td>\n",
       "    </tr>\n",
       "  </tbody>\n",
       "</table>\n",
       "<p>136 rows × 2 columns</p>\n",
       "</div>"
      ],
      "text/plain": [
       "                                              Mensagem  \\\n",
       "0    li pq consegui baixar vcs podem ajudar vi comp...   \n",
       "1    nada indicando portugues portugal terceiro ebo...   \n",
       "8    consigo ler  confuso site consigo contato ning...   \n",
       "12   comprei livro nao vai biblioteca absurdo esper...   \n",
       "15   amor deus preco esteso brasil porque livro ain...   \n",
       "..                                                 ...   \n",
       "733  comprei livro baixou gostaria saber vai baixar...   \n",
       "739  ta valendo obrigado grande abraco obrigado abr...   \n",
       "740  imaginacao inducao alcoolismo drogas automutil...   \n",
       "745  livro bastante repetitivo onde autor promove t...   \n",
       "747  espero ninguem compre pagar preco livro papel ...   \n",
       "\n",
       "    Target (Loja e Sistema, Entrega,Conteudo)  \n",
       "0                              Loja e Sistema  \n",
       "1                              Loja e Sistema  \n",
       "8                              Loja e Sistema  \n",
       "12                             Loja e Sistema  \n",
       "15                             Loja e Sistema  \n",
       "..                                        ...  \n",
       "733                            Loja e Sistema  \n",
       "739                            Loja e Sistema  \n",
       "740                            Loja e Sistema  \n",
       "745                            Loja e Sistema  \n",
       "747                            Loja e Sistema  \n",
       "\n",
       "[136 rows x 2 columns]"
      ]
     },
     "execution_count": 7,
     "metadata": {},
     "output_type": "execute_result"
    }
   ],
   "source": [
    "df_Loja_Sistema=train.loc[train[\"Target (Loja e Sistema, Entrega,Conteudo)\"]=='Loja e Sistema']\n",
    "df_Entrega=train.loc[train[\"Target (Loja e Sistema, Entrega,Conteudo)\"]=='Entrega']\n",
    "df_Conteudo=train.loc[train[\"Target (Loja e Sistema, Entrega,Conteudo)\"]=='Conteúdo do Livro']\n",
    "quant_loja=len(df_Loja_Sistema)\n",
    "quant_Conteudo=len(df_Conteudo)\n",
    "quant_Entrega=len(df_Entrega)\n",
    "\n",
    "df_Loja_Sistema"
   ]
  },
  {
   "cell_type": "code",
   "execution_count": 8,
   "metadata": {},
   "outputs": [
    {
     "name": "stdout",
     "output_type": "stream",
     "text": [
      "Mensagem                                                                                                                                                                                                                                                                                                                                                                                                                                                                                                                                                                                                                                                                                                                                                                                                                                                                                                                                                                                                                                                                                                                                                                                                                                                                                                                                                                                                                                                                                                                                                          Target (Loja e Sistema, Entrega,Conteudo)\n",
      "edicao traz introducao puro spoiler muitos leitores reclamando mesma coisa aqui colocam maldita analise final                                                                                                                                                                                                                                                                                                                                                                                                                                                                                                                                                                                                                                                                                                                                                                                                                                                                                                                                                                                                                                                                                                                                                                                                                                                                                                                                                                                                                                                     Loja e Sistema                               2\n",
      "acabo ver trilogia impressa 5490 amazon sendo ridicula preco pensava seriamente comprar edicao kindle vou ficar inviavel                                                                                                                                                                                                                                                                                                                                                                                                                                                                                                                                                                                                                                                                                                                                                                                                                                                                                                                                                                                                                                                                                                                                                                                                                                                                                                                                                                                                                                          Loja e Sistema                               2\n",
      " configuracao paginas pessima prejudica leitura pena havido descaso tao grande hora configurar livro kindle                                                                                                                                                                                                                                                                                                                                                                                                                                                                                                                                                                                                                                                                                                                                                                                                                                                                                                                                                                                                                                                                                                                                                                                                                                                                                                                                                                                                                                                       Loja e Sistema                               1\n",
      "oh amazon favor atualiza edicao condicao ler faltam frases personagens dialogos pedaco livro pra entender acontecendo                                                                                                                                                                                                                                                                                                                                                                                                                                                                                                                                                                                                                                                                                                                                                                                                                                                                                                                                                                                                                                                                                                                                                                                                                                                                                                                                                                                                                                             Loja e Sistema                               1\n",
      "ola abaixo copia mensagem enviada editora lamppm responsavel lancamento sapiens brasil referese exclusivamente versao kindle lendo adorando sapiens yuval noah harari entanto utilizando kindle fazelo sendo obrigado enfrentar problema enorme divisao silabica aleatoria primeira vez livro portugues deparei aparente defeito conversao livro formato amazon falo porque primeiro titulo portugues leio nesse formato posso atestar nunca aconteceu antes fico entao obrigado conviver bizarrices tipo mulheres cerimonias sacrificio particular moderno desconhecidos  detalhe alterando tamanho fonte resolve problema apenas desloca outros pontos texto ingles surpresa pois regra quanto posso notar porem tanto ingles quanto portugues livros li agora kindle evitavam maximo separacao silabica atraves simples edicao pagina acordo tamanho fonte utilizado momento separacao da apenas eventualmente infelizmente ocorre agora sapiens divisao constante inumeros irritantes casos completamente errada realidade prazer leitura vai sendo minado desprazer dessa lamentavel falha chegando quase comprometelo completo pergunta havido algum problema conversao desse especifico livro versao kindle estaria ocorrendo algum conflito versoes recentemente update kindle alguem trouxe problema informo encaminhando mesma mensagem amazon caso origem defeito aqui relatado competencia daquela empresa parabens editar brasil livro tao especial atenciosamente subscrevome esperanca ter alguma solucao lamentavel contratempo nelson meirelles  Loja e Sistema                               1\n",
      "                                                                                                                                                                                                                                                                                                                                                                                                                                                                                                                                                                                                                                                                                                                                                                                                                                                                                                                                                                                                                                                                                                                                                                                                                                                                                                                                                                                                                                                                                                                                                                                                              ..\n",
      "diante tantos comentarios espinafrando versao digital kindle ma formatacao falta respeito consumidor obras vendidas atraves amazon tantos problemas tomei decisao comprar versao impressa papel li todos comentarios recente maio 2014 relata problema permanece lamentavel                                                                                                                                                                                                                                                                                                                                                                                                                                                                                                                                                                                                                                                                                                                                                                                                                                                                                                                                                                                                                                                                                                                                                                                                                                                                                       Loja e Sistema                               1\n",
      "dia 24052018 fiz pedido box paguei ai tudo bem  porem justo semana diante dessa efetuei pedido brasil tremenda greve geral atendente amazon recomendou cancelar pedido pois conta greve pedido iria ficar dois dias separacao estoque errado politica interna empresa tudo bem  cancelei pedido seguida fez reembolso dali diante comecou dor cabeca fazem pouco duas semanas pedido cancelado nada reembolso cair conta fiz compra debito vista significa reembolso deveria acontecer burocracia obsverifiquei banco nada consta sobre credito debito pendente amazon relacao conta                                                                                                                                                                                                                                                                                                                                                                                                                                                                                                                                                                                                                                                                                                                                                                                                                                                                                                                                                                              Loja e Sistema                               1\n",
      "desculpe amazon existe justificativa alto preco  deste ebook livro maravilhoso preco  exploratorio infelizmente  vou deixar ai estante virtual                                                                                                                                                                                                                                                                                                                                                                                                                                                                                                                                                                                                                                                                                                                                                                                                                                                                                                                                                                                                                                                                                                                                                                                                                                                                                                                                                                                                                    Loja e Sistema                               1\n",
      "conteudo bom forma diferente reconhecer fatos personagens historicos deveria experiencia agradavel divertida tornase extremamente penosa razao formatacao obra algumas paginas ficam fundo preto principio achei algum defeito kindle apos ler outras postagens verifiquei tratavase problema ebook conteudo truncado havendo constantes trocas paginas notas versao impressa deveriam enriquecer texto ebook tornam compreensao penosa confusa extremamente decepcionado resultado ainda amazon apos tantas criticas material manter produto venda loja devidas necessarias correcoes nada justo empresa interrompesse comercializacao livro efetuar correcoes desta forma comeco arrepender ter adquirido kindle pois vejo futuro amazon brasil seguindo                                                                                                                                                                                                                                                                                                                                                                                                                                                                                                                                                                                                                                                                                                                                                                                                        Loja e Sistema                               1\n",
      "vi lancamento pensei finalmente poderia livrar ebook distribuidos net graca vi preco mudei ideia espero ninguem compre queremos livros digitais democraticos precos acessiveis trampolim riqueza livro digital utiliza tinta papel precisa distribuicao fisica dispensa muita mao obra tudo deveria contribuir valor acessivel                                                                                                                                                                                                                                                                                                                                                                                                                                                                                                                                                                                                                                                                                                                                                                                                                                                                                                                                                                                                                                                                                                                                                                                                                                    Loja e Sistema                               1\n",
      "Length: 134, dtype: int64\n",
      "A probabilidade de uma palavra ser de um comentário relacionado à entrega: 0.17887963286277248\n",
      "A probabilidade de uma palavra ser de um comentário relacionado à loja e sistema: 0.1628173791589764\n",
      "A probabilidade de uma palavra ser de um comentário relacionado ao conteúdo do livro: 0.6583029879782512\n"
     ]
    }
   ],
   "source": [
    "\n",
    "tabela_Loja_Sistema=df_Loja_Sistema.value_counts()\n",
    "print(tabela_Loja_Sistema)\n",
    "tabela_Conteudo=df_Conteudo.value_counts()\n",
    "tabela_Entrega=df_Entrega.value_counts()\n",
    "def quantidade_de_palavras(df):\n",
    "    lista=[]\n",
    "    for i in df[\"Mensagem\"]:\n",
    "        e=i.split()\n",
    "        for u in e:\n",
    "            lista.append(u)\n",
    "    quantidade=len(lista)\n",
    "    return quantidade\n",
    "qtd_plv_Entrega=quantidade_de_palavras(df_Entrega)\n",
    "qtd_plv_LojaeSistema=quantidade_de_palavras(df_Loja_Sistema)\n",
    "qtd_plv_Conteudo=quantidade_de_palavras(df_Conteudo)\n",
    "qtd_total_plv=qtd_plv_Entrega+qtd_plv_Conteudo+qtd_plv_LojaeSistema\n",
    "prob_entrega=qtd_plv_Entrega/qtd_total_plv\n",
    "prob_lojaeSistema=qtd_plv_LojaeSistema/qtd_total_plv\n",
    "prob_conteudo=qtd_plv_Conteudo/qtd_total_plv\n",
    "print(\"A probabilidade de uma palavra ser de um comentário relacionado à entrega: {0}\".format(prob_entrega))\n",
    "print(\"A probabilidade de uma palavra ser de um comentário relacionado à loja e sistema: {0}\".format(prob_lojaeSistema))\n",
    "print(\"A probabilidade de uma palavra ser de um comentário relacionado ao conteúdo do livro: {0}\".format(prob_conteudo))"
   ]
  },
  {
   "cell_type": "code",
   "execution_count": 9,
   "metadata": {},
   "outputs": [],
   "source": [
    "def laplace(q):\n",
    "    return (1)/(q+qtd_total_plv)"
   ]
  },
  {
   "cell_type": "code",
   "execution_count": 13,
   "metadata": {},
   "outputs": [
    {
     "name": "stdout",
     "output_type": "stream",
     "text": [
      "kindle\n",
      "1.980215942661085e-05\n",
      "7.569061602960795e-06\n",
      "6.9845729123150615e-06\n",
      "Conteúdo do Livro\n"
     ]
    }
   ],
   "source": [
    "frase=str(input('frase:'))\n",
    "frase=cleanup(frase)\n",
    "frase=remover_acentos(frase)\n",
    "frase=frase.lower()\n",
    "palavras=frase.split(' ')\n",
    "prob_Loja_Sistema=1\n",
    "prob_Entrega=1\n",
    "prob_Conteudo=1\n",
    "for palavra in palavras:\n",
    "    if palavra in tabela_Loja_Sistema:\n",
    "        prob_Loja_Sistema*=(tabela_Loja_Sistema[palavra]/qtd_plv_LojaeSistema)\n",
    "    else:\n",
    "        prob_Loja_Sistema*=laplace(qtd_plv_LojaeSistema)\n",
    "for palavra in palavras:\n",
    "    if palavra in tabela_Entrega:\n",
    "        prob_Entrega*=(tabela_Entrega[palavra]/qtd_plv_Entrega)\n",
    "    else:\n",
    "        prob_Entrega*=laplace(qtd_plv_Entrega)\n",
    "for palavra in palavras:\n",
    "    if palavra in tabela_Conteudo:\n",
    "        prob_Conteudo*=(tabela_Conteudo[palavra]/qtd_plv_Conteudo)\n",
    "    else:\n",
    "        prob_Conteudo*=laplace(qtd_plv_Conteudo)\n",
    "prob_Conteudo=prob_Conteudo*prob_conteudo\n",
    "prob_Entrega*=prob_entrega\n",
    "prob_Loja_Sistema*=prob_lojaeSistema\n",
    "print(frase)\n",
    "print(prob_Conteudo)\n",
    "print(prob_Entrega)\n",
    "print(prob_Loja_Sistema)\n",
    "maior_prob=max(prob_Conteudo,prob_Entrega,prob_Loja_Sistema)\n",
    "if maior_prob==prob_Conteudo:\n",
    "    print(\"Conteúdo do Livro\")\n",
    "elif maior_prob==prob_Entrega:\n",
    "    print(\"Entrega\")\n",
    "elif maior_prob==prob_Loja_Sistema:\n",
    "    print(\"Loja e Sistema\")"
   ]
  },
  {
   "cell_type": "markdown",
   "metadata": {},
   "source": [
    "___\n",
    "### Verificando a performance do Classificador\n",
    "\n",
    "Agora você deve testar o seu classificador com a base de Testes."
   ]
  },
  {
   "cell_type": "code",
   "execution_count": null,
   "metadata": {},
   "outputs": [],
   "source": []
  },
  {
   "cell_type": "code",
   "execution_count": null,
   "metadata": {},
   "outputs": [],
   "source": []
  },
  {
   "cell_type": "code",
   "execution_count": null,
   "metadata": {},
   "outputs": [],
   "source": []
  },
  {
   "cell_type": "markdown",
   "metadata": {},
   "source": [
    "___\n",
    "### Concluindo"
   ]
  },
  {
   "cell_type": "code",
   "execution_count": null,
   "metadata": {},
   "outputs": [],
   "source": []
  },
  {
   "cell_type": "code",
   "execution_count": null,
   "metadata": {},
   "outputs": [],
   "source": []
  },
  {
   "cell_type": "code",
   "execution_count": null,
   "metadata": {},
   "outputs": [],
   "source": []
  },
  {
   "cell_type": "markdown",
   "metadata": {},
   "source": [
    "___\n",
    "### Qualidade do Classificador a partir de novas separações dos tweets entre Treinamento e Teste\n",
    "\n",
    "Caso for fazer esse item do Projeto"
   ]
  },
  {
   "cell_type": "code",
   "execution_count": null,
   "metadata": {},
   "outputs": [],
   "source": []
  },
  {
   "cell_type": "code",
   "execution_count": null,
   "metadata": {},
   "outputs": [],
   "source": []
  },
  {
   "cell_type": "code",
   "execution_count": null,
   "metadata": {},
   "outputs": [],
   "source": []
  },
  {
   "cell_type": "markdown",
   "metadata": {},
   "source": [
    "___\n",
    "## Aperfeiçoamento:\n",
    "\n",
    "Trabalhos que conseguirem pelo menos conceito B vão evoluir em conceito dependendo da quantidade de itens avançados:\n",
    "\n",
    "* IMPLEMENTOU outras limpezas e transformações que não afetem a qualidade da informação contida nos tweets. Ex: stemming, lemmatization, stopwords\n",
    "* CONSIDEROU mais de duas categorias na variável Target e INCREMENTOU a quantidade de notícias, mantendo pelo menos 250 notícias por categoria (OBRIGATÓRIO PARA TRIOS, sem contar como item avançado)\n",
    "* Para Target com duas categorias: CRIOU pelo menos quatro categorias intermediárias de relevância baseadas na probabilidade: ex.: muito relevante, relevante, neutro, irrelevante, muito irrelevante\n",
    "* EXPLICOU porquê não pode usar o próprio classificador para gerar mais amostras de treinamento\n",
    "* PROPÔS diferentes cenários para Naïve Bayes fora do contexto do projeto (pelo menos dois cenários, exceto aqueles já apresentados em sala pelos professores: por exemplo, filtro de spam)\n",
    "* SUGERIU e EXPLICOU melhorias reais com indicações concretas de como implementar (indicar como fazer e indicar material de pesquisa)\n",
    "* FEZ o item Qualidade do Classificador a partir de novas separações das Notícias entre Treinamento e Teste descrito no enunciado do projeto (OBRIGATÓRIO para conceitos A ou A+)"
   ]
  },
  {
   "cell_type": "markdown",
   "metadata": {},
   "source": [
    "___\n",
    "## Referências"
   ]
  },
  {
   "cell_type": "markdown",
   "metadata": {},
   "source": [
    "[Naive Bayes and Text Classification](https://arxiv.org/pdf/1410.5329.pdf)  **Mais completo**\n",
    "\n",
    "[A practical explanation of a Naive Bayes Classifier](https://monkeylearn.com/blog/practical-explanation-naive-bayes-classifier/) **Mais simples**"
   ]
  },
  {
   "cell_type": "code",
   "execution_count": null,
   "metadata": {},
   "outputs": [],
   "source": []
  }
 ],
 "metadata": {
  "kernelspec": {
   "display_name": "Python 3",
   "language": "python",
   "name": "python3"
  },
  "language_info": {
   "codemirror_mode": {
    "name": "ipython",
    "version": 3
   },
   "file_extension": ".py",
   "mimetype": "text/x-python",
   "name": "python",
   "nbconvert_exporter": "python",
   "pygments_lexer": "ipython3",
   "version": "3.9.13"
  }
 },
 "nbformat": 4,
 "nbformat_minor": 4
}
