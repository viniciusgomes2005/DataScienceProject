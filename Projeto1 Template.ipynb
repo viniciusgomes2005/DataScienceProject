{
 "cells": [
  {
   "cell_type": "markdown",
   "metadata": {},
   "source": [
    "# Projeto 1 - Ciência dos Dados"
   ]
  },
  {
   "cell_type": "markdown",
   "metadata": {},
   "source": [
    "Nome: Vinícius de Barros Gomes\n",
    "\n",
    "Nome: Gabriel Nakano Fujihara\n",
    "\n",
    "Nome: Pedro Roberto Fernandes Noronha"
   ]
  },
  {
   "cell_type": "markdown",
   "metadata": {},
   "source": [
    "Atenção: Serão permitidos grupos de três pessoas, mas com uma rubrica mais exigente. Grupos deste tamanho precisarão fazer um questionário de avaliação de trabalho em equipe"
   ]
  },
  {
   "cell_type": "markdown",
   "metadata": {},
   "source": [
    "___\n",
    "Carregando algumas bibliotecas:"
   ]
  },
  {
   "cell_type": "code",
   "execution_count": 1,
   "metadata": {},
   "outputs": [],
   "source": [
    "%matplotlib inline\n",
    "import pandas as pd\n",
    "import matplotlib.pyplot as plt\n",
    "import numpy as np\n",
    "import os\n",
    "import re\n",
    "from unidecode import unidecode"
   ]
  },
  {
   "cell_type": "code",
   "execution_count": 2,
   "metadata": {
    "scrolled": false
   },
   "outputs": [
    {
     "name": "stdout",
     "output_type": "stream",
     "text": [
      "Esperamos trabalhar no diretório\n",
      "c:\\Users\\gabri\\OneDrive - Insper - Institudo de Ensino e Pesquisa\\Insper\\2023\\1-semestre\\DSoft(desing de software)\\DataScienceProject\n"
     ]
    }
   ],
   "source": [
    "print('Esperamos trabalhar no diretório')\n",
    "print(os.getcwd())"
   ]
  },
  {
   "cell_type": "markdown",
   "metadata": {},
   "source": [
    "Carregando a base de dados com os tweets classificados manualmente:"
   ]
  },
  {
   "cell_type": "code",
<<<<<<< Updated upstream
   "execution_count": 42,
=======
   "execution_count": 3,
>>>>>>> Stashed changes
   "metadata": {},
   "outputs": [
    {
     "data": {
      "text/html": [
       "<div>\n",
       "<style scoped>\n",
       "    .dataframe tbody tr th:only-of-type {\n",
       "        vertical-align: middle;\n",
       "    }\n",
       "\n",
       "    .dataframe tbody tr th {\n",
       "        vertical-align: top;\n",
       "    }\n",
       "\n",
       "    .dataframe thead th {\n",
       "        text-align: right;\n",
       "    }\n",
       "</style>\n",
       "<table border=\"1\" class=\"dataframe\">\n",
       "  <thead>\n",
       "    <tr style=\"text-align: right;\">\n",
       "      <th></th>\n",
       "      <th>Mensagem</th>\n",
       "      <th>Target (Loja e Sistema, Entrega,Conteudo)</th>\n",
       "    </tr>\n",
       "  </thead>\n",
       "  <tbody>\n",
       "    <tr>\n",
       "      <th>0</th>\n",
       "      <td>Não li, até pq não consegui baixar. Vcs podem ...</td>\n",
       "      <td>Loja e Sistema</td>\n",
       "    </tr>\n",
       "    <tr>\n",
       "      <th>1</th>\n",
       "      <td>Não tem nada indicando que é em português de P...</td>\n",
       "      <td>Loja e Sistema</td>\n",
       "    </tr>\n",
       "    <tr>\n",
       "      <th>2</th>\n",
       "      <td>Produto horrível, veio com várias páginas em b...</td>\n",
       "      <td>Entrega</td>\n",
       "    </tr>\n",
       "    <tr>\n",
       "      <th>3</th>\n",
       "      <td>O minimo é não ler esse livro</td>\n",
       "      <td>Conteúdo do Livro</td>\n",
       "    </tr>\n",
       "    <tr>\n",
       "      <th>4</th>\n",
       "      <td>Parece que o autor não leu o próprio livro!! 🙄</td>\n",
       "      <td>Conteúdo do Livro</td>\n",
       "    </tr>\n",
       "  </tbody>\n",
       "</table>\n",
       "</div>"
      ],
      "text/plain": [
       "                                            Mensagem  \\\n",
       "0  Não li, até pq não consegui baixar. Vcs podem ...   \n",
       "1  Não tem nada indicando que é em português de P...   \n",
       "2  Produto horrível, veio com várias páginas em b...   \n",
       "3                      O minimo é não ler esse livro   \n",
       "4     Parece que o autor não leu o próprio livro!! 🙄   \n",
       "\n",
       "  Target (Loja e Sistema, Entrega,Conteudo)  \n",
       "0                            Loja e Sistema  \n",
       "1                            Loja e Sistema  \n",
       "2                                   Entrega  \n",
       "3                         Conteúdo do Livro  \n",
       "4                         Conteúdo do Livro  "
      ]
     },
<<<<<<< Updated upstream
     "execution_count": 42,
=======
     "execution_count": 3,
>>>>>>> Stashed changes
     "metadata": {},
     "output_type": "execute_result"
    }
   ],
   "source": [
    "train = pd.read_excel('dados_treino.xlsx')\n",
    "train.head(5)\n"
   ]
  },
  {
   "cell_type": "code",
<<<<<<< Updated upstream
   "execution_count": 41,
=======
   "execution_count": 4,
>>>>>>> Stashed changes
   "metadata": {},
   "outputs": [
    {
     "data": {
      "text/html": [
       "<div>\n",
       "<style scoped>\n",
       "    .dataframe tbody tr th:only-of-type {\n",
       "        vertical-align: middle;\n",
       "    }\n",
       "\n",
       "    .dataframe tbody tr th {\n",
       "        vertical-align: top;\n",
       "    }\n",
       "\n",
       "    .dataframe thead th {\n",
       "        text-align: right;\n",
       "    }\n",
       "</style>\n",
       "<table border=\"1\" class=\"dataframe\">\n",
       "  <thead>\n",
       "    <tr style=\"text-align: right;\">\n",
       "      <th></th>\n",
       "      <th>Mensagem</th>\n",
       "    </tr>\n",
       "  </thead>\n",
       "  <tbody>\n",
       "    <tr>\n",
       "      <th>0</th>\n",
       "      <td>Apesar da narrativa prender o leitor, os argum...</td>\n",
       "    </tr>\n",
       "    <tr>\n",
       "      <th>1</th>\n",
       "      <td>A formatação desse ebook atrapalha muito a lei...</td>\n",
       "    </tr>\n",
       "    <tr>\n",
       "      <th>2</th>\n",
       "      <td>Não é o primeiro livro da Record que oxida em ...</td>\n",
       "    </tr>\n",
       "    <tr>\n",
       "      <th>3</th>\n",
       "      <td>O hype que envolve esse livro é ENORME então e...</td>\n",
       "    </tr>\n",
       "    <tr>\n",
       "      <th>4</th>\n",
       "      <td>meu deus, essa escritora conseguiu estragar um...</td>\n",
       "    </tr>\n",
       "  </tbody>\n",
       "</table>\n",
       "</div>"
      ],
      "text/plain": [
       "                                            Mensagem\n",
       "0  Apesar da narrativa prender o leitor, os argum...\n",
       "1  A formatação desse ebook atrapalha muito a lei...\n",
       "2  Não é o primeiro livro da Record que oxida em ...\n",
       "3  O hype que envolve esse livro é ENORME então e...\n",
       "4  meu deus, essa escritora conseguiu estragar um..."
      ]
     },
<<<<<<< Updated upstream
     "execution_count": 41,
=======
     "execution_count": 4,
>>>>>>> Stashed changes
     "metadata": {},
     "output_type": "execute_result"
    }
   ],
   "source": [
    "test = pd.read_excel('dados_teste (1).xlsx')\n",
    "test.head(5)"
   ]
  },
  {
   "cell_type": "markdown",
   "metadata": {},
   "source": [
    "___\n",
    "## Classificador automático\n"
   ]
  },
  {
   "cell_type": "markdown",
   "metadata": {},
   "source": [
    "Faça aqui uma descrição do seu assunto e o que considerou como relevante ou não relevante na classificação dos tweets (Target).\n",
    "\n",
    "Buscamos avaliar se os livros oferecidos pela amazon são ou não bons, portanto, foi ignorado quando haviam críticas exclusivamente ao serviço da amazon, como entrega e ou qualidade física do produto."
   ]
  },
  {
   "cell_type": "markdown",
   "metadata": {},
   "source": [
    "___\n",
    "### Montando um Classificador Naive-Bayes\n",
    "\n",
    "Considerando apenas as mensagens da planilha Treinamento, ensine  seu classificador."
   ]
  },
  {
   "cell_type": "code",
   "execution_count": 5,
   "metadata": {},
   "outputs": [],
   "source": [
    "def cleanup(text):\n",
    "    text=text.lower()\n",
    "    punctuation = '[´\"!-.:?;$''<>]' # Note que os sinais [] são delimitadores de um conjunto.\n",
    "    pattern = re.compile(punctuation)\n",
    "    text_subbed = re.sub(pattern, '', text)\n",
    "    return text_subbed\n",
    "\n",
    "def remover_acentos(texto):\n",
    "    # Use unidecode para remover acentos e converter caracteres especiais para caracteres ASCII\n",
    "    texto_sem_acentos = unidecode(texto)\n",
    "    return texto_sem_acentos\n"
   ]
  },
  {
   "cell_type": "code",
   "execution_count": 6,
   "metadata": {},
   "outputs": [],
   "source": [
    "def df0(df):\n",
    "    df['Mensagem'] = df['Mensagem'].apply(cleanup)\n",
    "    df['Mensagem'] = df['Mensagem'].apply(remover_acentos)\n",
    "    novo_df = pd.concat([df[['Mensagem']], df[['Target (Loja e Sistema, Entrega,Conteudo)']]], axis=1)\n",
    "    return novo_df\n",
    "train=df0(train)\n",
    "train['Mensagem']=train['Mensagem'].astype('category')"
   ]
  },
  {
   "cell_type": "code",
   "execution_count": 7,
   "metadata": {},
   "outputs": [],
   "source": [
    "df_Loja_Sistema=train.loc[train[\"Target (Loja e Sistema, Entrega,Conteudo)\"]=='Loja e Sistema']\n",
    "df_Entrega=train.loc[train[\"Target (Loja e Sistema, Entrega,Conteudo)\"]=='Entrega']\n",
    "df_Conteudo=train.loc[train[\"Target (Loja e Sistema, Entrega,Conteudo)\"]=='Conteúdo do Livro']\n",
    "quant_loja=len(df_Loja_Sistema)\n",
    "quant_Conteudo=len(df_Conteudo)\n",
    "quant_Entrega=len(df_Entrega)\n"
   ]
  },
  {
   "cell_type": "code",
   "execution_count": 8,
   "metadata": {},
   "outputs": [],
   "source": [
    "def ll(lista):\n",
    "    todas_as_frases=lista[\"Mensagem\"]\n",
    "    todas_as_palavras = []\n",
    "    for i in todas_as_frases:\n",
    "        frase=[]\n",
    "        x=i.split(\" \")\n",
    "        for u in x:\n",
    "            if u not in frase:\n",
    "                frase.append(u)\n",
    "        for d in frase:\n",
    "            todas_as_palavras.append(d)\n",
    "    todas_as_palavrasSeries=pd.Series(todas_as_palavras)\n",
    "    return todas_as_palavrasSeries.value_counts()\n",
    "quant_palavras_Entrega= ll(df_Entrega)\n",
    "quant_palavras_Conteudo= ll(df_Conteudo)\n",
    "quant_palavras_Loja= ll(df_Loja_Sistema)"
   ]
  },
  {
   "cell_type": "code",
   "execution_count": 9,
   "metadata": {},
   "outputs": [],
   "source": [
    "quantidade_total=quant_loja + quant_Conteudo + quant_Entrega\n",
    "def laplace(x,q):\n",
    "    return (x+1)/(q+quantidade_total)"
   ]
  },
  {
   "cell_type": "code",
   "execution_count": 10,
   "metadata": {},
   "outputs": [
    {
     "name": "stdout",
     "output_type": "stream",
     "text": [
<<<<<<< Updated upstream
      "0.015151515151515152\n",
      "0.008130081300813009\n",
      "0.22058823529411764\n",
      "Loja e Sistema\n"
=======
      "0.0008453085376162299\n",
      "0.001184834123222749\n",
      "0.0011668611435239206\n",
      "Entrega\n"
>>>>>>> Stashed changes
     ]
    }
   ],
   "source": [
    "frase=str(input('frase:'))\n",
    "frase=cleanup(frase)\n",
    "frase=remover_acentos(frase)\n",
    "frase=frase.lower()\n",
    "palavras=frase.split(' ')\n",
    "prob_Loja_Sistema=1\n",
    "prob_Entrega=1\n",
    "prob_Conteudo=1\n",
    "for palavra in palavras:\n",
    "    if palavra in quant_palavras_Loja:\n",
    "        prob_Loja_Sistema*=(quant_palavras_Loja[palavra]/quant_loja)\n",
    "    else:\n",
    "        prob_Loja_Sistema*=laplace(0,quant_loja)\n",
    "for palavra in palavras:\n",
    "    if palavra in quant_palavras_Entrega:\n",
    "        prob_Entrega*=(quant_palavras_Entrega[palavra]/quant_Entrega)\n",
    "    else:\n",
    "        prob_Entrega*=laplace(0,quant_Entrega)\n",
    "for palavra in palavras:\n",
    "    if palavra in quant_palavras_Conteudo:\n",
    "        prob_Conteudo*=(quant_palavras_Conteudo[palavra]/quant_Conteudo)\n",
    "    else:\n",
    "        prob_Conteudo*=laplace(0,quant_Conteudo)\n",
    "print(prob_Conteudo)\n",
    "print(prob_Entrega)\n",
    "print(prob_Loja_Sistema)\n",
    "maior_prob=max(prob_Conteudo , prob_Entrega , prob_Loja_Sistema)\n",
    "if maior_prob==prob_Conteudo:\n",
    "    print(\"Conteúdo do Livro\")\n",
    "elif maior_prob==prob_Entrega:\n",
    "    print(\"Entrega\")\n",
    "elif maior_prob==prob_Loja_Sistema:\n",
    "    print(\"Loja e Sistema\")"
   ]
  },
  {
   "cell_type": "code",
<<<<<<< Updated upstream
   "execution_count": 49,
=======
   "execution_count": 11,
>>>>>>> Stashed changes
   "metadata": {},
   "outputs": [
    {
     "data": {
      "text/html": [
       "<div>\n",
       "<style scoped>\n",
       "    .dataframe tbody tr th:only-of-type {\n",
       "        vertical-align: middle;\n",
       "    }\n",
       "\n",
       "    .dataframe tbody tr th {\n",
       "        vertical-align: top;\n",
       "    }\n",
       "\n",
       "    .dataframe thead th {\n",
       "        text-align: right;\n",
       "    }\n",
       "</style>\n",
       "<table border=\"1\" class=\"dataframe\">\n",
       "  <thead>\n",
       "    <tr style=\"text-align: right;\">\n",
       "      <th></th>\n",
       "      <th>Mensagem</th>\n",
       "      <th>Respostas</th>\n",
       "    </tr>\n",
       "  </thead>\n",
       "  <tbody>\n",
       "    <tr>\n",
       "      <th>0</th>\n",
       "      <td>Apesar da narrativa prender o leitor, os argum...</td>\n",
       "      <td>Conteudo</td>\n",
       "    </tr>\n",
       "    <tr>\n",
       "      <th>1</th>\n",
       "      <td>A formatação desse ebook atrapalha muito a lei...</td>\n",
       "      <td>NaN</td>\n",
       "    </tr>\n",
       "    <tr>\n",
       "      <th>2</th>\n",
       "      <td>Não é o primeiro livro da Record que oxida em ...</td>\n",
       "      <td>NaN</td>\n",
       "    </tr>\n",
       "    <tr>\n",
       "      <th>3</th>\n",
       "      <td>O hype que envolve esse livro é ENORME então e...</td>\n",
       "      <td>NaN</td>\n",
       "    </tr>\n",
       "    <tr>\n",
       "      <th>4</th>\n",
       "      <td>meu deus, essa escritora conseguiu estragar um...</td>\n",
       "      <td>NaN</td>\n",
       "    </tr>\n",
       "    <tr>\n",
       "      <th>...</th>\n",
       "      <td>...</td>\n",
       "      <td>...</td>\n",
       "    </tr>\n",
       "    <tr>\n",
       "      <th>245</th>\n",
       "      <td>&lt;a class=\"a-link-normal\" data-hook=\"product-li...</td>\n",
       "      <td>NaN</td>\n",
       "    </tr>\n",
       "    <tr>\n",
       "      <th>246</th>\n",
       "      <td>O livro tem muitas coisas boas sobre o assunto...</td>\n",
       "      <td>NaN</td>\n",
       "    </tr>\n",
       "    <tr>\n",
       "      <th>247</th>\n",
       "      <td>Infelizmente a história é fraca e a escrita de...</td>\n",
       "      <td>NaN</td>\n",
       "    </tr>\n",
       "    <tr>\n",
       "      <th>248</th>\n",
       "      <td>Ao longo do livro me senti extremamente mal ao...</td>\n",
       "      <td>NaN</td>\n",
       "    </tr>\n",
       "    <tr>\n",
       "      <th>249</th>\n",
       "      <td>Apesar do enorme apreço que tenho por Mário S....</td>\n",
       "      <td>NaN</td>\n",
       "    </tr>\n",
       "  </tbody>\n",
       "</table>\n",
       "<p>250 rows × 2 columns</p>\n",
       "</div>"
      ],
      "text/plain": [
       "                                              Mensagem Respostas\n",
       "0    Apesar da narrativa prender o leitor, os argum...  Conteudo\n",
       "1    A formatação desse ebook atrapalha muito a lei...       NaN\n",
       "2    Não é o primeiro livro da Record que oxida em ...       NaN\n",
       "3    O hype que envolve esse livro é ENORME então e...       NaN\n",
       "4    meu deus, essa escritora conseguiu estragar um...       NaN\n",
       "..                                                 ...       ...\n",
       "245  <a class=\"a-link-normal\" data-hook=\"product-li...       NaN\n",
       "246  O livro tem muitas coisas boas sobre o assunto...       NaN\n",
       "247  Infelizmente a história é fraca e a escrita de...       NaN\n",
       "248  Ao longo do livro me senti extremamente mal ao...       NaN\n",
       "249  Apesar do enorme apreço que tenho por Mário S....       NaN\n",
       "\n",
       "[250 rows x 2 columns]"
      ]
     },
<<<<<<< Updated upstream
     "execution_count": 49,
=======
     "execution_count": 11,
>>>>>>> Stashed changes
     "metadata": {},
     "output_type": "execute_result"
    }
   ],
   "source": [
    "def classifica(df):\n",
    "    df_Loja_Sistema=train.loc[train[\"Target (Loja e Sistema, Entrega,Conteudo)\"]=='Loja e Sistema']\n",
    "    df_Entrega=train.loc[train[\"Target (Loja e Sistema, Entrega,Conteudo)\"]=='Entrega']\n",
    "    df_Conteudo=train.loc[train[\"Target (Loja e Sistema, Entrega,Conteudo)\"]=='Conteúdo do Livro']\n",
    "    quant_loja=len(df_Loja_Sistema)\n",
    "    quant_Conteudo=len(df_Conteudo)\n",
    "    quant_Entrega=len(df_Entrega)\n",
    "    quant_palavras_Entrega= ll(df_Entrega)\n",
    "    quant_palavras_Conteudo= ll(df_Conteudo)\n",
    "    quant_palavras_Loja= ll(df_Loja_Sistema)\n",
    "    df['Mensagem']=df['Mensagem'].astype('category')\n",
    "    for frase in df[\"Mensagem\"]:\n",
    "        frase=cleanup(frase)\n",
    "        frase=remover_acentos(frase)\n",
    "        frase=frase.lower()\n",
    "        palavras=frase.split(' ')\n",
    "        prob_Loja_Sistema=1\n",
    "        prob_Entrega=1\n",
    "        prob_Conteudo=1\n",
    "        coluna_de_resposta=[]\n",
    "        for palavra in palavras:\n",
    "            if palavra in quant_palavras_Loja:\n",
    "                prob_Loja_Sistema*=(quant_palavras_Loja[palavra]/quant_loja)\n",
    "            else:\n",
    "                prob_Loja_Sistema*=laplace(0,quant_loja)\n",
    "        for palavra in palavras:\n",
    "            if palavra in quant_palavras_Entrega:\n",
    "                prob_Entrega*=(quant_palavras_Entrega[palavra]/quant_Entrega)\n",
    "            else:\n",
    "                prob_Entrega*=laplace(0,quant_Entrega)\n",
    "        for palavra in palavras:\n",
    "            if palavra in quant_palavras_Conteudo:\n",
    "                prob_Conteudo*=(quant_palavras_Conteudo[palavra]/quant_Conteudo)\n",
    "            else:\n",
    "                prob_Conteudo*=laplace(0,quant_Conteudo)\n",
    "        maior_prob=max(prob_Conteudo , prob_Entrega , prob_Loja_Sistema)\n",
    "        if maior_prob==prob_Conteudo:\n",
    "            coluna_de_resposta.append('Conteudo')\n",
    "        elif maior_prob==prob_Entrega:\n",
    "            coluna_de_resposta.append(\"Entrega\")\n",
    "        elif maior_prob==prob_Loja_Sistema:\n",
    "            coluna_de_resposta.append(\"Loja e Sistema\")\n",
    "        coluna_de_resposta_Series=pd.Series(coluna_de_resposta)\n",
    "        df['Respostas']=coluna_de_resposta_Series\n",
    "        novo_df = pd.concat([df['Mensagem'],df['Respostas']], axis=1)\n",
    "        return novo_df\n",
    "\n",
    "classifica(test)"
   ]
  },
  {
   "cell_type": "markdown",
   "metadata": {},
   "source": [
    "___\n",
    "### Verificando a performance do Classificador\n",
    "\n",
    "Agora você deve testar o seu classificador com a base de Testes."
   ]
  },
  {
   "cell_type": "markdown",
   "metadata": {},
   "source": []
  },
  {
   "cell_type": "code",
   "execution_count": null,
<<<<<<< Updated upstream
=======
   "metadata": {},
   "outputs": [],
   "source": [
    "respostas_do_classificador=classifica(test)\n"
   ]
  },
  {
   "cell_type": "code",
   "execution_count": 16,
>>>>>>> Stashed changes
   "metadata": {},
   "outputs": [],
   "source": []
  },
  {
   "cell_type": "code",
   "execution_count": null,
   "metadata": {},
   "outputs": [],
   "source": []
  },
  {
   "cell_type": "code",
   "execution_count": null,
   "metadata": {},
   "outputs": [],
   "source": []
  },
  {
   "cell_type": "markdown",
   "metadata": {},
   "source": [
    "___\n",
    "### Concluindo"
   ]
  },
  {
   "cell_type": "code",
   "execution_count": null,
   "metadata": {},
   "outputs": [],
   "source": []
  },
  {
   "cell_type": "code",
   "execution_count": null,
   "metadata": {},
   "outputs": [],
   "source": []
  },
  {
   "cell_type": "code",
   "execution_count": null,
   "metadata": {},
   "outputs": [],
   "source": []
  },
  {
   "cell_type": "markdown",
   "metadata": {},
   "source": [
    "___\n",
    "### Qualidade do Classificador a partir de novas separações dos tweets entre Treinamento e Teste\n",
    "\n",
    "Caso for fazer esse item do Projeto"
   ]
  },
  {
   "cell_type": "code",
   "execution_count": null,
   "metadata": {},
   "outputs": [],
   "source": []
  },
  {
   "cell_type": "code",
   "execution_count": null,
   "metadata": {},
   "outputs": [],
   "source": []
  },
  {
   "cell_type": "code",
   "execution_count": null,
   "metadata": {},
   "outputs": [],
   "source": []
  },
  {
   "cell_type": "markdown",
   "metadata": {},
   "source": [
    "___\n",
    "## Aperfeiçoamento:\n",
    "\n",
    "Trabalhos que conseguirem pelo menos conceito B vão evoluir em conceito dependendo da quantidade de itens avançados:\n",
    "\n",
    "* IMPLEMENTOU outras limpezas e transformações que não afetem a qualidade da informação contida nos tweets. Ex: stemming, lemmatization, stopwords\n",
    "* CONSIDEROU mais de duas categorias na variável Target e INCREMENTOU a quantidade de notícias, mantendo pelo menos 250 notícias por categoria (OBRIGATÓRIO PARA TRIOS, sem contar como item avançado)\n",
    "* Para Target com duas categorias: CRIOU pelo menos quatro categorias intermediárias de relevância baseadas na probabilidade: ex.: muito relevante, relevante, neutro, irrelevante, muito irrelevante\n",
    "* EXPLICOU porquê não pode usar o próprio classificador para gerar mais amostras de treinamento\n",
    "* PROPÔS diferentes cenários para Naïve Bayes fora do contexto do projeto (pelo menos dois cenários, exceto aqueles já apresentados em sala pelos professores: por exemplo, filtro de spam)\n",
    "* SUGERIU e EXPLICOU melhorias reais com indicações concretas de como implementar (indicar como fazer e indicar material de pesquisa)\n",
    "* FEZ o item Qualidade do Classificador a partir de novas separações das Notícias entre Treinamento e Teste descrito no enunciado do projeto (OBRIGATÓRIO para conceitos A ou A+)"
   ]
  },
  {
   "cell_type": "markdown",
   "metadata": {},
   "source": [
    "___\n",
    "## Referências"
   ]
  },
  {
   "cell_type": "markdown",
   "metadata": {},
   "source": [
    "[Naive Bayes and Text Classification](https://arxiv.org/pdf/1410.5329.pdf)  **Mais completo**\n",
    "\n",
    "[A practical explanation of a Naive Bayes Classifier](https://monkeylearn.com/blog/practical-explanation-naive-bayes-classifier/) **Mais simples**"
   ]
  },
  {
   "cell_type": "code",
   "execution_count": null,
   "metadata": {},
   "outputs": [],
   "source": []
  }
 ],
 "metadata": {
  "kernelspec": {
   "display_name": "Python 3",
   "language": "python",
   "name": "python3"
  },
  "language_info": {
   "codemirror_mode": {
    "name": "ipython",
    "version": 3
   },
   "file_extension": ".py",
   "mimetype": "text/x-python",
   "name": "python",
   "nbconvert_exporter": "python",
   "pygments_lexer": "ipython3",
   "version": "3.9.13"
  }
 },
 "nbformat": 4,
 "nbformat_minor": 4
}
