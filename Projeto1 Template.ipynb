{
 "cells": [
  {
   "cell_type": "markdown",
   "metadata": {},
   "source": [
    "# Projeto 1 - Ciência dos Dados"
   ]
  },
  {
   "cell_type": "markdown",
   "metadata": {},
   "source": [
    "Nome: Vinícius de Barros Gomes\n",
    "\n",
    "Nome: Gabriel Nakano Fujihara\n",
    "\n",
    "Nome: Pedro Roberto Fernandes Noronha"
   ]
  },
  {
   "cell_type": "markdown",
   "metadata": {},
   "source": [
    "Atenção: Serão permitidos grupos de três pessoas, mas com uma rubrica mais exigente. Grupos deste tamanho precisarão fazer um questionário de avaliação de trabalho em equipe"
   ]
  },
  {
   "cell_type": "markdown",
   "metadata": {},
   "source": [
    "___\n",
    "Carregando algumas bibliotecas:"
   ]
  },
  {
   "cell_type": "code",
   "execution_count": 12,
   "metadata": {},
   "outputs": [],
   "source": [
    "%matplotlib inline\n",
    "import pandas as pd\n",
    "import matplotlib.pyplot as plt\n",
    "import numpy as np\n",
    "import os"
   ]
  },
  {
   "cell_type": "code",
   "execution_count": 13,
   "metadata": {
    "scrolled": false
   },
   "outputs": [
    {
     "name": "stdout",
     "output_type": "stream",
     "text": [
      "Esperamos trabalhar no diretório\n",
      "c:\\dev\\DataScienceProject\n"
     ]
    }
   ],
   "source": [
    "print('Esperamos trabalhar no diretório')\n",
    "print(os.getcwd())"
   ]
  },
  {
   "cell_type": "markdown",
   "metadata": {},
   "source": [
    "Carregando a base de dados com os tweets classificados manualmente:"
   ]
  },
  {
   "cell_type": "code",
   "execution_count": 14,
   "metadata": {},
   "outputs": [
    {
     "data": {
      "text/html": [
       "<div>\n",
       "<style scoped>\n",
       "    .dataframe tbody tr th:only-of-type {\n",
       "        vertical-align: middle;\n",
       "    }\n",
       "\n",
       "    .dataframe tbody tr th {\n",
       "        vertical-align: top;\n",
       "    }\n",
       "\n",
       "    .dataframe thead th {\n",
       "        text-align: right;\n",
       "    }\n",
       "</style>\n",
       "<table border=\"1\" class=\"dataframe\">\n",
       "  <thead>\n",
       "    <tr style=\"text-align: right;\">\n",
       "      <th></th>\n",
       "      <th>Mensagem</th>\n",
       "      <th>Target (Loja e Sistema, Entrega,Conteudo)</th>\n",
       "      <th>Unnamed: 2</th>\n",
       "      <th>Target (neutro, positivo, negativo)</th>\n",
       "    </tr>\n",
       "  </thead>\n",
       "  <tbody>\n",
       "    <tr>\n",
       "      <th>0</th>\n",
       "      <td>Não li, até pq não consegui baixar. Vcs podem ...</td>\n",
       "      <td>Loja e Sistema</td>\n",
       "      <td>NaN</td>\n",
       "      <td>neutro</td>\n",
       "    </tr>\n",
       "    <tr>\n",
       "      <th>1</th>\n",
       "      <td>Não tem nada indicando que é em português de P...</td>\n",
       "      <td>Loja e Sistema</td>\n",
       "      <td>NaN</td>\n",
       "      <td>neutro</td>\n",
       "    </tr>\n",
       "    <tr>\n",
       "      <th>2</th>\n",
       "      <td>Produto horrível, veio com várias páginas em b...</td>\n",
       "      <td>Entrega</td>\n",
       "      <td>NaN</td>\n",
       "      <td>neutro</td>\n",
       "    </tr>\n",
       "    <tr>\n",
       "      <th>3</th>\n",
       "      <td>O minimo é não ler esse livro</td>\n",
       "      <td>Conteúdo do Livro</td>\n",
       "      <td>NaN</td>\n",
       "      <td>negativo</td>\n",
       "    </tr>\n",
       "    <tr>\n",
       "      <th>4</th>\n",
       "      <td>Parece que o autor não leu o próprio livro!! 🙄</td>\n",
       "      <td>Conteúdo do Livro</td>\n",
       "      <td>NaN</td>\n",
       "      <td>negativo</td>\n",
       "    </tr>\n",
       "  </tbody>\n",
       "</table>\n",
       "</div>"
      ],
      "text/plain": [
       "                                            Mensagem  \\\n",
       "0  Não li, até pq não consegui baixar. Vcs podem ...   \n",
       "1  Não tem nada indicando que é em português de P...   \n",
       "2  Produto horrível, veio com várias páginas em b...   \n",
       "3                      O minimo é não ler esse livro   \n",
       "4     Parece que o autor não leu o próprio livro!! 🙄   \n",
       "\n",
       "  Target (Loja e Sistema, Entrega,Conteudo)  Unnamed: 2  \\\n",
       "0                            Loja e Sistema         NaN   \n",
       "1                            Loja e Sistema         NaN   \n",
       "2                                   Entrega         NaN   \n",
       "3                         Conteúdo do Livro         NaN   \n",
       "4                         Conteúdo do Livro         NaN   \n",
       "\n",
       "  Target (neutro, positivo, negativo)  \n",
       "0                              neutro  \n",
       "1                              neutro  \n",
       "2                              neutro  \n",
       "3                            negativo  \n",
       "4                            negativo  "
      ]
     },
     "execution_count": 14,
     "metadata": {},
     "output_type": "execute_result"
    }
   ],
   "source": [
    "train = pd.read_excel('dados_treino.xlsx')\n",
    "train.head(5)"
   ]
  },
  {
   "cell_type": "code",
   "execution_count": 56,
   "metadata": {},
   "outputs": [
    {
     "data": {
      "text/html": [
       "<div>\n",
       "<style scoped>\n",
       "    .dataframe tbody tr th:only-of-type {\n",
       "        vertical-align: middle;\n",
       "    }\n",
       "\n",
       "    .dataframe tbody tr th {\n",
       "        vertical-align: top;\n",
       "    }\n",
       "\n",
       "    .dataframe thead th {\n",
       "        text-align: right;\n",
       "    }\n",
       "</style>\n",
       "<table border=\"1\" class=\"dataframe\">\n",
       "  <thead>\n",
       "    <tr style=\"text-align: right;\">\n",
       "      <th></th>\n",
       "      <th>Mensagem</th>\n",
       "      <th>Target (Neutro, Positivo, Negativo)</th>\n",
       "    </tr>\n",
       "  </thead>\n",
       "  <tbody>\n",
       "    <tr>\n",
       "      <th>0</th>\n",
       "      <td>Apesar da narrativa prender o leitor, os argum...</td>\n",
       "      <td>negativo</td>\n",
       "    </tr>\n",
       "    <tr>\n",
       "      <th>1</th>\n",
       "      <td>A formatação desse ebook atrapalha muito a lei...</td>\n",
       "      <td>neutro</td>\n",
       "    </tr>\n",
       "    <tr>\n",
       "      <th>2</th>\n",
       "      <td>Não é o primeiro livro da Record que oxida em ...</td>\n",
       "      <td>neutro</td>\n",
       "    </tr>\n",
       "    <tr>\n",
       "      <th>3</th>\n",
       "      <td>O hype que envolve esse livro é ENORME então e...</td>\n",
       "      <td>negativo</td>\n",
       "    </tr>\n",
       "    <tr>\n",
       "      <th>4</th>\n",
       "      <td>meu deus, essa escritora conseguiu estragar um...</td>\n",
       "      <td>negativo</td>\n",
       "    </tr>\n",
       "  </tbody>\n",
       "</table>\n",
       "</div>"
      ],
      "text/plain": [
       "                                            Mensagem  \\\n",
       "0  Apesar da narrativa prender o leitor, os argum...   \n",
       "1  A formatação desse ebook atrapalha muito a lei...   \n",
       "2  Não é o primeiro livro da Record que oxida em ...   \n",
       "3  O hype que envolve esse livro é ENORME então e...   \n",
       "4  meu deus, essa escritora conseguiu estragar um...   \n",
       "\n",
       "  Target (Neutro, Positivo, Negativo)  \n",
       "0                            negativo  \n",
       "1                              neutro  \n",
       "2                              neutro  \n",
       "3                            negativo  \n",
       "4                            negativo  "
      ]
     },
     "execution_count": 56,
     "metadata": {},
     "output_type": "execute_result"
    }
   ],
   "source": [
    "test = pd.read_excel('dados_teste.xlsx')\n",
    "test.head(5)"
   ]
  },
  {
   "cell_type": "markdown",
   "metadata": {},
   "source": [
    "___\n",
    "## Classificador automático\n"
   ]
  },
  {
   "cell_type": "markdown",
   "metadata": {},
   "source": [
    "Faça aqui uma descrição do seu assunto e o que considerou como relevante ou não relevante na classificação dos tweets (Target).\n",
    "\n",
    "Buscamos avaliar se os livros oferecidos pela amazon são ou não bons, portanto, foi ignorado quando haviam críticas exclusivamente ao serviço da amazon, como entrega e ou qualidade física do produto."
   ]
  },
  {
   "cell_type": "markdown",
   "metadata": {},
   "source": [
    "___\n",
    "### Montando um Classificador Naive-Bayes\n",
    "\n",
    "Considerando apenas as mensagens da planilha Treinamento, ensine  seu classificador."
   ]
  },
  {
   "cell_type": "code",
   "execution_count": 60,
   "metadata": {},
   "outputs": [
    {
     "data": {
      "text/html": [
       "<div>\n",
       "<style scoped>\n",
       "    .dataframe tbody tr th:only-of-type {\n",
       "        vertical-align: middle;\n",
       "    }\n",
       "\n",
       "    .dataframe tbody tr th {\n",
       "        vertical-align: top;\n",
       "    }\n",
       "\n",
       "    .dataframe thead th {\n",
       "        text-align: right;\n",
       "    }\n",
       "</style>\n",
       "<table border=\"1\" class=\"dataframe\">\n",
       "  <thead>\n",
       "    <tr style=\"text-align: right;\">\n",
       "      <th></th>\n",
       "      <th>Mensagem</th>\n",
       "      <th>Target (Loja e Sistema, Entrega,Conteudo)</th>\n",
       "    </tr>\n",
       "  </thead>\n",
       "  <tbody>\n",
       "    <tr>\n",
       "      <th>0</th>\n",
       "      <td>não li  até pq não consegui baixar  vcs podem ...</td>\n",
       "      <td>Loja e Sistema</td>\n",
       "    </tr>\n",
       "    <tr>\n",
       "      <th>1</th>\n",
       "      <td>não tem nada indicando que é em português de p...</td>\n",
       "      <td>Loja e Sistema</td>\n",
       "    </tr>\n",
       "    <tr>\n",
       "      <th>2</th>\n",
       "      <td>produto horrível  veio com várias páginas em b...</td>\n",
       "      <td>Entrega</td>\n",
       "    </tr>\n",
       "    <tr>\n",
       "      <th>3</th>\n",
       "      <td>o minimo é não ler esse livro</td>\n",
       "      <td>Conteúdo do Livro</td>\n",
       "    </tr>\n",
       "    <tr>\n",
       "      <th>4</th>\n",
       "      <td>parece que o autor não leu o próprio livro!! 🙄</td>\n",
       "      <td>Conteúdo do Livro</td>\n",
       "    </tr>\n",
       "    <tr>\n",
       "      <th>5</th>\n",
       "      <td>a edição é maravilhosa  o preço bom  contudo  ...</td>\n",
       "      <td>Entrega</td>\n",
       "    </tr>\n",
       "  </tbody>\n",
       "</table>\n",
       "</div>"
      ],
      "text/plain": [
       "                                            Mensagem  \\\n",
       "0  não li  até pq não consegui baixar  vcs podem ...   \n",
       "1  não tem nada indicando que é em português de p...   \n",
       "2  produto horrível  veio com várias páginas em b...   \n",
       "3                     o minimo é não ler esse livro    \n",
       "4    parece que o autor não leu o próprio livro!! 🙄    \n",
       "5  a edição é maravilhosa  o preço bom  contudo  ...   \n",
       "\n",
       "  Target (Loja e Sistema, Entrega,Conteudo)  \n",
       "0                            Loja e Sistema  \n",
       "1                            Loja e Sistema  \n",
       "2                                   Entrega  \n",
       "3                         Conteúdo do Livro  \n",
       "4                         Conteúdo do Livro  \n",
       "5                                   Entrega  "
      ]
     },
     "execution_count": 60,
     "metadata": {},
     "output_type": "execute_result"
    }
   ],
   "source": [
    "def filtrador(df):\n",
    "    comentarios = df[\"Mensagem\"]\n",
    "    data_frame =pd.DataFrame({\"Mensagem\":[]})\n",
    "    target=pd.DataFrame({\"Target (Loja e Sistema, Entrega,Conteudo)\":df[\"Target (Loja e Sistema, Entrega,Conteudo)\"]})\n",
    "    for i in comentarios:\n",
    "        frase = i.lower()\n",
    "        frase_lista = list(frase.split(\".\"))\n",
    "        frase_final=\"\"\n",
    "        for e in frase_lista:\n",
    "            u = list(e.split(\",\"))\n",
    "            for w in u:\n",
    "                frase_final+=w\n",
    "                frase_final+=\" \"\n",
    "        data_frame.loc[len(data_frame)] = {\"Mensagem\": frase_final}\n",
    "    x=data_frame[\"Mensagem\"]\n",
    "    y=df[\"Target (Loja e Sistema, Entrega,Conteudo)\"]\n",
    "    final_df=pd.DataFrame({\"Mensagem\":x,\"Target (Loja e Sistema, Entrega,Conteudo)\":y})\n",
    "    return final_df\n",
    "TESTE = filtrador(train)\n",
    "TESTE.head(6)"
   ]
  },
  {
   "cell_type": "code",
   "execution_count": 70,
   "metadata": {},
   "outputs": [
    {
     "name": "stdout",
     "output_type": "stream",
     "text": [
      "                                              Mensagem  \\\n",
      "2    produto horrível  veio com várias páginas em b...   \n",
      "5    a edição é maravilhosa  o preço bom  contudo  ...   \n",
      "6    os livros e suas capas estão ótimos  bonitos e...   \n",
      "17   infelizmente a caixa veio rasgada  a amazon pr...   \n",
      "18   o meu produto veio com defeito: a capa está de...   \n",
      "..                                                 ...   \n",
      "710  fiz a solicitação com embrulho para presente e...   \n",
      "717  primeiramente meu pedido nem veio mas me reemb...   \n",
      "726  o pedido veio rápido  os livros são maravilhos...   \n",
      "727  produto fraco! livro com paginas brancas e let...   \n",
      "744  peço que verifiquem e reparem este erro  acred...   \n",
      "\n",
      "    Target (Loja e Sistema, Entrega,Conteudo)  \n",
      "2                                     Entrega  \n",
      "5                                     Entrega  \n",
      "6                                     Entrega  \n",
      "17                                    Entrega  \n",
      "18                                    Entrega  \n",
      "..                                        ...  \n",
      "710                                   Entrega  \n",
      "717                                   Entrega  \n",
      "726                                   Entrega  \n",
      "727                                   Entrega  \n",
      "744                                   Entrega  \n",
      "\n",
      "[123 rows x 2 columns]\n",
      "6\n",
      "0.0\n"
     ]
    }
   ],
   "source": [
    "def classificador(df):\n",
    "    df = filtrador(df)\n",
    "    palavra=str(input(\"Escreva a palavra ou frase a ser testada\"))\n",
    "    palavra=palavra.lower()\n",
    "    target=str(input(\"Escreva o target\"))\n",
    "    df=df.loc[df[\"Target (Loja e Sistema, Entrega,Conteudo)\"]==target]\n",
    "    print(df)\n",
    "    if \" \" in palavra:\n",
    "        palavra=list(palavra.split(\" \"))\n",
    "    palavras={}\n",
    "    for i in palavra:\n",
    "        palavras[i]=0\n",
    "    probabilidade=1\n",
    "    total=0\n",
    "    aparicoes_da_palavra=0\n",
    "    for i in df[\"Mensagem\"]:\n",
    "        frase= list(i.split(\" \"))\n",
    "        for e in frase:\n",
    "            total+=1\n",
    "            for u in palavras.keys():\n",
    "                if e ==u:\n",
    "                    palavras[u]+=1\n",
    "    for i in palavras.values():\n",
    "        probabilidade*=i/total\n",
    "    print(total)\n",
    "    return probabilidade\n",
    "treino=classificador(train)\n",
    "print(treino)\n",
    "\n",
    "\n"
   ]
  },
  {
   "cell_type": "code",
   "execution_count": null,
   "metadata": {},
   "outputs": [],
   "source": []
  },
  {
   "cell_type": "markdown",
   "metadata": {},
   "source": [
    "___\n",
    "### Verificando a performance do Classificador\n",
    "\n",
    "Agora você deve testar o seu classificador com a base de Testes."
   ]
  },
  {
   "cell_type": "code",
   "execution_count": null,
   "metadata": {},
   "outputs": [],
   "source": []
  },
  {
   "cell_type": "code",
   "execution_count": null,
   "metadata": {},
   "outputs": [],
   "source": []
  },
  {
   "cell_type": "code",
   "execution_count": null,
   "metadata": {},
   "outputs": [],
   "source": []
  },
  {
   "cell_type": "markdown",
   "metadata": {},
   "source": [
    "___\n",
    "### Concluindo"
   ]
  },
  {
   "cell_type": "code",
   "execution_count": null,
   "metadata": {},
   "outputs": [],
   "source": []
  },
  {
   "cell_type": "code",
   "execution_count": null,
   "metadata": {},
   "outputs": [],
   "source": []
  },
  {
   "cell_type": "code",
   "execution_count": null,
   "metadata": {},
   "outputs": [],
   "source": []
  },
  {
   "cell_type": "markdown",
   "metadata": {},
   "source": [
    "___\n",
    "### Qualidade do Classificador a partir de novas separações dos tweets entre Treinamento e Teste\n",
    "\n",
    "Caso for fazer esse item do Projeto"
   ]
  },
  {
   "cell_type": "code",
   "execution_count": null,
   "metadata": {},
   "outputs": [],
   "source": []
  },
  {
   "cell_type": "code",
   "execution_count": null,
   "metadata": {},
   "outputs": [],
   "source": []
  },
  {
   "cell_type": "code",
   "execution_count": null,
   "metadata": {},
   "outputs": [],
   "source": []
  },
  {
   "cell_type": "markdown",
   "metadata": {},
   "source": [
    "___\n",
    "## Aperfeiçoamento:\n",
    "\n",
    "Trabalhos que conseguirem pelo menos conceito B vão evoluir em conceito dependendo da quantidade de itens avançados:\n",
    "\n",
    "* IMPLEMENTOU outras limpezas e transformações que não afetem a qualidade da informação contida nos tweets. Ex: stemming, lemmatization, stopwords\n",
    "* CONSIDEROU mais de duas categorias na variável Target e INCREMENTOU a quantidade de notícias, mantendo pelo menos 250 notícias por categoria (OBRIGATÓRIO PARA TRIOS, sem contar como item avançado)\n",
    "* Para Target com duas categorias: CRIOU pelo menos quatro categorias intermediárias de relevância baseadas na probabilidade: ex.: muito relevante, relevante, neutro, irrelevante, muito irrelevante\n",
    "* EXPLICOU porquê não pode usar o próprio classificador para gerar mais amostras de treinamento\n",
    "* PROPÔS diferentes cenários para Naïve Bayes fora do contexto do projeto (pelo menos dois cenários, exceto aqueles já apresentados em sala pelos professores: por exemplo, filtro de spam)\n",
    "* SUGERIU e EXPLICOU melhorias reais com indicações concretas de como implementar (indicar como fazer e indicar material de pesquisa)\n",
    "* FEZ o item Qualidade do Classificador a partir de novas separações das Notícias entre Treinamento e Teste descrito no enunciado do projeto (OBRIGATÓRIO para conceitos A ou A+)"
   ]
  },
  {
   "cell_type": "markdown",
   "metadata": {},
   "source": [
    "___\n",
    "## Referências"
   ]
  },
  {
   "cell_type": "markdown",
   "metadata": {},
   "source": [
    "[Naive Bayes and Text Classification](https://arxiv.org/pdf/1410.5329.pdf)  **Mais completo**\n",
    "\n",
    "[A practical explanation of a Naive Bayes Classifier](https://monkeylearn.com/blog/practical-explanation-naive-bayes-classifier/) **Mais simples**"
   ]
  },
  {
   "cell_type": "code",
   "execution_count": null,
   "metadata": {},
   "outputs": [],
   "source": []
  }
 ],
 "metadata": {
  "kernelspec": {
   "display_name": "Python 3",
   "language": "python",
   "name": "python3"
  },
  "language_info": {
   "codemirror_mode": {
    "name": "ipython",
    "version": 3
   },
   "file_extension": ".py",
   "mimetype": "text/x-python",
   "name": "python",
   "nbconvert_exporter": "python",
   "pygments_lexer": "ipython3",
   "version": "3.9.13"
  }
 },
 "nbformat": 4,
 "nbformat_minor": 4
}
